{
 "cells": [
  {
   "cell_type": "markdown",
   "id": "81f98a25",
   "metadata": {},
   "source": [
    "# Web Scrapping for M&A Project \n",
    "## Data checking "
   ]
  },
  {
   "cell_type": "markdown",
   "id": "3d0e1563",
   "metadata": {},
   "source": [
    "## Preparations"
   ]
  },
  {
   "cell_type": "code",
   "execution_count": 1,
   "id": "143b826f",
   "metadata": {
    "ExecuteTime": {
     "end_time": "2022-03-22T07:37:42.472789Z",
     "start_time": "2022-03-22T07:37:42.463768Z"
    }
   },
   "outputs": [
    {
     "data": {
      "text/html": [
       "<style>\n",
       "    div#notebook-container    { width: 80%; }\n",
       "    div#menubar-container     { width: 30%; }\n",
       "    div#maintoolbar-container { width: 30%; }\n",
       "</style>\n"
      ],
      "text/plain": [
       "<IPython.core.display.HTML object>"
      ]
     },
     "metadata": {},
     "output_type": "display_data"
    }
   ],
   "source": [
    "%%HTML\n",
    "<style>\n",
    "    div#notebook-container    { width: 80%; }\n",
    "    div#menubar-container     { width: 30%; }\n",
    "    div#maintoolbar-container { width: 30%; }\n",
    "</style>"
   ]
  },
  {
   "cell_type": "code",
   "execution_count": 2,
   "id": "36a657a9",
   "metadata": {
    "ExecuteTime": {
     "end_time": "2022-03-22T07:37:43.083530Z",
     "start_time": "2022-03-22T07:37:43.077735Z"
    }
   },
   "outputs": [
    {
     "data": {
      "text/html": [
       "<style type='text/css'>\n",
       ".CodeMirror{\n",
       "font-size: 17px;\n",
       "}\n",
       ".CodeMirror pre {font-family: victor; font-size: 9pt;}\n",
       "</style>\n"
      ],
      "text/plain": [
       "<IPython.core.display.HTML object>"
      ]
     },
     "metadata": {},
     "output_type": "display_data"
    }
   ],
   "source": [
    "%%html\n",
    "<style type='text/css'>\n",
    ".CodeMirror{\n",
    "font-size: 17px;\n",
    "}\n",
    ".CodeMirror pre {font-family: victor; font-size: 9pt;}\n",
    "</style>"
   ]
  },
  {
   "cell_type": "code",
   "execution_count": 3,
   "id": "6f1a4a5e",
   "metadata": {
    "ExecuteTime": {
     "end_time": "2022-03-22T07:37:43.874824Z",
     "start_time": "2022-03-22T07:37:43.870949Z"
    }
   },
   "outputs": [
    {
     "data": {
      "text/html": [
       "<style>\n",
       ":root {\n",
       "  --jp-code-font-family: \"VictorMono NF\";\n",
       "}\n",
       "</style>\n"
      ],
      "text/plain": [
       "<IPython.core.display.HTML object>"
      ]
     },
     "metadata": {},
     "output_type": "display_data"
    }
   ],
   "source": [
    "%%html\n",
    "<style>\n",
    ":root {\n",
    "  --jp-code-font-family: \"VictorMono NF\";\n",
    "}\n",
    "</style>"
   ]
  },
  {
   "cell_type": "code",
   "execution_count": 4,
   "id": "c868e944",
   "metadata": {
    "ExecuteTime": {
     "end_time": "2022-03-22T07:37:44.149969Z",
     "start_time": "2022-03-22T07:37:44.143970Z"
    }
   },
   "outputs": [],
   "source": [
    "import os, sys\n",
    "import pickle \n",
    "from rich import print as rprint "
   ]
  },
  {
   "cell_type": "code",
   "execution_count": 5,
   "id": "c821cc2f",
   "metadata": {
    "ExecuteTime": {
     "end_time": "2022-03-22T07:37:44.407721Z",
     "start_time": "2022-03-22T07:37:44.331044Z"
    }
   },
   "outputs": [
    {
     "data": {
      "text/html": [
       "<pre style=\"white-space:pre;overflow-x:auto;line-height:normal;font-family:Menlo,'DejaVu Sans Mono',consolas,'Courier New',monospace\"><span style=\"color: #800080; text-decoration-color: #800080\">/Users/ghasak.ibrahim/Desktop/</span><span style=\"color: #ff00ff; text-decoration-color: #ff00ff\">MAWebScrapping</span>\n",
       "</pre>\n"
      ],
      "text/plain": [
       "<rich.jupyter.JupyterRenderable at 0x7fc9ea19e7c0>"
      ]
     },
     "metadata": {},
     "output_type": "display_data"
    }
   ],
   "source": [
    "rprint(os.getcwd())"
   ]
  },
  {
   "cell_type": "code",
   "execution_count": 6,
   "id": "b3cb2da9",
   "metadata": {
    "ExecuteTime": {
     "end_time": "2022-03-22T07:37:45.293222Z",
     "start_time": "2022-03-22T07:37:44.651351Z"
    }
   },
   "outputs": [],
   "source": [
    "with open(\"/Users/ghasak.ibrahim/Desktop/MAWebScrapping/database/disclosureProcessedData/parsedConverated/Batch_1/Global_DataFrame_up_to_batch_1.pickle\", mode = 'rb') as handle:\n",
    "    df = pickle.load(handle)"
   ]
  },
  {
   "cell_type": "code",
   "execution_count": 7,
   "id": "4f7a4b98",
   "metadata": {
    "ExecuteTime": {
     "end_time": "2022-03-22T07:37:45.356831Z",
     "start_time": "2022-03-22T07:37:45.334148Z"
    }
   },
   "outputs": [
    {
     "data": {
      "text/html": [
       "<div>\n",
       "<style scoped>\n",
       "    .dataframe tbody tr th:only-of-type {\n",
       "        vertical-align: middle;\n",
       "    }\n",
       "\n",
       "    .dataframe tbody tr th {\n",
       "        vertical-align: top;\n",
       "    }\n",
       "\n",
       "    .dataframe thead th {\n",
       "        text-align: right;\n",
       "    }\n",
       "</style>\n",
       "<table border=\"1\" class=\"dataframe\">\n",
       "  <thead>\n",
       "    <tr style=\"text-align: right;\">\n",
       "      <th></th>\n",
       "      <th>symbol</th>\n",
       "      <th>globalArticleIndex</th>\n",
       "      <th>relativeArticleIndex</th>\n",
       "      <th>pageIndex</th>\n",
       "      <th>mainWebPage</th>\n",
       "      <th>mainLinkList</th>\n",
       "      <th>linkDateList</th>\n",
       "      <th>linkTitleList</th>\n",
       "      <th>articlesLinksList</th>\n",
       "      <th>timestamp</th>\n",
       "      <th>pdfName</th>\n",
       "      <th>content</th>\n",
       "    </tr>\n",
       "  </thead>\n",
       "  <tbody>\n",
       "    <tr>\n",
       "      <th>0</th>\n",
       "      <td>1332</td>\n",
       "      <td>1</td>\n",
       "      <td>1</td>\n",
       "      <td>1</td>\n",
       "      <td>https://www.nikkei.com/nkd/company/disclose/?s...</td>\n",
       "      <td>https://www.nikkei.com/nkd/company/disclose/?s...</td>\n",
       "      <td>22/2/28 17:10</td>\n",
       "      <td>持分法適用関連会社株式に対する公開買付けに係る応募契約締結に関するお知らせ</td>\n",
       "      <td>https://www.nikkei.com/markets/company/sys/red...</td>\n",
       "      <td>2022-02-28 17:10:00</td>\n",
       "      <td>Firm_1332_n1_k1_p1_TS_2022_03_13_02_02_44</td>\n",
       "      <td>\\n\\n2022 年２月 28 日 \\n\\n各      位 \\n\\n          ...</td>\n",
       "    </tr>\n",
       "    <tr>\n",
       "      <th>1</th>\n",
       "      <td>1332</td>\n",
       "      <td>2</td>\n",
       "      <td>2</td>\n",
       "      <td>1</td>\n",
       "      <td>https://www.nikkei.com/nkd/company/disclose/?s...</td>\n",
       "      <td>https://www.nikkei.com/nkd/company/disclose/?s...</td>\n",
       "      <td>22/2/15 11:00</td>\n",
       "      <td>法定事前開示書類（吸収分割）（弓ヶ浜水産株式会社）</td>\n",
       "      <td>https://www.nikkei.com/markets/company/sys/red...</td>\n",
       "      <td>2022-02-15 11:00:00</td>\n",
       "      <td>Firm_1332_n2_k2_p1_TS_2022_03_13_02_02_50</td>\n",
       "      <td>\\n\\n \\n\\n \\n\\n \\n\\n \\n\\n \\n\\n \\n\\n \\n\\n \\n\\n ...</td>\n",
       "    </tr>\n",
       "    <tr>\n",
       "      <th>2</th>\n",
       "      <td>1332</td>\n",
       "      <td>3</td>\n",
       "      <td>3</td>\n",
       "      <td>1</td>\n",
       "      <td>https://www.nikkei.com/nkd/company/disclose/?s...</td>\n",
       "      <td>https://www.nikkei.com/nkd/company/disclose/?s...</td>\n",
       "      <td>22/2/4 13:00</td>\n",
       "      <td>2022年３月期　第３四半期決算　決算短信補足資料</td>\n",
       "      <td>https://www.nikkei.com/markets/company/sys/red...</td>\n",
       "      <td>2022-02-04 13:00:00</td>\n",
       "      <td>Firm_1332_n3_k3_p1_TS_2022_03_13_02_02_56</td>\n",
       "      <td>2022年３⽉期 第３四半期\\n\\n決算短信補⾜資料\\n\\n（注）「収益認識に関する会計基準...</td>\n",
       "    </tr>\n",
       "    <tr>\n",
       "      <th>3</th>\n",
       "      <td>1332</td>\n",
       "      <td>4</td>\n",
       "      <td>4</td>\n",
       "      <td>1</td>\n",
       "      <td>https://www.nikkei.com/nkd/company/disclose/?s...</td>\n",
       "      <td>https://www.nikkei.com/nkd/company/disclose/?s...</td>\n",
       "      <td>22/2/4 13:00</td>\n",
       "      <td>特別損失（減損損失）の計上に関するお知らせ</td>\n",
       "      <td>https://www.nikkei.com/markets/company/sys/red...</td>\n",
       "      <td>2022-02-04 13:00:00</td>\n",
       "      <td>Firm_1332_n4_k4_p1_TS_2022_03_13_02_03_01</td>\n",
       "      <td>\\n\\n \\n\\n \\n\\n \\n\\n \\n\\n \\n\\n2022 年２月４日 \\n\\n各...</td>\n",
       "    </tr>\n",
       "    <tr>\n",
       "      <th>4</th>\n",
       "      <td>1332</td>\n",
       "      <td>5</td>\n",
       "      <td>5</td>\n",
       "      <td>1</td>\n",
       "      <td>https://www.nikkei.com/nkd/company/disclose/?s...</td>\n",
       "      <td>https://www.nikkei.com/nkd/company/disclose/?s...</td>\n",
       "      <td>22/2/4 13:00</td>\n",
       "      <td>2022年３月期　第３四半期決算短信〔日本基準〕（連結）</td>\n",
       "      <td>https://www.nikkei.com/markets/company/sys/red...</td>\n",
       "      <td>2022-02-04 13:00:00</td>\n",
       "      <td>Firm_1332_n5_k5_p1_TS_2022_03_13_02_03_07</td>\n",
       "      <td>2022年３月期第３四半期決算短信〔日本基準〕(連結)2022年２月４日上場会社名日本水産株...</td>\n",
       "    </tr>\n",
       "  </tbody>\n",
       "</table>\n",
       "</div>"
      ],
      "text/plain": [
       "  symbol globalArticleIndex relativeArticleIndex pageIndex  \\\n",
       "0   1332                  1                    1         1   \n",
       "1   1332                  2                    2         1   \n",
       "2   1332                  3                    3         1   \n",
       "3   1332                  4                    4         1   \n",
       "4   1332                  5                    5         1   \n",
       "\n",
       "                                         mainWebPage  \\\n",
       "0  https://www.nikkei.com/nkd/company/disclose/?s...   \n",
       "1  https://www.nikkei.com/nkd/company/disclose/?s...   \n",
       "2  https://www.nikkei.com/nkd/company/disclose/?s...   \n",
       "3  https://www.nikkei.com/nkd/company/disclose/?s...   \n",
       "4  https://www.nikkei.com/nkd/company/disclose/?s...   \n",
       "\n",
       "                                        mainLinkList   linkDateList  \\\n",
       "0  https://www.nikkei.com/nkd/company/disclose/?s...  22/2/28 17:10   \n",
       "1  https://www.nikkei.com/nkd/company/disclose/?s...  22/2/15 11:00   \n",
       "2  https://www.nikkei.com/nkd/company/disclose/?s...   22/2/4 13:00   \n",
       "3  https://www.nikkei.com/nkd/company/disclose/?s...   22/2/4 13:00   \n",
       "4  https://www.nikkei.com/nkd/company/disclose/?s...   22/2/4 13:00   \n",
       "\n",
       "                           linkTitleList  \\\n",
       "0  持分法適用関連会社株式に対する公開買付けに係る応募契約締結に関するお知らせ   \n",
       "1              法定事前開示書類（吸収分割）（弓ヶ浜水産株式会社）   \n",
       "2              2022年３月期　第３四半期決算　決算短信補足資料   \n",
       "3                  特別損失（減損損失）の計上に関するお知らせ   \n",
       "4           2022年３月期　第３四半期決算短信〔日本基準〕（連結）   \n",
       "\n",
       "                                   articlesLinksList            timestamp  \\\n",
       "0  https://www.nikkei.com/markets/company/sys/red...  2022-02-28 17:10:00   \n",
       "1  https://www.nikkei.com/markets/company/sys/red...  2022-02-15 11:00:00   \n",
       "2  https://www.nikkei.com/markets/company/sys/red...  2022-02-04 13:00:00   \n",
       "3  https://www.nikkei.com/markets/company/sys/red...  2022-02-04 13:00:00   \n",
       "4  https://www.nikkei.com/markets/company/sys/red...  2022-02-04 13:00:00   \n",
       "\n",
       "                                     pdfName  \\\n",
       "0  Firm_1332_n1_k1_p1_TS_2022_03_13_02_02_44   \n",
       "1  Firm_1332_n2_k2_p1_TS_2022_03_13_02_02_50   \n",
       "2  Firm_1332_n3_k3_p1_TS_2022_03_13_02_02_56   \n",
       "3  Firm_1332_n4_k4_p1_TS_2022_03_13_02_03_01   \n",
       "4  Firm_1332_n5_k5_p1_TS_2022_03_13_02_03_07   \n",
       "\n",
       "                                             content  \n",
       "0   \\n\\n2022 年２月 28 日 \\n\\n各      位 \\n\\n          ...  \n",
       "1   \\n\\n \\n\\n \\n\\n \\n\\n \\n\\n \\n\\n \\n\\n \\n\\n \\n\\n ...  \n",
       "2  2022年３⽉期 第３四半期\\n\\n決算短信補⾜資料\\n\\n（注）「収益認識に関する会計基準...  \n",
       "3   \\n\\n \\n\\n \\n\\n \\n\\n \\n\\n \\n\\n2022 年２月４日 \\n\\n各...  \n",
       "4  2022年３月期第３四半期決算短信〔日本基準〕(連結)2022年２月４日上場会社名日本水産株...  "
      ]
     },
     "execution_count": 7,
     "metadata": {},
     "output_type": "execute_result"
    }
   ],
   "source": [
    "df.head()"
   ]
  },
  {
   "cell_type": "code",
   "execution_count": 35,
   "id": "da900ebe",
   "metadata": {
    "ExecuteTime": {
     "end_time": "2022-03-14T07:49:47.473948Z",
     "start_time": "2022-03-14T07:49:47.461602Z"
    }
   },
   "outputs": [],
   "source": [
    "df.set_index(['symbol','timestamp'], inplace = True)"
   ]
  },
  {
   "cell_type": "code",
   "execution_count": 36,
   "id": "1a87f9b8",
   "metadata": {
    "ExecuteTime": {
     "end_time": "2022-03-14T07:49:48.331796Z",
     "start_time": "2022-03-14T07:49:48.325605Z"
    }
   },
   "outputs": [
    {
     "data": {
      "text/html": [
       "<pre style=\"white-space:pre;overflow-x:auto;line-height:normal;font-family:Menlo,'DejaVu Sans Mono',consolas,'Courier New',monospace\"><span style=\"color: #000080; text-decoration-color: #000080; font-weight: bold\">330</span>\n",
       "</pre>\n"
      ],
      "text/plain": [
       "<rich.jupyter.JupyterRenderable at 0x7f8e18e3c8e0>"
      ]
     },
     "metadata": {},
     "output_type": "display_data"
    }
   ],
   "source": [
    "rprint(df.size)"
   ]
  },
  {
   "cell_type": "code",
   "execution_count": 37,
   "id": "6e20a996",
   "metadata": {
    "ExecuteTime": {
     "end_time": "2022-03-14T07:49:52.027167Z",
     "start_time": "2022-03-14T07:49:52.022453Z"
    }
   },
   "outputs": [
    {
     "data": {
      "text/html": [
       "<pre style=\"white-space:pre;overflow-x:auto;line-height:normal;font-family:Menlo,'DejaVu Sans Mono',consolas,'Courier New',monospace\"><span style=\"font-weight: bold\">(</span><span style=\"color: #000080; text-decoration-color: #000080; font-weight: bold\">33</span>, <span style=\"color: #000080; text-decoration-color: #000080; font-weight: bold\">10</span><span style=\"font-weight: bold\">)</span>\n",
       "</pre>\n"
      ],
      "text/plain": [
       "<rich.jupyter.JupyterRenderable at 0x7f8e587075e0>"
      ]
     },
     "metadata": {},
     "output_type": "display_data"
    }
   ],
   "source": [
    "rprint(df.shape)"
   ]
  },
  {
   "cell_type": "code",
   "execution_count": 17,
   "id": "fd1e75ae",
   "metadata": {
    "ExecuteTime": {
     "end_time": "2022-03-14T07:28:25.114832Z",
     "start_time": "2022-03-14T07:28:25.106897Z"
    }
   },
   "outputs": [
    {
     "data": {
      "text/plain": [
       "MultiIndex([('1824', '1824-01-01 00:00:00'),\n",
       "            ('1883', '1883-01-01 00:00:00'),\n",
       "            ('1911', '2022-03-08 08:00:00'),\n",
       "            ('1911', '2022-03-01 08:00:00'),\n",
       "            ('1911', '2022-03-01 08:00:00'),\n",
       "            ('1911', '2022-03-01 08:00:00'),\n",
       "            ('1911', '2022-03-01 08:00:00'),\n",
       "            ('1911', '2022-02-28 17:00:00'),\n",
       "            ('1911', '2022-02-28 16:55:00'),\n",
       "            ('1911', '2022-02-14 15:00:00'),\n",
       "            ...\n",
       "            ('2130', '2022-01-04 17:00:00'),\n",
       "            ('2130', '2021-12-21 10:43:00'),\n",
       "            ('2130', '2021-12-17 17:40:00'),\n",
       "            ('2130', '2021-11-09 17:00:00'),\n",
       "            ('2130', '2021-10-29 15:00:00'),\n",
       "            ('2130', '2021-10-29 15:00:00'),\n",
       "            ('2130', '2021-10-29 15:00:00'),\n",
       "            ('2130', '2021-10-21 17:00:00'),\n",
       "            ('2130', '2021-09-30 15:00:00'),\n",
       "            ('2130', '2021-08-27 17:00:00')],\n",
       "           names=['symbol', 'timestamp'], length=390)"
      ]
     },
     "execution_count": 17,
     "metadata": {},
     "output_type": "execute_result"
    }
   ],
   "source": [
    "df.index"
   ]
  },
  {
   "cell_type": "code",
   "execution_count": 31,
   "id": "92ed9a13",
   "metadata": {
    "ExecuteTime": {
     "end_time": "2022-03-14T07:47:39.265810Z",
     "start_time": "2022-03-14T07:47:39.261322Z"
    }
   },
   "outputs": [],
   "source": [
    "df.set_index(['symbol','timestamp'], inplace = True)\n"
   ]
  },
  {
   "cell_type": "code",
   "execution_count": 32,
   "id": "05061224",
   "metadata": {
    "ExecuteTime": {
     "end_time": "2022-03-14T07:47:40.368401Z",
     "start_time": "2022-03-14T07:47:40.354395Z"
    }
   },
   "outputs": [
    {
     "data": {
      "text/plain": [
       "(33, 10)"
      ]
     },
     "execution_count": 32,
     "metadata": {},
     "output_type": "execute_result"
    }
   ],
   "source": [
    "df.shape"
   ]
  },
  {
   "cell_type": "markdown",
   "id": "f07d7696",
   "metadata": {},
   "source": [
    "## Data Aggregation and Handling "
   ]
  },
  {
   "cell_type": "code",
   "execution_count": 8,
   "id": "a4c4f7ea",
   "metadata": {
    "ExecuteTime": {
     "end_time": "2022-03-22T07:39:50.900578Z",
     "start_time": "2022-03-22T07:39:50.656387Z"
    }
   },
   "outputs": [],
   "source": [
    "from src.helper.companieStats import loadingSymbols\n",
    "from collections import defaultdict\n",
    "import pandas as pd"
   ]
  },
  {
   "cell_type": "code",
   "execution_count": 5,
   "id": "ed0fdc4a",
   "metadata": {
    "ExecuteTime": {
     "end_time": "2022-03-14T09:29:00.175435Z",
     "start_time": "2022-03-14T09:29:00.166352Z"
    }
   },
   "outputs": [],
   "source": [
    "symbolsList = list(loadingSymbols().keys())"
   ]
  },
  {
   "cell_type": "code",
   "execution_count": 6,
   "id": "bd7ec979",
   "metadata": {
    "ExecuteTime": {
     "end_time": "2022-03-14T09:29:00.899189Z",
     "start_time": "2022-03-14T09:29:00.891566Z"
    }
   },
   "outputs": [],
   "source": [
    "L = loadingSymbols()\n",
    "chunk = 100\n",
    "chunkCount  = 0\n",
    "chunkOrder = defaultdict(list)\n",
    "for i in range(0, len(symbolsList), chunk):\n",
    "    chunkCount += 1\n",
    "    #rprint(f\"[[green]\\uf00c[reset]] Now Running: [blue]{chunkCount}[reset]/[blue]{int(len(symbolsList)/chunk)+1}\")\n",
    "    batchSize = symbolsList[i : i + chunk]\n",
    "    chunkOrder[f\"{chunkCount}\"] = batchSize"
   ]
  },
  {
   "cell_type": "code",
   "execution_count": 7,
   "id": "61131b67",
   "metadata": {
    "ExecuteTime": {
     "end_time": "2022-03-14T09:29:01.689146Z",
     "start_time": "2022-03-14T09:29:01.686502Z"
    }
   },
   "outputs": [],
   "source": [
    "Batch_1_Symbol_list = chunkOrder['1']"
   ]
  },
  {
   "cell_type": "code",
   "execution_count": 8,
   "id": "f014b5cd",
   "metadata": {
    "ExecuteTime": {
     "end_time": "2022-03-14T09:29:02.662298Z",
     "start_time": "2022-03-14T09:29:02.658612Z"
    }
   },
   "outputs": [],
   "source": [
    "rawList = os.listdir(\"./database/disclosureProcessedData/parsedConverated\")\n"
   ]
  },
  {
   "cell_type": "code",
   "execution_count": 9,
   "id": "001a486d",
   "metadata": {
    "ExecuteTime": {
     "end_time": "2022-03-14T09:29:03.820551Z",
     "start_time": "2022-03-14T09:29:03.606392Z"
    }
   },
   "outputs": [],
   "source": [
    "dfTotal_Batch_1_list = []\n",
    "\n",
    "for symbol in Batch_1_Symbol_list:\n",
    "    if os.path.exists(f\"./database/disclosureProcessedData/parsedConverated/{symbol}\"):\n",
    "        with open(f\"./database/disclosureProcessedData/parsedConverated/{symbol}/{symbol}_DataFrame.pickle\", mode = 'rb') as handle: \n",
    "            df = pickle.load(handle)\n",
    "        dfTotal_Batch_1_list.append(df)\n",
    "        "
   ]
  },
  {
   "cell_type": "code",
   "execution_count": 10,
   "id": "f7d314d6",
   "metadata": {
    "ExecuteTime": {
     "end_time": "2022-03-14T09:29:10.254440Z",
     "start_time": "2022-03-14T09:29:10.201395Z"
    }
   },
   "outputs": [],
   "source": [
    "df_Batch_1 = pd.concat(dfTotal_Batch_1_list, axis = 'rows')"
   ]
  },
  {
   "cell_type": "code",
   "execution_count": 11,
   "id": "6b8a36aa",
   "metadata": {
    "ExecuteTime": {
     "end_time": "2022-03-14T09:29:18.261734Z",
     "start_time": "2022-03-14T09:29:18.255341Z"
    }
   },
   "outputs": [],
   "source": [
    "df_Batch_1.set_index(['symbol','timestamp'], inplace = True)"
   ]
  },
  {
   "cell_type": "code",
   "execution_count": 12,
   "id": "4f44e58e",
   "metadata": {
    "ExecuteTime": {
     "end_time": "2022-03-14T09:29:24.991154Z",
     "start_time": "2022-03-14T09:29:24.985834Z"
    }
   },
   "outputs": [
    {
     "data": {
      "text/html": [
       "<pre style=\"white-space:pre;overflow-x:auto;line-height:normal;font-family:Menlo,'DejaVu Sans Mono',consolas,'Courier New',monospace\"><span style=\"font-weight: bold\">(</span><span style=\"color: #000080; text-decoration-color: #000080; font-weight: bold\">1601</span>, <span style=\"color: #000080; text-decoration-color: #000080; font-weight: bold\">10</span><span style=\"font-weight: bold\">)</span>\n",
       "<span style=\"color: #000080; text-decoration-color: #000080; font-weight: bold\">16010</span>\n",
       "</pre>\n"
      ],
      "text/plain": [
       "<rich.jupyter.JupyterRenderable at 0x7fcbb0730c40>"
      ]
     },
     "metadata": {},
     "output_type": "display_data"
    }
   ],
   "source": [
    "rprint(df_Batch_1.shape, df_Batch_1.size)"
   ]
  },
  {
   "cell_type": "code",
   "execution_count": 13,
   "id": "d7905d19",
   "metadata": {
    "ExecuteTime": {
     "end_time": "2022-03-14T09:29:32.103578Z",
     "start_time": "2022-03-14T09:29:32.097235Z"
    }
   },
   "outputs": [
    {
     "data": {
      "text/plain": [
       "globalArticleIndex                                                     14\n",
       "relativeArticleIndex                                                   14\n",
       "pageIndex                                                               1\n",
       "mainWebPage             https://www.nikkei.com/nkd/company/disclose/?s...\n",
       "mainLinkList            https://www.nikkei.com/nkd/company/disclose/?s...\n",
       "linkDateList                                                21/8/13 15:30\n",
       "linkTitleList                                       法人税等調整額（益）の計上に関するお知らせ\n",
       "articlesLinksList       https://www.nikkei.com/markets/company/sys/red...\n",
       "pdfName                       Firm_2196_n14_k14_p1_TS_2022_03_14_17_55_22\n",
       "content                  \\n2021 年８月 13 日 \\n\\n会 社 名  株 式 会 社 エ ス ク リ \\n...\n",
       "Name: (2196, 2021-08-13 15:30:00), dtype: object"
      ]
     },
     "execution_count": 13,
     "metadata": {},
     "output_type": "execute_result"
    }
   ],
   "source": [
    "df_Batch_1.iloc[-1]"
   ]
  },
  {
   "cell_type": "code",
   "execution_count": 43,
   "id": "ce87ac8b",
   "metadata": {
    "ExecuteTime": {
     "end_time": "2022-03-15T03:05:59.292831Z",
     "start_time": "2022-03-15T03:05:59.275654Z"
    }
   },
   "outputs": [],
   "source": [
    "import pdb\n",
    "from rich.console import Console\n",
    "console = Console()\n"
   ]
  },
  {
   "cell_type": "code",
   "execution_count": 64,
   "id": "d9a2c09a",
   "metadata": {
    "ExecuteTime": {
     "end_time": "2022-03-14T10:01:36.796572Z",
     "start_time": "2022-03-14T10:01:36.523878Z"
    }
   },
   "outputs": [
    {
     "data": {
      "text/html": [
       "<pre style=\"white-space:pre;overflow-x:auto;line-height:normal;font-family:Menlo,'DejaVu Sans Mono',consolas,'Courier New',monospace\"><span style=\"color: #7fbfbf; text-decoration-color: #7fbfbf\">[19:01:36] </span><span style=\"font-weight: bold\">[</span><span style=\"color: #800080; text-decoration-color: #800080\"></span><span style=\"color: #000000; text-decoration-color: #000000; background-color: #ffffff\">] Percentage of processed data articles </span>      <span style=\"color: #7f7f7f; text-decoration-color: #7f7f7f\">&lt;ipython-input-63-63d1ce1d4e2e&gt;:36</span>\n",
       "           <span style=\"color: #000000; text-decoration-color: #000000; background-color: #ffffff\">companies so far: </span><span style=\"color: #000080; text-decoration-color: #000080; background-color: #ffffff\">96.0</span><span style=\"color: #000000; text-decoration-color: #000000; background-color: #ffffff\"> %, resets will be </span>                                         \n",
       "           <span style=\"color: #000000; text-decoration-color: #000000; background-color: #ffffff\">process momentarily.</span>                                                              \n",
       "</pre>\n"
      ],
      "text/plain": [
       "<rich.jupyter.JupyterRenderable at 0x7fcbb0b2b490>"
      ]
     },
     "metadata": {},
     "output_type": "display_data"
    }
   ],
   "source": [
    "df = LoadPreviousWork(BATCHNUM = '1')"
   ]
  },
  {
   "cell_type": "code",
   "execution_count": 49,
   "id": "dc582bc6",
   "metadata": {
    "ExecuteTime": {
     "end_time": "2022-03-14T09:48:48.224608Z",
     "start_time": "2022-03-14T09:48:48.220433Z"
    }
   },
   "outputs": [
    {
     "data": {
      "text/html": [
       "<pre style=\"white-space:pre;overflow-x:auto;line-height:normal;font-family:Menlo,'DejaVu Sans Mono',consolas,'Courier New',monospace\"><span style=\"font-weight: bold\">(</span><span style=\"color: #000080; text-decoration-color: #000080; font-weight: bold\">1601</span>, <span style=\"color: #000080; text-decoration-color: #000080; font-weight: bold\">12</span><span style=\"font-weight: bold\">)</span>\n",
       "<span style=\"color: #000080; text-decoration-color: #000080; font-weight: bold\">19212</span>\n",
       "</pre>\n"
      ],
      "text/plain": [
       "<rich.jupyter.JupyterRenderable at 0x7fcba25568b0>"
      ]
     },
     "metadata": {},
     "output_type": "display_data"
    }
   ],
   "source": [
    "rprint(df.shape, df.size)"
   ]
  },
  {
   "cell_type": "code",
   "execution_count": 44,
   "id": "74106a40",
   "metadata": {
    "ExecuteTime": {
     "end_time": "2022-03-14T09:41:30.658214Z",
     "start_time": "2022-03-14T09:41:30.652577Z"
    }
   },
   "outputs": [
    {
     "data": {
      "text/plain": [
       "'96.0%'"
      ]
     },
     "execution_count": 44,
     "metadata": {},
     "output_type": "execute_result"
    }
   ],
   "source": [
    "rawList = os.listdir(\"./database/disclosureProcessedData/parsedConverated\")\n",
    "mask = [x in Batch_1_Symbol_list  for x in rawList]\n",
    "\n",
    "L = list(filter(lambda x:x in rawList, Batch_1_Symbol_list))\n",
    "f\"{len(L)/len(Batch_1_Symbol_list) * 100}%\""
   ]
  },
  {
   "cell_type": "code",
   "execution_count": 70,
   "id": "7c2725c2",
   "metadata": {
    "ExecuteTime": {
     "end_time": "2022-03-14T10:54:41.835117Z",
     "start_time": "2022-03-14T10:54:41.830206Z"
    }
   },
   "outputs": [
    {
     "data": {
      "text/html": [
       "<pre style=\"white-space:pre;overflow-x:auto;line-height:normal;font-family:Menlo,'DejaVu Sans Mono',consolas,'Courier New',monospace\">the list L is empty\n",
       "</pre>\n"
      ],
      "text/plain": [
       "<rich.jupyter.JupyterRenderable at 0x7fcbc31935e0>"
      ]
     },
     "metadata": {},
     "output_type": "display_data"
    }
   ],
   "source": [
    "L = []\n",
    "if len(L) == 0:\n",
    "    rprint(\"the list L is empty\")"
   ]
  },
  {
   "cell_type": "code",
   "execution_count": 71,
   "id": "1b6200fd",
   "metadata": {
    "ExecuteTime": {
     "end_time": "2022-03-14T10:57:57.973081Z",
     "start_time": "2022-03-14T10:57:57.619815Z"
    }
   },
   "outputs": [
    {
     "data": {
      "text/html": [
       "<pre style=\"white-space:pre;overflow-x:auto;line-height:normal;font-family:Menlo,'DejaVu Sans Mono',consolas,'Courier New',monospace\"><span style=\"color: #7fbfbf; text-decoration-color: #7fbfbf\">[19:57:57] </span><span style=\"font-weight: bold\">[</span><span style=\"color: #800080; text-decoration-color: #800080\"></span><span style=\"color: #000000; text-decoration-color: #000000; background-color: #ffffff\">] Percentage of processed data articles </span>      <span style=\"color: #7f7f7f; text-decoration-color: #7f7f7f\">&lt;ipython-input-63-63d1ce1d4e2e&gt;:36</span>\n",
       "           <span style=\"color: #000000; text-decoration-color: #000000; background-color: #ffffff\">companies so far: </span><span style=\"color: #000080; text-decoration-color: #000080; background-color: #ffffff\">100.0</span><span style=\"color: #000000; text-decoration-color: #000000; background-color: #ffffff\"> %, resets will be </span>                                        \n",
       "           <span style=\"color: #000000; text-decoration-color: #000000; background-color: #ffffff\">process momentarily.</span>                                                              \n",
       "</pre>\n"
      ],
      "text/plain": [
       "<rich.jupyter.JupyterRenderable at 0x7fcbc3191280>"
      ]
     },
     "metadata": {},
     "output_type": "display_data"
    }
   ],
   "source": [
    "df = LoadPreviousWork(BATCHNUM = '2')"
   ]
  },
  {
   "cell_type": "code",
   "execution_count": 73,
   "id": "40166c4d",
   "metadata": {
    "ExecuteTime": {
     "end_time": "2022-03-14T11:03:57.217849Z",
     "start_time": "2022-03-14T11:03:57.214495Z"
    }
   },
   "outputs": [
    {
     "data": {
      "text/plain": [
       "False"
      ]
     },
     "execution_count": 73,
     "metadata": {},
     "output_type": "execute_result"
    }
   ],
   "source": [
    "df.empty"
   ]
  },
  {
   "cell_type": "code",
   "execution_count": null,
   "id": "84964a94",
   "metadata": {
    "ExecuteTime": {
     "end_time": "2022-03-14T11:08:44.938451Z",
     "start_time": "2022-03-14T11:08:44.933607Z"
    }
   },
   "outputs": [],
   "source": []
  },
  {
   "cell_type": "code",
   "execution_count": null,
   "id": "0dd3dbb3",
   "metadata": {},
   "outputs": [],
   "source": []
  },
  {
   "cell_type": "code",
   "execution_count": 6,
   "id": "15635f45",
   "metadata": {
    "ExecuteTime": {
     "end_time": "2022-03-14T16:37:29.793880Z",
     "start_time": "2022-03-14T16:37:29.788148Z"
    }
   },
   "outputs": [],
   "source": [
    "def LoadPreviousWork(BATCHNUM: str = None, chunkSymbols: list = None):\n",
    "    '''Load Previous work\n",
    "        Note:\\n\n",
    "        this function is used to scan and check all the symbols that are processed already for a given batch\n",
    "        assume you already have loaded the function loadingSymbols.\n",
    "\n",
    "    '''\n",
    "    try:\n",
    "        # All processed symbols so far for all batches.\n",
    "        console = Console()\n",
    "        dfTotalBatchList = []\n",
    "        previousWorkExistedBool = False\n",
    "        rawList = os.listdir(\"./database/disclosureProcessedData/parsedConverated\")\n",
    "        symbolsList = chunkSymbols\n",
    "        # Assume you are at the root directory of this project.\n",
    "        # Intersect the processed symbols of current batch with the all the processed symbols.\n",
    "        L = list(filter(lambda x:x in rawList, symbolsList))\n",
    "        #console.log(f\"L = {L}\")\n",
    "        if len(L) != 0:\n",
    "            previousWorkExistedBool = True\n",
    "\n",
    "        for symbol in symbolsList:\n",
    "            if os.path.exists(f\"./database/disclosureProcessedData/parsedConverated/{symbol}\"):\n",
    "                with open(f\"./database/disclosureProcessedData/parsedConverated/{symbol}/{symbol}_DataFrame.pickle\", mode = 'rb') as handle:\n",
    "                    df = pickle.load(handle)\n",
    "                dfTotalBatchList.append(df)\n",
    "        if previousWorkExistedBool:\n",
    "            dfTotalBatch = pd.concat(dfTotalBatchList, axis = 'rows')\n",
    "            console.log(f\"[[magenta]\\uf12a[reset]] Percentage of processed data for Batch:[blue]{BATCHNUM}[reset], so far: [blue]{len(L)/len(symbolsList) * 100}[reset] %, reset will be process momentarily.\")\n",
    "        else:\n",
    "            console.log(f\"[[magenta]\\uf12a[reset]] No perviouse processed data for Batch:[blue]{BATCHNUM}[reset], so far: [blue]{0}[reset] %, reset will be process momentarily.\")\n",
    "            dfTotalBatch = pd.DataFrame()\n",
    "\n",
    "    except Exception as e:\n",
    "        rprint(e)\n",
    "        raise\n",
    "    return dfTotalBatch, previousWorkExistedBool"
   ]
  },
  {
   "cell_type": "code",
   "execution_count": 132,
   "id": "234b12b6",
   "metadata": {
    "ExecuteTime": {
     "end_time": "2022-03-14T15:43:54.170803Z",
     "start_time": "2022-03-14T15:43:54.165891Z"
    }
   },
   "outputs": [],
   "source": [
    "#chunkOrder['2']"
   ]
  },
  {
   "cell_type": "code",
   "execution_count": 135,
   "id": "73f34de8",
   "metadata": {
    "ExecuteTime": {
     "end_time": "2022-03-14T15:44:56.892281Z",
     "start_time": "2022-03-14T15:44:56.575305Z"
    }
   },
   "outputs": [
    {
     "data": {
      "text/html": [
       "<pre style=\"white-space:pre;overflow-x:auto;line-height:normal;font-family:Menlo,'DejaVu Sans Mono',consolas,'Courier New',monospace\"><span style=\"color: #7fbfbf; text-decoration-color: #7fbfbf\">[00:44:56] </span><span style=\"font-weight: bold\">[</span><span style=\"color: #800080; text-decoration-color: #800080\"></span><span style=\"color: #000000; text-decoration-color: #000000; background-color: #ffffff\">] Percentage of processed data for Batch:</span><span style=\"color: #000080; text-decoration-color: #000080; background-color: #ffffff\">4</span><span style=\"color: #000000; text-decoration-color: #000000; background-color: #ffffff\">, </span> <span style=\"color: #7f7f7f; text-decoration-color: #7f7f7f\">&lt;ipython-input-131-361b8762db14&gt;:29</span>\n",
       "           <span style=\"color: #000000; text-decoration-color: #000000; background-color: #ffffff\">so far: </span><span style=\"color: #000080; text-decoration-color: #000080; background-color: #ffffff\">99.0</span><span style=\"color: #000000; text-decoration-color: #000000; background-color: #ffffff\"> %, reset will be process </span>                                            \n",
       "           <span style=\"color: #000000; text-decoration-color: #000000; background-color: #ffffff\">momentarily.</span>                                                                      \n",
       "</pre>\n"
      ],
      "text/plain": [
       "<rich.jupyter.JupyterRenderable at 0x7fcb8131d790>"
      ]
     },
     "metadata": {},
     "output_type": "display_data"
    }
   ],
   "source": [
    "df, b = LoadPreviousWork(BATCHNUM = '4', chunkSymbols = chunkOrder['4'])"
   ]
  },
  {
   "cell_type": "code",
   "execution_count": 127,
   "id": "f98a5dc1",
   "metadata": {
    "ExecuteTime": {
     "end_time": "2022-03-14T15:00:44.763168Z",
     "start_time": "2022-03-14T15:00:44.755047Z"
    }
   },
   "outputs": [
    {
     "data": {
      "text/plain": [
       "0     3150\n",
       "1     3150\n",
       "2     3150\n",
       "3     3150\n",
       "4     3150\n",
       "      ... \n",
       "13    3445\n",
       "14    3445\n",
       "15    3445\n",
       "16    3445\n",
       "17    3445\n",
       "Name: symbol, Length: 1691, dtype: object"
      ]
     },
     "execution_count": 127,
     "metadata": {},
     "output_type": "execute_result"
    }
   ],
   "source": [
    "df['symbol']"
   ]
  },
  {
   "cell_type": "code",
   "execution_count": 110,
   "id": "62b4a95d",
   "metadata": {
    "ExecuteTime": {
     "end_time": "2022-03-14T12:56:41.575953Z",
     "start_time": "2022-03-14T12:56:41.572160Z"
    }
   },
   "outputs": [],
   "source": [
    "with open(\"./database/disclosureProcessedData/parsedConverated/noArticles.pickle\", mode = 'rb') as handle:\n",
    "    listNoArticlesCompanies = pickle.load(handle)"
   ]
  },
  {
   "cell_type": "code",
   "execution_count": 112,
   "id": "4724db8d",
   "metadata": {
    "ExecuteTime": {
     "end_time": "2022-03-14T13:06:26.831073Z",
     "start_time": "2022-03-14T13:06:26.826922Z"
    }
   },
   "outputs": [
    {
     "data": {
      "text/plain": [
       "[]"
      ]
     },
     "execution_count": 112,
     "metadata": {},
     "output_type": "execute_result"
    }
   ],
   "source": [
    "listNoArticlesCompanies"
   ]
  },
  {
   "cell_type": "code",
   "execution_count": 10,
   "id": "2e7db7ca",
   "metadata": {
    "ExecuteTime": {
     "end_time": "2022-03-14T16:39:36.287477Z",
     "start_time": "2022-03-14T16:39:36.276857Z"
    }
   },
   "outputs": [],
   "source": [
    "with open(\"./database/disclosureProcessedData/parsedConverated/3612/3612_DataFrame.pickle\", mode = 'rb') as handle: \n",
    "    dfx = pickle.load(handle)"
   ]
  },
  {
   "cell_type": "code",
   "execution_count": 40,
   "id": "8c67a768",
   "metadata": {
    "ExecuteTime": {
     "end_time": "2022-03-14T16:57:22.314708Z",
     "start_time": "2022-03-14T16:57:22.309992Z"
    }
   },
   "outputs": [
    {
     "data": {
      "text/plain": [
       "'\\n\\n\\n\\n\\n\\n\\n\\n\\n\\n\\n\\n\\n\\n\\n\\n\\n\\n\\n\\n\\n\\n\\n\\n\\n\\n\\n\\n\\n\\n\\n\\n\\n\\n\\n\\n\\n\\n\\n\\n\\n\\n\\n\\n\\n\\n\\n\\n\\n\\n\\n\\n\\n\\n 1 \\n\\n2022 年２月 15 日 \\n\\n各 位 \\n\\n会 社 名 株 式 会 社 ワ ー ル ド \\n\\n代表者名 代表取締役 社長執行役員 鈴木 信輝 \\n\\n （コード番号：3612 東証第一部） \\n\\n問合せ先 副社長執行役員 中林 恵一 \\n\\n （TEL：03－6887－1300） \\n\\n \\n\\n \\n\\n株株株株式会社式会社式会社式会社ナルミヤ・インターナショナルナルミヤ・インターナショナルナルミヤ・インターナショナルナルミヤ・インターナショナル（証券（証券（証券（証券コードコードコードコード：：：：9275927592759275））））株式株式株式株式に対するに対するに対するに対する    \\n\\n公開買付けの結果公開買付けの結果公開買付けの結果公開買付けの結果及び子会社の異動及び子会社の異動及び子会社の異動及び子会社の異動に関するお知らせに関するお知らせに関するお知らせに関するお知らせ    \\n\\n \\n\\n \\n\\n株式会社ワールド（以下「公開買付者」といいます。）は、2022 年１月 13 日、株式会社ナルミヤ・\\n\\nインターナショナル（証券コード：9275、株式会社東京証券取引所（以下「東京証券取引所」といいま\\n\\nす。）市場第一部上場、以下「対象者」といいます。）の普通株式（以下「対象者株式」といいます。）\\n\\nを金融商品取引法（昭和 23 年法律第 25 号。その後の改正を含みます。以下「法」といいます。）に基\\n\\nづく公開買付け（以下「本公開買付け」といいます。）により取得することを決議し、2022 年１月 14\\n\\n日より本公開買付けを実施しておりましたが、本公開買付けが 2022 年２月 14 日をもって終了いたし\\n\\nましたので、その結果について下記のとおりお知らせいたします。 \\n\\nまた、本公開買付けの結果、2022 年２月 21 日（本公開買付けの決済の開始日）付で、対象者は公開\\n\\n買付者の連結子会社となる予定ですので、併せてお知らせいたします。 \\n\\n \\n\\n記 \\n\\n \\n\\nⅠ．本公開買付けの結果について \\n\\n１． 買付け等の概要 \\n\\n（１）公開買付者の名称及び所在地 \\n\\n株式会社ワールド \\n\\n兵庫県神戸市中央区港島中町六丁目８番１ \\n\\n \\n\\n（２）対象者の名称 \\n\\n株式会社ナルミヤ・インターナショナル \\n\\n \\n\\n（３）買付け等に係る株券等の種類 \\n\\n普通株式 \\n\\n \\n\\n（４）買付予定の株券等の数 \\n\\n買付予定数 買付予定数の下限 買付予定数の上限 \\n\\n2,690,930 株 2,024,600 株 2,690,930 株 \\n\\n（注１）本公開買付けに応募された株券等（以下「応募株券等」といいます。）の数の合計が買付\\n\\n予定数の下限（2,024,600 株）に満たない場合は、応募株券等の全部の買付け等を行い\\n\\nません。応募株券等の数の合計が買付予定数の上限（2,690,930 株）を超える場合は、\\n\\nその超える部分の全部又は一部の買付け等を行わないものとし、法第 27 条の 13 第５項\\n\\n及び発行者以外の者による株券等の公開買付けの開示に関する内閣府令（平成２年大蔵\\n\\n省令第 38 号。その後の改正を含みます。以下「府令」といいます。）第 32 条に規定する\\n\\nあん分比例の方式により、株券等の買付け等に係る受渡しその他の決済を行います。 \\n\\n\\n\\n 2 \\n\\n（注２）本公開買付けを通じて、対象者が所有する自己株式を取得する予定はありません。 \\n\\n（注３）単元未満株式についても、本公開買付けの対象としております。なお、会社法（平成 17\\n\\n年法律第 86 号。その後の改正を含みます。）に従って株主による単元未満株式買取請求\\n\\n権が行使された場合には、対象者は法令の手続に従い本公開買付けにおける買付け等の\\n\\n期間（以下「公開買付期間」といいます。）中に自己の株式を買い取ることがあります。 \\n\\n \\n\\n（５）買付け等の期間 \\n\\n① 届出当初の買付け等の期間 \\n\\n2022 年１月 14 日(金曜日)から 2022 年２月 14 日(月曜日)まで（21 営業日） \\n\\n \\n\\n② 対象者の請求に基づく延長の可能性 \\n\\n法第27条の10第３項の規定により、対象者から公開買付期間の延長を請求する旨の記載がさ\\n\\nれた意見表明報告書が提出された場合は、公開買付期間は30営業日、2022年２月28日（月曜日）\\n\\nまでとなる予定でしたが、該当事項はありませんでした。 \\n\\n \\n\\n（６）買付け等の価格 \\n\\n普通株式１株につき、金 1,230円 \\n\\n \\n\\n２． 買付け等の結果 \\n\\n（１）公開買付けの成否 \\n\\n本公開買付けにおいては、応募株券等の数の合計（4,178,645 株）が買付予定数の上限（2,690,930\\n\\n株）を超えましたので、公開買付開始公告及び公開買付届出書に記載のとおり、法第 27 条の 13\\n\\n第４項第２号に基づき、その超える部分の全部又は一部の買付け等は行わないものとし、法第 27\\n\\n条の 13 第５項及び府令第 32 条に規定するあん分比例の方式により、株券等の買付け等に係る受\\n\\n渡しその他の決済を行います。 \\n\\n \\n\\n（２）公開買付けの結果の公告日及び公告掲載新聞名 \\n\\n法第 27 条の 13 第１項の規定に基づき、金融商品取引法施行令（昭和 40 年政令第 321 号。その\\n\\n後の改正を含みます。）第９条の４及び府令第 30 条の２に規定する方法により、2022 年２月 15 日\\n\\nに東京証券取引所において、本公開買付けの結果を報道機関に公表いたしました。 \\n\\n \\n\\n（３）買付け等を行った株券等の数 \\n\\n株券等種類 ① 株式に換算した応募数 ② 株式に換算した買付数 \\n\\n株 券 4,178,645 株 2,691,000 株 \\n\\n新 株 予 約 権 証 券 ― 株 ― 株 \\n\\n新 株 予 約 権 付 社 債 券 ― 株 ― 株 \\n\\n株 券 等 信 託 受 益 証 券 \\n\\n（ ） \\n― 株 ― 株 \\n\\n株 券 等 預 託 証 券 \\n\\n（ ） \\n― 株 ― 株 \\n\\n合 計 4,178,645 株 2,691,000 株 \\n\\n（潜在株券等の数の合計） ―  （ ― 株） \\n\\n \\n\\n\\n\\n 3 \\n\\n（４）買付け等を行った後における株券等所有割合 \\n\\n買付け等前における公開買付者の\\n\\n所有株券等に係る議決権の数 \\n25,308個 \\n\\n（買付け等前における株券等所有割合\\n\\n25.00％） \\n\\n買付け等前における特別関係者の\\n\\n所有株券等に係る議決権の数 \\n1,350個 \\n\\n（買付け等前における株券等所有割合\\n\\n1.33％） \\n\\n買付け等後における公開買付者の\\n\\n所有株券等に係る議決権の数 \\n52,218個 \\n\\n（買付け等後における株券等所有割合\\n\\n51.59％） \\n\\n買付け等後における特別関係者の\\n\\n所有株券等に係る議決権の数 \\n1,350個 \\n\\n（買付け等後における株券等所有割合\\n\\n1.33％） \\n\\n対象者の総株主の議決権の数 101,214個  \\n\\n（注１）「買付け等前における特別関係者の所有株券等に係る議決権の数」及び「買付け等後にお\\n\\nける特別関係者の所有株券等に係る議決権の数」は、特別関係者（ただし、特別関係者の\\n\\nうち法第 27 条の２第１項各号における株券等所有割合の計算において府令第３条第２\\n\\n項第１号に基づき特別関係者から除外される者を除きます。）が所有する株券等に係る議\\n\\n決権の数の合計を記載しております。 \\n\\n（注２）「対象者の総株主の議決権の数」は、対象者が 2022 年１月 14 日に提出した第６期第３四\\n\\n半期報告書（以下「対象者四半期報告書」といいます。）に記載された 2021 年８月 31 日\\n\\n現在の総株主の議決権の数（１単元の株式数を 100 株として記載されたもの）です。た\\n\\nだし、単元未満株式についても本公開買付けの対象としていたため、「買付け等前におけ\\n\\nる株券等所有割合」及び「買付け等後における株券等所有割合」の計算においては、対象\\n\\n者四半期報告書に記載された 2021 年 11 月 30 日現在の対象者の発行済株式総数\\n\\n（10,122,830 株）から、対象者が 2022 年１月 13 日に公表した「2022 年２月期 第３四\\n\\n半期決算短信〔日本基準〕（連結）」（以下「対象者四半期決算短信」といいます。）に記載\\n\\nされた 2021 年 11 月 30 日現在の対象者が所有する自己株式（122 株）を控除した株式数\\n\\n（10,122,708 株）に係る議決権の数（101,227個）を分母として計算しております。 \\n\\n（注３）「買付け等前における株券等所有割合」及び「買付け等後における株券等所有割合」は、\\n\\n小数点以下第三位を四捨五入しております。 \\n\\n \\n\\n（５）あん分比例方式により買付け等を行う場合の計算 \\n\\n応募株券等の数の合計（4,178,645 株）が買付予定数の上限（2,690,930 株）を超えたため、\\n\\n公開買付開始公告及び公開買付届出書に記載のとおり、法第27条の13第４項第２号に基づき、\\n\\nその超える部分の全部又は一部の買付け等を行わないものとし、法第 27 条の 13 第５項及び府\\n\\n令第 32 条に規定するあん分比例の方式により、株券等の買付け等に係る受渡しその他の決済を\\n\\n行います（各応募株券等の数に１単元（100 株）未満の株数の部分がある場合、あん分比例の方\\n\\n式により計算される買付株数は各応募株券等の数を上限とします。）。 \\n\\nあん分比例の方式による計算の結果生じる１単元未満の株数を四捨五入して計算した各応募\\n\\n株主等（本公開買付けに応募した株主をいい、以下同じとします。）からの買付株数の合計が買\\n\\n付予定数の上限を超えたため、買付予定数の上限を下回らない数まで、四捨五入の結果切り上\\n\\nげられた株数の多い応募株主等から順次、各応募株主等につき買付株数を１単元（あん分比例\\n\\nの方式により計算される買付株数に１単元未満の株数の部分がある場合は当該１単元未満の株\\n\\n数）減少させました。 \\n\\nただし、切り上げられた株数の等しい複数の応募株主等全員からこの方法により買付株数を\\n\\n減少させると買付予定数の上限を下回ることとなるため、買付予定数の上限を下回らない範囲\\n\\nで、当該応募株主等の中から抽選により買付株数を減少させる株主を決定しました。 \\n\\n \\n\\n（６）決済の方法 \\n\\n① 買付け等の決済をする金融商品取引業者・銀行等の名称及び本店の所在地 \\n\\nみずほ証券株式会社  東京都千代田区大手町一丁目５番１号 \\n\\n \\n\\n\\n\\n 4 \\n\\n② 決済の開始日 \\n\\n2022 年２月 21 日（月曜日） \\n\\n \\n\\n③ 決済の方法 \\n\\n公開買付期間終了後遅滞なく、本公開買付けによる買付け等の通知書を応募株主等（外国の\\n\\n居住者である株主（法人株主を含みます。以下「外国人株主」といいます。）の場合はその常任\\n\\n代理人）の住所宛に郵送いたします。買付けは、現金にて行います。買付けられた株券等に係\\n\\nる売却代金を応募株主等（外国人株主の場合はその常任代理人）の指示により、決済の開始日\\n\\n以後遅滞なく、公開買付代理人から応募株主等（外国人株主の場合はその常任代理人）の指定\\n\\nした場所へ送金するか、公開買付代理人の応募受付けをした応募株主等の口座へお支払いしま\\n\\nす。 \\n\\n \\n\\n④ 株券等の返還方法 \\n\\n返還することが必要な株券等を公開買付期間末日の翌々営業日以後、速やかに応募が行われ\\n\\nた時の状態に戻します。 \\n\\n \\n\\n３． 公開買付け後の方針等及び今後の見通し \\n\\n公開買付者が 2022 年１月 13 日付で公表した「株式会社ナルミヤ・インターナショナル（証券コ\\n\\nード：9275）株式に対する公開買付けの開始並びに資本業務提携契約の締結に関するお知らせ」に\\n\\n記載した内容から変更はありません。 \\n\\n \\n\\n４．公開買付報告書の写しを縦覧に供する場所 \\n\\n株式会社ワールド（東京支店） \\n\\n（東京都港区北青山三丁目５番 10 号） \\n\\n株式会社東京証券取引所 \\n\\n（東京都中央区日本橋兜町２番１号） \\n\\n \\n\\nⅡ．子会社の異動について \\n\\n１．異動の理由 \\n\\n本公開買付けの結果、対象者は、2022年２月21日（本公開買付けの決済の開始日）付で、公開買付\\n\\n者の連結子会社となる予定です。 \\n\\n    \\n\\n２．異動する子会社（対象者）の概要 \\n\\n① 名 称 株式会社ナルミヤ・インターナショナル \\n\\n② 所 在 地 東京都港区芝公園二丁目４番１号 \\n\\n③ 代 表 者 の 役 職 ・ 氏 名 代表取締役執行役員社長 石井 稔晃 \\n\\n④ 事 業 内 容 ベビー・子供服の企画販売 \\n\\n⑤ 資 本 金 255,099千円（2021 年 11 月 30 日現在） \\n\\n⑥ 設 立 年 月 日 2016 年６月８日 \\n\\n⑦ \\n大 株 主 及 び 持 株 比 率 \\n\\n（2021 年８月 31 日現在） \\n\\n株式会社ワールド 25.00％ \\n\\n日本産業第四号投資事業有限責任組合 7.58％ \\n\\nShepherds Hill Fund Ⅱ, L.P. \\n\\n（常任代理人 ＳＭＢＣ日興証券株式会社） \\n6.35％ \\n\\nManaslu Fund Ⅱ, L.P. \\n\\n（常任代理人 ＳＭＢＣ日興証券株式会社） \\n6.34％ \\n\\n豊島株式会社 6.33％ \\n\\nSonora Fund Ⅱ, L.P. 6.31％ \\n\\n\\n\\n 5 \\n\\n（常任代理人 ＳＭＢＣ日興証券株式会社） \\n\\n日本マスタートラスト信託銀行株式会社（信託口） 4.67％ \\n\\n興和株式会社 1.90％ \\n\\nモリリン株式会社 1.90％ \\n\\n株式会社ソーエイ 1.43％ \\n\\n⑧ 公開買付者と対象者の関係 \\n\\n 資 本 関 係 \\n公開買付者は、対象者株式 2,530,800 株（所有割合：25.00％）\\n\\nを所有しております。 \\n\\n 人 的 関 係 \\n公開買付者の代表取締役会長を務める上山健二氏が対象者の\\n\\n取締役を兼務しております。 \\n\\n 取 引 関 係 公開買付者と対象者との間の直接的な取引はございません。 \\n\\n 関連当事者への該当状況 \\n対象者は、公開買付者の持分法適用関連会社であり、関連当事\\n\\n者に該当します。 \\n\\n⑨ 対象者の最近３年間の連結経営成績及び連結財政状態 \\n\\n決 算 期 2019 年２月期 2020 年２月期 2021 年２月期 \\n\\n純 資 産 又 は 連 結 純 資 産 3,556百万円 4,335百万円 4,407百万円 \\n\\n総 資 産 又 は 連 結 総 資 産 14,182百万円 15,310百万円 14,636百万円 \\n\\n１ 株 当 た り 純 資 産 又 は \\n\\n１ 株 当 た り 連 結 純 資 産 \\n358.86円 428.24円 435.40円 \\n\\n売 上 高 又 は 連 結 売 上 高 29,700百万円 32,962百万円 29,511百万円 \\n\\n営 業利益又 は 連 結 営 業利益 1,625百万円 1,664百万円 1,037百万円 \\n\\n経常利益又 は 連 結経常利益 1,505百万円 1,622百万円 1,006百万円 \\n\\n当期純資産又は親会社株主に \\n\\n帰 属 す る 当 期 純 利 益 \\n1,802百万円 999百万円 396百万円 \\n\\n１ 株 当 た り 当 期純利益又 は \\n\\n１ 株 当 た り 連 結 当 期純利益 \\n184.67円 99.29円 39.19円 \\n\\n１ 株 当 た り 配 当 金 \\n\\n（うち１株当たり中間配当額） \\n\\n1,496.00 円 \\n\\n（1,465.00円） \\n\\n34.00円 \\n\\n（－） \\n\\n31.00円 \\n\\n（－） \\n\\n（注１）「⑦ 大株主及び持株比率（2021 年８月 31 日現在）」は、対象者が 2021 年 10 月 13 日に提出\\n\\nした第６期第２四半期報告書の「大株主の状況」を基に記載しております。 \\n\\n（注２）対象者は、2019 年３月 29 日、株式会社ハートフィールの全株式を取得し子会社化したこと\\n\\nにより、2020 年２月期より連結財務諸表を作成しております。そのため、「⑨ 対象者の最\\n\\n近３年間の連結経営成績及び連結財政状態」の 2019 年２月期は単体決算の数値を記載して\\n\\nおります。 \\n\\n（注３）対象者は、2018 年６月 29 日付で普通株式１株につき 30 株の割合で、株式分割（以下「本\\n\\n株式分割」といいます。）を行っております。そのため、「⑨ 対象者の最近３年間の連結経\\n\\n営成績及び連結財政状態」の 2019 年２月期の「１株当たり当期純利益」は当該会計年度の\\n\\n期首に本株式分割が行われたものと仮定して算定しております。 \\n\\n \\n\\n３．取得株式数、取得価額及び取得前後の所有株式の状況 \\n\\n（１） 異動前の所有株式数 \\n\\n2,530,800 株 \\n\\n（議決権の数：25,308個） \\n\\n（議決権所有割合：25.00％） \\n\\n（２） 取 得 株 式 数 \\n対象者株式 2,691,000 株 \\n\\n（議決権の数：26,910個） \\n\\n（３） 取 得 価 額 対象者株式 3,309百万円 \\n\\n（４） 異動後の所有株式数 \\n5,221,800 株 \\n\\n（議決権の数：52,218個） \\n\\n\\n\\n 6 \\n\\n（議決権所有割合：51.59％） \\n\\n（注１）「議決権所有割合」は、対象者四半期報告書に記載された 2021 年 11 月 30 日現在の対象者\\n\\nの発行済株式総数（10,122,830 株）から、対象者四半期決算短信に記載された同日現在の\\n\\n対象者が所有する自己株式（122 株）を控除した株式数（10,122,708 株）に係る議決権の\\n\\n数（101,227個）を分母として計算しております。 \\n\\n（注２）「議決権所有割合」は、小数点以下第三位を四捨五入しております。 \\n\\n \\n\\n４．異動の日程 \\n\\n2022 年２月 21 日（月曜日）（本公開買付けの決済の開始日） \\n\\n \\n\\n５．今後の見通し \\n\\n本公開買付けによる子会社の異動が公開買付者の今期業績予想に与える影響については、公開買\\n\\n付者が 2022 年１月 13 日付で公表した「業績予想の修正に関するお知らせ」に記載した内容から変\\n\\n更はありません。 \\n\\n \\n\\n以 上 \\n\\n \\n\\n\\n'"
      ]
     },
     "execution_count": 40,
     "metadata": {},
     "output_type": "execute_result"
    }
   ],
   "source": [
    "dfx['content'].iloc[2]"
   ]
  },
  {
   "cell_type": "code",
   "execution_count": 25,
   "id": "195bfd49",
   "metadata": {
    "ExecuteTime": {
     "end_time": "2022-03-14T16:51:44.965226Z",
     "start_time": "2022-03-14T16:51:44.962363Z"
    }
   },
   "outputs": [],
   "source": [
    "mystring = dfx['content'].iloc[1]"
   ]
  },
  {
   "cell_type": "code",
   "execution_count": 39,
   "id": "415733a5",
   "metadata": {
    "ExecuteTime": {
     "end_time": "2022-03-14T16:56:20.115737Z",
     "start_time": "2022-03-14T16:56:20.110874Z"
    }
   },
   "outputs": [
    {
     "name": "stdout",
     "output_type": "stream",
     "text": [
      "success\n"
     ]
    }
   ],
   "source": [
    "list_of_words = mystring.split()\n",
    "word =\"株主資本等変動計算書に関する注記\" \n",
    "if word in list_of_words:\n",
    "    print('success')"
   ]
  },
  {
   "cell_type": "code",
   "execution_count": 29,
   "id": "ec81f60a",
   "metadata": {
    "ExecuteTime": {
     "end_time": "2022-03-14T16:52:14.103934Z",
     "start_time": "2022-03-14T16:52:14.085526Z"
    }
   },
   "outputs": [
    {
     "data": {
      "text/plain": [
       "['2022年',\n",
       " '2月',\n",
       " '15日',\n",
       " '株式会社ワールド',\n",
       " '代表取締役',\n",
       " '鈴木',\n",
       " '信輝',\n",
       " '株式会社ファッション・コ・ラボ',\n",
       " '代表取締役',\n",
       " '池上',\n",
       " '貴尉',\n",
       " '吸収分割に関する事前開示書面',\n",
       " '（吸収分割会社',\n",
       " '/',\n",
       " '会社法第',\n",
       " '782条第',\n",
       " '1項及び会社法施行規則第',\n",
       " '183条に基づく事前備置書面）',\n",
       " '（吸収分割承継会社',\n",
       " '/',\n",
       " '会社法第',\n",
       " '794条第',\n",
       " '1項及び会社法施行規則第',\n",
       " '192条に基づく事前備置書面）',\n",
       " '株式会社ワールド（以下「W」といいます。）及び株式会社ファッション・コ・ラボ（以',\n",
       " '下「FCL」といいます。）は、2022年',\n",
       " '2月',\n",
       " '3日、それぞれの取締役会決議を経て、2022年',\n",
       " '4',\n",
       " '月',\n",
       " '1',\n",
       " '日を効力発生日として、W',\n",
       " 'のデジタルリテール事業におけるモール事業に関する権利',\n",
       " '義務を',\n",
       " 'FCLに承継させる吸収分割（以下「本件分割」といいます。）に係る吸収分割契約を',\n",
       " '締結いたしました。',\n",
       " 'よって、ここに本件分割に係る事前開示をいたします。',\n",
       " '記',\n",
       " '１．吸収分割契約の内容',\n",
       " '添付資料',\n",
       " '1「吸収分割契約書」のとおりです。',\n",
       " '２．吸収分割の対価の相当性に関する事項',\n",
       " '本件分割は',\n",
       " 'W',\n",
       " 'と',\n",
       " 'W',\n",
       " 'の完全子会社である',\n",
       " 'FCL',\n",
       " 'との間の吸収分割であるため、対価として',\n",
       " 'の株式の割当及びその他の金銭等の交付は行いません。（無対価分割）',\n",
       " '３．本件分割の当事者に関する事項',\n",
       " '(1)',\n",
       " 'W（吸収分割会社）',\n",
       " '①最終事業年度に係る計算書類等',\n",
       " '同社は、有価証券報告書及び四半期報告書を関東財務局に提出しています。最終事',\n",
       " '業年度に係る計算書類等は、金融商品取引法に基づく有価証券報告書等の開示書類',\n",
       " 'に関する電子開示システム（EDINET）によりご覧いただけます。',\n",
       " '②最終事業年度の末日後に生じた重要な財産の処分、重大な債務の負担その他の会社',\n",
       " '財産の状況に重要な影響を与える事象の内容',\n",
       " '該当事項はありません。',\n",
       " '(2)',\n",
       " 'FCL（吸収分割承継会社）',\n",
       " '①最終事業年度に係る計算書類等',\n",
       " '同社の最終事業年度に係る計算書類等は、添付資料',\n",
       " '2のとおりです。',\n",
       " '②最終事業年度の末日後に生じた重要な財産の処分、重大な債務の負担その他の会社',\n",
       " '財産の状況に重要な影響を与える事象の内容',\n",
       " '該当事項はありません。',\n",
       " '４．本件分割が効力を生じる日以後における債務の履行の見込みに関する事項',\n",
       " 'W及び',\n",
       " 'FCLにおいては、いずれも本件分割の効力発生日における資産の額は負債の額を',\n",
       " '上回っていることが見込まれ、また、本件分割の効力発生日後における債務の履行に支障を',\n",
       " '及ぼすような事象の発生及びその可能性は現在までのところ認識されておりません。',\n",
       " 'よって、本件分割の効力発生日以後に各社が負担すべき債務については履行の見込みが',\n",
       " 'あると判断しています。',\n",
       " '以',\n",
       " '上',\n",
       " '添付資料１',\n",
       " '吸収分割契約書',\n",
       " '株式会社ワールド（以下「甲」という。）と株式会社ファッション・コ・ラボ（以下',\n",
       " '「乙」という。）とは、本件事業（第１条において定義する。）に関して有する権利義務を',\n",
       " '乙に承継させる吸収分割（以下「本件吸収分割」という。）に関し、次のとおり吸収分割',\n",
       " '契約（以下「本契約」という。）を締結する。',\n",
       " '第１条（吸収分割）',\n",
       " '甲は、本契約に定めるところにより、吸収分割の方法により、本件効力発生日（第５条',\n",
       " 'において定義する。）をもって、甲のデジタルリテール事業におけるモール事業（以下',\n",
       " '「本件事業」という。）に関する権利義務を乙に承継させ、乙はこれを承継する。',\n",
       " '第２条（当事者の商号及び住所）',\n",
       " '甲及び乙の商号及び住所は、次のとおりとする。',\n",
       " '①',\n",
       " '甲（吸収分割会社）',\n",
       " '商号：株式会社ワールド',\n",
       " '住所：神戸市中央区港島中町六丁目８番１',\n",
       " '②',\n",
       " '乙（吸収分割承継会社）',\n",
       " '商号：株式会社ファッション・コ・ラボ',\n",
       " '住所：東京都港区北青山三丁目５番１０号',\n",
       " '第３条（承継する権利義務）',\n",
       " '１．本件吸収分割により甲から乙に承継される資産、債務その他の権利義務（以下「本件',\n",
       " '承継対象権利義務」という。）は、別紙１「承継対象権利義務明細表」のとおりとす',\n",
       " 'る。',\n",
       " '２．本件吸収分割による甲から乙に対する債務の承継は、全て免責的債務引受の方法によ',\n",
       " 'る。',\n",
       " '第４条（本件吸収分割に際して交付する金銭等並びに乙の資本金及び準備金）',\n",
       " '１．乙は、本件吸収分割に際し、甲に対し、金銭等を一切交付しない。',\n",
       " '２．本件吸収分割により乙の資本金及び準備金の額は、変更されないものとする。',\n",
       " '第５条（効力発生日）',\n",
       " '本件吸収分割がその効力を生ずる日（以下「本件効力発生日」という。）は、2022年',\n",
       " '4',\n",
       " '月',\n",
       " '1日とする。ただし、必要に応じて甲乙協議のうえ、合意によりこれを変更することが',\n",
       " 'できる。',\n",
       " '第６条（分割承認決議等）',\n",
       " '甲及び乙は、本件効力発生日の前日までに、それぞれ、株主総会の承認、債権者保護手',\n",
       " '続その他の関連法令により必要となる手続を行うものとする。',\n",
       " '第７条（競業避止義務）',\n",
       " '甲は、本件効力発生日以降においても、本件事業について、競業避止義務を負わないも',\n",
       " 'のとする。',\n",
       " '第８条（会社財産の管理等）',\n",
       " '本契約締結の日から本件効力発生日まで、甲は善良な管理者の注意をもって本件事業に',\n",
       " '係る業務の執行及び財産の管理をし、本件吸収分割に重大な影響を及ぼす事項を行おうと',\n",
       " 'するときは、あらかじめ甲及び乙が協議するものとする。',\n",
       " '第９条（本契約の変更・解除）',\n",
       " '本契約締結の日から本件効力発生日までの間において、天災地変その他の事由により、',\n",
       " '本件事業又は本件事業に関する資産、債務その他の権利義務に重大な変動が生じたとき',\n",
       " 'は、甲及び乙は協議のうえ、合意により、本契約に定める本件吸収分割の条件を変更し、',\n",
       " '又は本契約を解除することができる。',\n",
       " '第',\n",
       " '10条（本契約に定めのない事項）',\n",
       " '本契約に定める事項のほか、本件吸収分割に関し必要な事項は、本契約の趣旨に従い、',\n",
       " '甲及び乙が協議のうえ定める。',\n",
       " '本契約締結の証として、本書の電磁的記録を作成し、甲乙合意の上電子署名を施し、その',\n",
       " '電磁的記録を保有する。',\n",
       " '2022年',\n",
       " '2月',\n",
       " '3日',\n",
       " '（甲）神戸市中央区港島中町六丁目８番１',\n",
       " '株式会社ワールド',\n",
       " '代表取締役',\n",
       " '鈴木',\n",
       " '信輝',\n",
       " '（乙）東京都港区北青山三丁目５番１０号',\n",
       " '株式会社ファッション・コ・ラボ',\n",
       " '代表取締役',\n",
       " '池上',\n",
       " '貴尉',\n",
       " '別紙１',\n",
       " '承継対象権利義務明細表',\n",
       " '本件承継対象権利義務は、以下のとおりとする。',\n",
       " '１．資産',\n",
       " '以下の資産のうち、本件効力発生日において本件事業に属するもの。ただし、４．に',\n",
       " 'より乙に承継されない権利義務に係る資産を除く。',\n",
       " '①',\n",
       " '流動資産',\n",
       " '現金及び預金、売掛金、及びその他の流動資産',\n",
       " '②',\n",
       " '固定資産',\n",
       " '建物付属設備、リース資産、その他の有形固定資産、無形固定資産、差入保証金、繰',\n",
       " '延税金資産及び投資その他の資産のその他',\n",
       " '２．債務',\n",
       " '以下の負債のうち、本件効力発生日において本件事業に属するもの。ただし、４．に',\n",
       " 'より乙に承継されない権利義務に係る負債を除く。',\n",
       " '①流動負債',\n",
       " '未払金、リース債務、資産除去債務及びその他の流動負債',\n",
       " '②固定負債',\n",
       " 'リース債務、資産除去債務及び預り保証金',\n",
       " '３．雇用契約等',\n",
       " '該当なし',\n",
       " '４．その他の権利義務',\n",
       " '(１)',\n",
       " '知的財産権',\n",
       " '本件効力発生日において甲が保有する、本件事業に係る知的財産権',\n",
       " '(２)',\n",
       " '雇用契約以外の契約',\n",
       " '①本件効力発生日において甲が締結している、本件事業に係る店舗に関する賃貸借契約',\n",
       " '及び売上仕入契約（これらに付随又は関連する契約を含む。）における甲の契約上の',\n",
       " '地位及び当該契約に基づき発生した一切の権利義務',\n",
       " '②本件効力発生日において甲が締結している、本件事業に係る契約（雇用契約を除',\n",
       " 'く。）のうち、①以外の契約（店舗に関する賃貸借契約以外の賃貸借契約、売買契',\n",
       " '約、取引基本契約、業務委託契約、請負契約、リース契約その他の契約）における甲',\n",
       " 'の契約上の地位及び当該契約に基づき発生した一切の権利義務。ただし、次に掲げる',\n",
       " '契約に関するものを除く。',\n",
       " 'イ',\n",
       " '金融機関との間で締結した銀行取引約定、金銭消費貸借契約、当座貸越契約及び',\n",
       " 'シンジケートローン契約（これらに付随又は関連する契約を含む。）',\n",
       " 'ロ',\n",
       " '契約書上会社分割に関して相手方の同意を得ることが要求されている契約のう',\n",
       " 'ち、効力発生日までに当該相手方が当該契約を乙が承継することについて同意し',\n",
       " 'ない旨を明らかにした契約',\n",
       " '以',\n",
       " '上',\n",
       " '添付資料２',\n",
       " '第',\n",
       " '10',\n",
       " '期',\n",
       " '自',\n",
       " '令和',\n",
       " '2年',\n",
       " '4月',\n",
       " '1日',\n",
       " '至',\n",
       " '令和',\n",
       " '3年',\n",
       " '3月',\n",
       " '31日',\n",
       " '東京都港区北青山3丁目5番10号',\n",
       " '株式会社',\n",
       " 'ファッション・コ・ラボ',\n",
       " '計',\n",
       " '算',\n",
       " '書',\n",
       " '類',\n",
       " '・貸借対照表',\n",
       " '・損益計算書',\n",
       " '・株主資本等変動計算書',\n",
       " '株式会社',\n",
       " 'ファッション・コ・ラボ',\n",
       " '（単位：千円）',\n",
       " '1,338,114',\n",
       " '2,110,160',\n",
       " '53,848',\n",
       " '507,365',\n",
       " '832,846',\n",
       " '1,170,000',\n",
       " '37,244',\n",
       " '149,631',\n",
       " '119,627',\n",
       " '3,543',\n",
       " '32,217',\n",
       " '85,291',\n",
       " '62,396',\n",
       " '35,992',\n",
       " '11,467',\n",
       " '103,903',\n",
       " '225,182',\n",
       " '54,434',\n",
       " '△',\n",
       " '36,713',\n",
       " '11,909',\n",
       " '10,815',\n",
       " '1,478,525',\n",
       " '1,094',\n",
       " '25,785',\n",
       " '2,122,069',\n",
       " '15,818',\n",
       " '20',\n",
       " '694,570',\n",
       " '9,947',\n",
       " '80,000',\n",
       " '35,567',\n",
       " '567',\n",
       " '944,293',\n",
       " '35,000',\n",
       " '534,293',\n",
       " '1,417,173',\n",
       " '410,000',\n",
       " '68,000',\n",
       " '△',\n",
       " '329,723',\n",
       " '989,336',\n",
       " '2,500',\n",
       " '57,094',\n",
       " '△',\n",
       " '332,223',\n",
       " '302,743',\n",
       " '△',\n",
       " '332,223',\n",
       " '694,570',\n",
       " '2,816,639',\n",
       " '2,816,639',\n",
       " '（注）金額は千円未満を四捨五入で表示しております。',\n",
       " '【',\n",
       " '投',\n",
       " '資',\n",
       " 'そ',\n",
       " 'の',\n",
       " '他',\n",
       " '資',\n",
       " '産',\n",
       " '】',\n",
       " 'ソ',\n",
       " 'フ',\n",
       " 'ト',\n",
       " 'ウ',\n",
       " 'エ',\n",
       " 'ア',\n",
       " '【',\n",
       " '無',\n",
       " '形',\n",
       " '固',\n",
       " '定',\n",
       " '資',\n",
       " '産',\n",
       " '】',\n",
       " '【',\n",
       " '資',\n",
       " '本',\n",
       " '剰',\n",
       " '余',\n",
       " '金',\n",
       " '】',\n",
       " '資',\n",
       " '本',\n",
       " '準',\n",
       " '備',\n",
       " '金',\n",
       " '商',\n",
       " '標',\n",
       " '権',\n",
       " 'そ',\n",
       " 'の',\n",
       " '他',\n",
       " '資',\n",
       " '本',\n",
       " '剰',\n",
       " '余',\n",
       " '金',\n",
       " '関',\n",
       " '係',\n",
       " '会',\n",
       " '社',\n",
       " '株',\n",
       " '式',\n",
       " '純',\n",
       " '資',\n",
       " '産',\n",
       " '合',\n",
       " '計',\n",
       " '長',\n",
       " '期',\n",
       " '差',\n",
       " '入',\n",
       " '保',\n",
       " '証',\n",
       " '金',\n",
       " '繰',\n",
       " '延',\n",
       " '税',\n",
       " '金',\n",
       " '資',\n",
       " '産',\n",
       " '【',\n",
       " 'そ',\n",
       " 'の',\n",
       " '他',\n",
       " '利',\n",
       " '益',\n",
       " '剰',\n",
       " '余',\n",
       " '金',\n",
       " '】',\n",
       " '繰',\n",
       " '越',\n",
       " '利',\n",
       " '益',\n",
       " '剰',\n",
       " '余',\n",
       " '金',\n",
       " '負',\n",
       " '債',\n",
       " '・',\n",
       " '純',\n",
       " '資',\n",
       " '産',\n",
       " '合',\n",
       " '計資',\n",
       " '産',\n",
       " '合',\n",
       " '計',\n",
       " '長',\n",
       " '期',\n",
       " '前',\n",
       " '払',\n",
       " '費',\n",
       " '用',\n",
       " '利',\n",
       " '益',\n",
       " '準',\n",
       " '備',\n",
       " '金',\n",
       " '【',\n",
       " '利',\n",
       " '益',\n",
       " '剰',\n",
       " '余',\n",
       " '金',\n",
       " '】',\n",
       " '貸',\n",
       " '借',\n",
       " '対',\n",
       " '照',\n",
       " '表',\n",
       " '短',\n",
       " '期',\n",
       " '借',\n",
       " '入',\n",
       " '金',\n",
       " '未',\n",
       " '払',\n",
       " '金',\n",
       " '【',\n",
       " '流',\n",
       " '動',\n",
       " '資',\n",
       " '産',\n",
       " '】',\n",
       " '【',\n",
       " '流',\n",
       " '動',\n",
       " '負',\n",
       " '債',\n",
       " '】',\n",
       " '令和',\n",
       " '3年',\n",
       " '3月',\n",
       " '31日',\n",
       " '現在',\n",
       " '資',\n",
       " '産',\n",
       " 'の',\n",
       " '部',\n",
       " '負',\n",
       " '債',\n",
       " 'の',\n",
       " '部',\n",
       " '買',\n",
       " '掛',\n",
       " '金現',\n",
       " '金',\n",
       " '預',\n",
       " '金',\n",
       " '売',\n",
       " '掛',\n",
       " '金',\n",
       " '未',\n",
       " '払',\n",
       " '消',\n",
       " '費',\n",
       " '税',\n",
       " '等',\n",
       " '未',\n",
       " '払',\n",
       " '費',\n",
       " '用',\n",
       " '未',\n",
       " '払',\n",
       " '法',\n",
       " '人',\n",
       " '税',\n",
       " '等',\n",
       " '前',\n",
       " '受',\n",
       " '収',\n",
       " '益',\n",
       " '商',\n",
       " '品',\n",
       " '前',\n",
       " '払',\n",
       " '費',\n",
       " '用',\n",
       " '短',\n",
       " '期',\n",
       " '貸',\n",
       " '付',\n",
       " '金',\n",
       " '未',\n",
       " '収',\n",
       " '入',\n",
       " '金',\n",
       " '器',\n",
       " '具',\n",
       " '備',\n",
       " '品',\n",
       " 'リ',\n",
       " 'ー',\n",
       " 'ス',\n",
       " '資',\n",
       " '産',\n",
       " '【',\n",
       " '有',\n",
       " '形',\n",
       " '固',\n",
       " '定',\n",
       " '資',\n",
       " '産',\n",
       " '】',\n",
       " '立',\n",
       " '替',\n",
       " '金',\n",
       " '【',\n",
       " '資',\n",
       " '本',\n",
       " '金',\n",
       " '】',\n",
       " '【',\n",
       " '株',\n",
       " '主',\n",
       " '資',\n",
       " '本',\n",
       " '】',\n",
       " '建',\n",
       " '物',\n",
       " '付',\n",
       " '属',\n",
       " '設',\n",
       " '備',\n",
       " '純',\n",
       " '資',\n",
       " '産',\n",
       " 'の',\n",
       " '部',\n",
       " 'リ',\n",
       " 'ー',\n",
       " 'ス',\n",
       " '債',\n",
       " '務',\n",
       " '貸',\n",
       " '倒',\n",
       " '引',\n",
       " '当',\n",
       " '金',\n",
       " '仮',\n",
       " '払',\n",
       " '金',\n",
       " '負',\n",
       " '債',\n",
       " '合',\n",
       " '計',\n",
       " '【',\n",
       " '固',\n",
       " '定',\n",
       " '資',\n",
       " '産',\n",
       " '】',\n",
       " '長',\n",
       " '期',\n",
       " '未',\n",
       " '払',\n",
       " '金',\n",
       " '【',\n",
       " '固',\n",
       " '定',\n",
       " '負',\n",
       " '債',\n",
       " '】',\n",
       " 'そ',\n",
       " 'の',\n",
       " '他',\n",
       " '流',\n",
       " '動',\n",
       " '負',\n",
       " '債',\n",
       " '株式会社',\n",
       " 'ファッション・コ・ラボ',\n",
       " '（単位：千円）',\n",
       " '8,814,403',\n",
       " '38,131',\n",
       " '5,181,069',\n",
       " '498,413',\n",
       " '5,717,613',\n",
       " '37,244',\n",
       " '2,039',\n",
       " '5,682,408',\n",
       " '5,682,408',\n",
       " '3,131,996',\n",
       " '2,820,142',\n",
       " '2,820,142',\n",
       " '311,854',\n",
       " '5',\n",
       " '0',\n",
       " '5',\n",
       " '11,125',\n",
       " '204',\n",
       " '1,066',\n",
       " '12,395',\n",
       " '299,463',\n",
       " '14,202',\n",
       " '14,202',\n",
       " '27,720',\n",
       " '27,720',\n",
       " '285,945',\n",
       " '82,622',\n",
       " '△',\n",
       " '140,413',\n",
       " '343,737',\n",
       " '（注）金額は千円未満を四捨五入で表示しております。',\n",
       " '損',\n",
       " '益',\n",
       " '計',\n",
       " '算',\n",
       " '書',\n",
       " '自',\n",
       " '令和',\n",
       " '2年',\n",
       " '4月',\n",
       " '1日',\n",
       " '至',\n",
       " '令和',\n",
       " '3年',\n",
       " '3月',\n",
       " '31日',\n",
       " '科',\n",
       " '目',\n",
       " 'そ',\n",
       " 'の',\n",
       " '他',\n",
       " 'の',\n",
       " '営',\n",
       " '業',\n",
       " '外',\n",
       " '費',\n",
       " '用',\n",
       " '固',\n",
       " '定',\n",
       " '資',\n",
       " '産',\n",
       " '除',\n",
       " '売',\n",
       " '却',\n",
       " '損',\n",
       " '売',\n",
       " '上',\n",
       " '総',\n",
       " '利',\n",
       " '益',\n",
       " '【',\n",
       " '売',\n",
       " '上',\n",
       " '高',\n",
       " '】',\n",
       " '【',\n",
       " '売',\n",
       " '上',\n",
       " '原',\n",
       " '価',\n",
       " '】',\n",
       " '期',\n",
       " '首',\n",
       " '棚',\n",
       " '卸',\n",
       " '高',\n",
       " '商',\n",
       " '品',\n",
       " '仕',\n",
       " '入',\n",
       " '高',\n",
       " '合',\n",
       " '計',\n",
       " '売',\n",
       " '上',\n",
       " '原',\n",
       " '価',\n",
       " '合',\n",
       " '計',\n",
       " '役',\n",
       " '務',\n",
       " '原',\n",
       " '価',\n",
       " '期',\n",
       " '末',\n",
       " '棚',\n",
       " '卸',\n",
       " '高',\n",
       " '商',\n",
       " '品',\n",
       " '評',\n",
       " '価',\n",
       " '損',\n",
       " '【',\n",
       " '販',\n",
       " '売',\n",
       " '費',\n",
       " '及',\n",
       " 'び',\n",
       " '一',\n",
       " '般',\n",
       " '管',\n",
       " '理',\n",
       " '費',\n",
       " '】',\n",
       " '受',\n",
       " '取',\n",
       " '利',\n",
       " '息',\n",
       " '販',\n",
       " '売',\n",
       " '費',\n",
       " '及',\n",
       " 'び',\n",
       " '一',\n",
       " '般',\n",
       " '管',\n",
       " '理',\n",
       " '費',\n",
       " '営',\n",
       " '業',\n",
       " '利',\n",
       " '益',\n",
       " '【',\n",
       " '営',\n",
       " '業',\n",
       " '外',\n",
       " '収',\n",
       " '益',\n",
       " '】',\n",
       " 'そ',\n",
       " 'の',\n",
       " '他',\n",
       " 'の',\n",
       " '営',\n",
       " '業',\n",
       " '外',\n",
       " '収',\n",
       " '益',\n",
       " '【',\n",
       " '営',\n",
       " '業',\n",
       " '外',\n",
       " '費',\n",
       " '用',\n",
       " '】',\n",
       " '支',\n",
       " '払',\n",
       " '利',\n",
       " '息',\n",
       " '(',\n",
       " 'リ',\n",
       " '－',\n",
       " 'ス',\n",
       " ')',\n",
       " '支',\n",
       " '払',\n",
       " '利',\n",
       " '息',\n",
       " '当',\n",
       " '期',\n",
       " '純',\n",
       " '利',\n",
       " '益',\n",
       " '【',\n",
       " '特',\n",
       " '別',\n",
       " '利',\n",
       " '益',\n",
       " '】',\n",
       " 'そ',\n",
       " 'の',\n",
       " '他',\n",
       " '特',\n",
       " '別',\n",
       " '利',\n",
       " '益',\n",
       " 'リ',\n",
       " 'ー',\n",
       " 'ス',\n",
       " '資',\n",
       " '産',\n",
       " '除',\n",
       " '却',\n",
       " '損',\n",
       " '【',\n",
       " '特',\n",
       " '別',\n",
       " '損',\n",
       " '失',\n",
       " '】',\n",
       " '法',\n",
       " '人',\n",
       " '税',\n",
       " '及',\n",
       " 'び',\n",
       " '住',\n",
       " '民',\n",
       " '税',\n",
       " '経',\n",
       " '常',\n",
       " '利',\n",
       " '益',\n",
       " '税',\n",
       " '引',\n",
       " '前',\n",
       " '当',\n",
       " '期',\n",
       " '純',\n",
       " '利',\n",
       " '益',\n",
       " 'そ',\n",
       " 'の',\n",
       " '他',\n",
       " '特',\n",
       " '別',\n",
       " '損',\n",
       " '失',\n",
       " '貸',\n",
       " '倒',\n",
       " '引',\n",
       " '当',\n",
       " '金',\n",
       " '戻',\n",
       " '入',\n",
       " '法',\n",
       " '人',\n",
       " '税',\n",
       " '等',\n",
       " '調',\n",
       " '整',\n",
       " '額',\n",
       " '株式会社',\n",
       " 'ファッション・コ・ラボ',\n",
       " '（単位：千円）',\n",
       " '繰',\n",
       " '越',\n",
       " '利',\n",
       " '益',\n",
       " '剰',\n",
       " '余',\n",
       " '金',\n",
       " '80,000',\n",
       " '424,711',\n",
       " '410,000',\n",
       " '834,711',\n",
       " '2,500',\n",
       " '△',\n",
       " '675,960',\n",
       " '△',\n",
       " '673,460',\n",
       " '241,251',\n",
       " '241,251',\n",
       " '事業承継による増加',\n",
       " '109,582',\n",
       " '109,582',\n",
       " '-',\n",
       " '109,582',\n",
       " '109,582',\n",
       " '当期純利益',\n",
       " '-',\n",
       " '343,737',\n",
       " '343,737',\n",
       " '343,737',\n",
       " '343,737',\n",
       " '-',\n",
       " '109,582',\n",
       " '-',\n",
       " '109,582',\n",
       " '-',\n",
       " '343,737',\n",
       " '343,737',\n",
       " '453,318',\n",
       " '453,318',\n",
       " '80,000',\n",
       " '534,293',\n",
       " '410,000',\n",
       " '944,293',\n",
       " '2,500',\n",
       " '△',\n",
       " '332,223',\n",
       " '△',\n",
       " '329,723',\n",
       " '694,570',\n",
       " '694,570',\n",
       " '（注）金額は千円未満を四捨五入で表示しております。',\n",
       " '株主資本等変動計算書に関する注記',\n",
       " '1',\n",
       " '発行済株式に関する事項',\n",
       " '（単位：株）',\n",
       " '当期首株式数',\n",
       " '当期末株式数',\n",
       " '発行済株式',\n",
       " '29,200',\n",
       " '29,200',\n",
       " '事業年度中の変動額合計',\n",
       " '株',\n",
       " '主',\n",
       " '資',\n",
       " '本',\n",
       " 'その他利益剰余金',\n",
       " '株',\n",
       " '主',\n",
       " '資',\n",
       " '本',\n",
       " '合',\n",
       " '計',\n",
       " '資',\n",
       " '本',\n",
       " '準',\n",
       " '備',\n",
       " '金',\n",
       " '株主資本等変動計算書',\n",
       " '自',\n",
       " '令和',\n",
       " '2年',\n",
       " '4月',\n",
       " '1日',\n",
       " '至',\n",
       " '令和',\n",
       " '3年',\n",
       " '3月',\n",
       " '31日',\n",
       " '当期首残高',\n",
       " '純',\n",
       " '資',\n",
       " '産',\n",
       " '合',\n",
       " '計',\n",
       " '摘',\n",
       " '要',\n",
       " '利',\n",
       " '益',\n",
       " '準',\n",
       " '備',\n",
       " '金計',\n",
       " '計',\n",
       " '当期末残高',\n",
       " 'そ',\n",
       " 'の',\n",
       " '他',\n",
       " '資',\n",
       " '本',\n",
       " '剰',\n",
       " '余',\n",
       " '金',\n",
       " '資',\n",
       " '本',\n",
       " '金',\n",
       " '資本剰余金',\n",
       " '利',\n",
       " '益',\n",
       " '剰',\n",
       " '余',\n",
       " '金',\n",
       " '事業年度中の変動額',\n",
       " '【添付資料①】吸収分割契約（W→FCL）',\n",
       " '【添付資料②】FCL計算書類2103',\n",
       " '20220215',\n",
       " '事前開示書面本文（W→FCL）']"
      ]
     },
     "execution_count": 29,
     "metadata": {},
     "output_type": "execute_result"
    }
   ],
   "source": [
    "list_of_words"
   ]
  },
  {
   "cell_type": "code",
   "execution_count": 41,
   "id": "bc632f99",
   "metadata": {
    "ExecuteTime": {
     "end_time": "2022-03-14T16:58:43.972823Z",
     "start_time": "2022-03-14T16:58:43.968131Z"
    }
   },
   "outputs": [
    {
     "data": {
      "text/plain": [
       "(23, 12)"
      ]
     },
     "execution_count": 41,
     "metadata": {},
     "output_type": "execute_result"
    }
   ],
   "source": [
    "dfx.shape"
   ]
  },
  {
   "cell_type": "code",
   "execution_count": 42,
   "id": "25aeb061",
   "metadata": {
    "ExecuteTime": {
     "end_time": "2022-03-14T16:58:52.094183Z",
     "start_time": "2022-03-14T16:58:52.070423Z"
    }
   },
   "outputs": [
    {
     "data": {
      "text/html": [
       "<div>\n",
       "<style scoped>\n",
       "    .dataframe tbody tr th:only-of-type {\n",
       "        vertical-align: middle;\n",
       "    }\n",
       "\n",
       "    .dataframe tbody tr th {\n",
       "        vertical-align: top;\n",
       "    }\n",
       "\n",
       "    .dataframe thead th {\n",
       "        text-align: right;\n",
       "    }\n",
       "</style>\n",
       "<table border=\"1\" class=\"dataframe\">\n",
       "  <thead>\n",
       "    <tr style=\"text-align: right;\">\n",
       "      <th></th>\n",
       "      <th>symbol</th>\n",
       "      <th>globalArticleIndex</th>\n",
       "      <th>relativeArticleIndex</th>\n",
       "      <th>pageIndex</th>\n",
       "      <th>mainWebPage</th>\n",
       "      <th>mainLinkList</th>\n",
       "      <th>linkDateList</th>\n",
       "      <th>linkTitleList</th>\n",
       "      <th>articlesLinksList</th>\n",
       "      <th>timestamp</th>\n",
       "      <th>pdfName</th>\n",
       "      <th>content</th>\n",
       "    </tr>\n",
       "  </thead>\n",
       "  <tbody>\n",
       "    <tr>\n",
       "      <th>0</th>\n",
       "      <td>3612</td>\n",
       "      <td>1</td>\n",
       "      <td>1</td>\n",
       "      <td>1</td>\n",
       "      <td>https://www.nikkei.com/nkd/company/disclose/?s...</td>\n",
       "      <td>https://www.nikkei.com/nkd/company/disclose/?s...</td>\n",
       "      <td>22/3/3 15:00</td>\n",
       "      <td>国内小売事業 2022年3月期　月次売上概況（2月度）</td>\n",
       "      <td>https://www.nikkei.com/markets/company/sys/red...</td>\n",
       "      <td>2022-03-03 15:00:00</td>\n",
       "      <td>Firm_3612_n1_k1_p1_TS_2022_03_15_01_32_30</td>\n",
       "      <td>\\n\\n\\n\\n\\n\\n\\n\\n\\n\\n\\n\\n\\n\\n\\n\\n\\n\\n\\n\\n\\n\\n\\n...</td>\n",
       "    </tr>\n",
       "    <tr>\n",
       "      <th>1</th>\n",
       "      <td>3612</td>\n",
       "      <td>2</td>\n",
       "      <td>2</td>\n",
       "      <td>1</td>\n",
       "      <td>https://www.nikkei.com/nkd/company/disclose/?s...</td>\n",
       "      <td>https://www.nikkei.com/nkd/company/disclose/?s...</td>\n",
       "      <td>22/2/16 15:00</td>\n",
       "      <td>法定事前開示書類（会社分割）（株式会社ファッション・コ・ラボ）</td>\n",
       "      <td>https://www.nikkei.com/markets/company/sys/red...</td>\n",
       "      <td>2022-02-16 15:00:00</td>\n",
       "      <td>Firm_3612_n2_k2_p1_TS_2022_03_15_01_32_35</td>\n",
       "      <td>\\n\\n\\n\\n\\n\\n\\n\\n\\n\\n\\n\\n\\n\\n\\n\\n\\n\\n\\n\\n\\n\\n\\n...</td>\n",
       "    </tr>\n",
       "    <tr>\n",
       "      <th>2</th>\n",
       "      <td>3612</td>\n",
       "      <td>3</td>\n",
       "      <td>3</td>\n",
       "      <td>1</td>\n",
       "      <td>https://www.nikkei.com/nkd/company/disclose/?s...</td>\n",
       "      <td>https://www.nikkei.com/nkd/company/disclose/?s...</td>\n",
       "      <td>22/2/15 15:00</td>\n",
       "      <td>株式会社ナルミヤ・インターナショナル（証券コード：9275）株式に対する 公開買付けの結果及...</td>\n",
       "      <td>https://www.nikkei.com/markets/company/sys/red...</td>\n",
       "      <td>2022-02-15 15:00:00</td>\n",
       "      <td>Firm_3612_n3_k3_p1_TS_2022_03_15_01_32_41</td>\n",
       "      <td>\\n\\n\\n\\n\\n\\n\\n\\n\\n\\n\\n\\n\\n\\n\\n\\n\\n\\n\\n\\n\\n\\n\\n...</td>\n",
       "    </tr>\n",
       "    <tr>\n",
       "      <th>3</th>\n",
       "      <td>3612</td>\n",
       "      <td>4</td>\n",
       "      <td>4</td>\n",
       "      <td>1</td>\n",
       "      <td>https://www.nikkei.com/nkd/company/disclose/?s...</td>\n",
       "      <td>https://www.nikkei.com/nkd/company/disclose/?s...</td>\n",
       "      <td>22/2/3 15:00</td>\n",
       "      <td>2022年３月期 第３四半期決算短信〔ＩＦＲＳ〕（連結）</td>\n",
       "      <td>https://www.nikkei.com/markets/company/sys/red...</td>\n",
       "      <td>2022-02-03 15:00:00</td>\n",
       "      <td>Firm_3612_n4_k4_p1_TS_2022_03_15_01_32_47</td>\n",
       "      <td>\\n\\n\\n\\n\\n\\n\\n\\n\\n\\n\\n\\n\\n\\n\\n\\n\\n\\n\\n\\n\\n\\n\\n...</td>\n",
       "    </tr>\n",
       "    <tr>\n",
       "      <th>4</th>\n",
       "      <td>3612</td>\n",
       "      <td>5</td>\n",
       "      <td>5</td>\n",
       "      <td>1</td>\n",
       "      <td>https://www.nikkei.com/nkd/company/disclose/?s...</td>\n",
       "      <td>https://www.nikkei.com/nkd/company/disclose/?s...</td>\n",
       "      <td>22/2/3 15:00</td>\n",
       "      <td>2022年３月期 第３四半期決算補足資料（データブック）</td>\n",
       "      <td>https://www.nikkei.com/markets/company/sys/red...</td>\n",
       "      <td>2022-02-03 15:00:00</td>\n",
       "      <td>Firm_3612_n5_k5_p1_TS_2022_03_15_01_32_52</td>\n",
       "      <td>\\n\\n\\n\\n\\n\\n\\n\\n\\n\\n\\n\\n\\n\\n\\n\\n\\n\\n\\n\\n\\n\\n\\n...</td>\n",
       "    </tr>\n",
       "    <tr>\n",
       "      <th>5</th>\n",
       "      <td>3612</td>\n",
       "      <td>6</td>\n",
       "      <td>6</td>\n",
       "      <td>1</td>\n",
       "      <td>https://www.nikkei.com/nkd/company/disclose/?s...</td>\n",
       "      <td>https://www.nikkei.com/nkd/company/disclose/?s...</td>\n",
       "      <td>22/2/3 15:00</td>\n",
       "      <td>連結子会社との吸収分割（簡易・略式吸収分割）に関するお知らせ</td>\n",
       "      <td>https://www.nikkei.com/markets/company/sys/red...</td>\n",
       "      <td>2022-02-03 15:00:00</td>\n",
       "      <td>Firm_3612_n6_k6_p1_TS_2022_03_15_01_32_58</td>\n",
       "      <td>\\n\\n\\n\\n\\n\\n\\n\\n\\n\\n\\n\\n\\n\\n\\n\\n\\n\\n\\n\\n\\n\\n\\n...</td>\n",
       "    </tr>\n",
       "    <tr>\n",
       "      <th>6</th>\n",
       "      <td>3612</td>\n",
       "      <td>7</td>\n",
       "      <td>7</td>\n",
       "      <td>1</td>\n",
       "      <td>https://www.nikkei.com/nkd/company/disclose/?s...</td>\n",
       "      <td>https://www.nikkei.com/nkd/company/disclose/?s...</td>\n",
       "      <td>22/2/3 15:00</td>\n",
       "      <td>国内小売事業 2022年3月期　月次売上概況（1月度）</td>\n",
       "      <td>https://www.nikkei.com/markets/company/sys/red...</td>\n",
       "      <td>2022-02-03 15:00:00</td>\n",
       "      <td>Firm_3612_n7_k7_p1_TS_2022_03_15_01_33_03</td>\n",
       "      <td>\\n\\n\\n\\n\\n\\n\\n\\n\\n\\n\\n\\n\\n\\n\\n\\n\\n\\n\\n\\n\\n\\n\\n...</td>\n",
       "    </tr>\n",
       "    <tr>\n",
       "      <th>7</th>\n",
       "      <td>3612</td>\n",
       "      <td>8</td>\n",
       "      <td>8</td>\n",
       "      <td>1</td>\n",
       "      <td>https://www.nikkei.com/nkd/company/disclose/?s...</td>\n",
       "      <td>https://www.nikkei.com/nkd/company/disclose/?s...</td>\n",
       "      <td>22/1/13 21:10</td>\n",
       "      <td>業績予想の修正に関するお知らせ</td>\n",
       "      <td>https://www.nikkei.com/markets/company/sys/red...</td>\n",
       "      <td>2022-01-13 21:10:00</td>\n",
       "      <td>Firm_3612_n8_k8_p1_TS_2022_03_15_01_33_09</td>\n",
       "      <td>\\n\\n\\n\\n\\n\\n\\n\\n\\n\\n\\n\\n\\n\\n\\n\\n\\n\\n\\n\\n\\n\\n\\n...</td>\n",
       "    </tr>\n",
       "    <tr>\n",
       "      <th>8</th>\n",
       "      <td>3612</td>\n",
       "      <td>9</td>\n",
       "      <td>9</td>\n",
       "      <td>1</td>\n",
       "      <td>https://www.nikkei.com/nkd/company/disclose/?s...</td>\n",
       "      <td>https://www.nikkei.com/nkd/company/disclose/?s...</td>\n",
       "      <td>22/1/13 21:10</td>\n",
       "      <td>株式会社ナルミヤ・インターナショナル（証券コード：9275）株式に対する公開買付けの開始 並...</td>\n",
       "      <td>https://www.nikkei.com/markets/company/sys/red...</td>\n",
       "      <td>2022-01-13 21:10:00</td>\n",
       "      <td>Firm_3612_n9_k9_p1_TS_2022_03_15_01_33_14</td>\n",
       "      <td>\\n\\n\\n\\n\\n\\n\\n\\n\\n\\n\\n\\n\\n\\n\\n\\n\\n\\n\\n\\n\\n\\n\\n...</td>\n",
       "    </tr>\n",
       "    <tr>\n",
       "      <th>9</th>\n",
       "      <td>3612</td>\n",
       "      <td>10</td>\n",
       "      <td>10</td>\n",
       "      <td>1</td>\n",
       "      <td>https://www.nikkei.com/nkd/company/disclose/?s...</td>\n",
       "      <td>https://www.nikkei.com/nkd/company/disclose/?s...</td>\n",
       "      <td>22/1/6 15:00</td>\n",
       "      <td>国内小売事業 2022年3月期　月次売上概況（12月度）</td>\n",
       "      <td>https://www.nikkei.com/markets/company/sys/red...</td>\n",
       "      <td>2022-01-06 15:00:00</td>\n",
       "      <td>Firm_3612_n10_k10_p1_TS_2022_03_15_01_33_20</td>\n",
       "      <td>\\n\\n\\n\\n\\n\\n\\n\\n\\n\\n\\n\\n\\n\\n\\n\\n\\n\\n\\n\\n\\n\\n\\n...</td>\n",
       "    </tr>\n",
       "    <tr>\n",
       "      <th>10</th>\n",
       "      <td>3612</td>\n",
       "      <td>11</td>\n",
       "      <td>11</td>\n",
       "      <td>1</td>\n",
       "      <td>https://www.nikkei.com/nkd/company/disclose/?s...</td>\n",
       "      <td>https://www.nikkei.com/nkd/company/disclose/?s...</td>\n",
       "      <td>21/12/3 15:00</td>\n",
       "      <td>国内小売事業 2022年3月期　月次売上概況（11月度）</td>\n",
       "      <td>https://www.nikkei.com/markets/company/sys/red...</td>\n",
       "      <td>2021-12-03 15:00:00</td>\n",
       "      <td>Firm_3612_n11_k11_p1_TS_2022_03_15_01_33_25</td>\n",
       "      <td>\\n\\n\\n\\n\\n\\n\\n\\n\\n\\n\\n\\n\\n\\n\\n\\n\\n\\n\\n\\n\\n\\n\\n...</td>\n",
       "    </tr>\n",
       "    <tr>\n",
       "      <th>11</th>\n",
       "      <td>3612</td>\n",
       "      <td>12</td>\n",
       "      <td>12</td>\n",
       "      <td>1</td>\n",
       "      <td>https://www.nikkei.com/nkd/company/disclose/?s...</td>\n",
       "      <td>https://www.nikkei.com/nkd/company/disclose/?s...</td>\n",
       "      <td>21/12/1 14:58</td>\n",
       "      <td>コーポレート・ガバナンスに関する報告書 2021/12/01</td>\n",
       "      <td>https://www.nikkei.com/markets/company/sys/red...</td>\n",
       "      <td>2021-12-01 14:58:00</td>\n",
       "      <td>Firm_3612_n12_k12_p1_TS_2022_03_15_01_33_31</td>\n",
       "      <td>\\n\\n\\n\\n\\n\\n\\n\\n\\n\\n\\n\\n\\n\\n\\n\\n\\n\\n\\n\\n\\n\\n\\n...</td>\n",
       "    </tr>\n",
       "    <tr>\n",
       "      <th>12</th>\n",
       "      <td>3612</td>\n",
       "      <td>13</td>\n",
       "      <td>13</td>\n",
       "      <td>1</td>\n",
       "      <td>https://www.nikkei.com/nkd/company/disclose/?s...</td>\n",
       "      <td>https://www.nikkei.com/nkd/company/disclose/?s...</td>\n",
       "      <td>21/11/4 15:00</td>\n",
       "      <td>2022年３月期 中間決算説明会資料</td>\n",
       "      <td>https://www.nikkei.com/markets/company/sys/red...</td>\n",
       "      <td>2021-11-04 15:00:00</td>\n",
       "      <td>Firm_3612_n13_k13_p1_TS_2022_03_15_01_33_36</td>\n",
       "      <td>\\n\\n\\n\\n\\n\\n\\n\\n\\n\\n\\n\\n\\n\\n\\n\\n\\n\\n\\n\\n\\n\\n\\n...</td>\n",
       "    </tr>\n",
       "    <tr>\n",
       "      <th>13</th>\n",
       "      <td>3612</td>\n",
       "      <td>14</td>\n",
       "      <td>14</td>\n",
       "      <td>1</td>\n",
       "      <td>https://www.nikkei.com/nkd/company/disclose/?s...</td>\n",
       "      <td>https://www.nikkei.com/nkd/company/disclose/?s...</td>\n",
       "      <td>21/11/4 15:00</td>\n",
       "      <td>2022年３月期 第２四半期決算補足資料（データブック）</td>\n",
       "      <td>https://www.nikkei.com/markets/company/sys/red...</td>\n",
       "      <td>2021-11-04 15:00:00</td>\n",
       "      <td>Firm_3612_n14_k14_p1_TS_2022_03_15_01_33_42</td>\n",
       "      <td>\\n\\n\\n\\n\\n\\n\\n\\n\\n\\n\\n\\n\\n\\n\\n\\n\\n\\n\\n\\n\\n\\n\\n...</td>\n",
       "    </tr>\n",
       "    <tr>\n",
       "      <th>14</th>\n",
       "      <td>3612</td>\n",
       "      <td>15</td>\n",
       "      <td>15</td>\n",
       "      <td>1</td>\n",
       "      <td>https://www.nikkei.com/nkd/company/disclose/?s...</td>\n",
       "      <td>https://www.nikkei.com/nkd/company/disclose/?s...</td>\n",
       "      <td>21/11/4 15:00</td>\n",
       "      <td>国内小売事業 2022年3月期　月次売上概況（10月度）</td>\n",
       "      <td>https://www.nikkei.com/markets/company/sys/red...</td>\n",
       "      <td>2021-11-04 15:00:00</td>\n",
       "      <td>Firm_3612_n15_k15_p1_TS_2022_03_15_01_33_47</td>\n",
       "      <td>\\n\\n\\n\\n\\n\\n\\n\\n\\n\\n\\n\\n\\n\\n\\n\\n\\n\\n\\n\\n\\n\\n\\n...</td>\n",
       "    </tr>\n",
       "    <tr>\n",
       "      <th>15</th>\n",
       "      <td>3612</td>\n",
       "      <td>16</td>\n",
       "      <td>16</td>\n",
       "      <td>1</td>\n",
       "      <td>https://www.nikkei.com/nkd/company/disclose/?s...</td>\n",
       "      <td>https://www.nikkei.com/nkd/company/disclose/?s...</td>\n",
       "      <td>21/11/4 15:00</td>\n",
       "      <td>2022年３月期 第２四半期決算短信〔ＩＦＲＳ〕（連結）</td>\n",
       "      <td>https://www.nikkei.com/markets/company/sys/red...</td>\n",
       "      <td>2021-11-04 15:00:00</td>\n",
       "      <td>Firm_3612_n16_k16_p1_TS_2022_03_15_01_33_53</td>\n",
       "      <td>\\n\\n\\n\\n\\n\\n\\n\\n\\n\\n\\n\\n\\n\\n\\n\\n\\n\\n\\n\\n\\n\\n\\n...</td>\n",
       "    </tr>\n",
       "    <tr>\n",
       "      <th>16</th>\n",
       "      <td>3612</td>\n",
       "      <td>17</td>\n",
       "      <td>17</td>\n",
       "      <td>1</td>\n",
       "      <td>https://www.nikkei.com/nkd/company/disclose/?s...</td>\n",
       "      <td>https://www.nikkei.com/nkd/company/disclose/?s...</td>\n",
       "      <td>21/11/4 15:00</td>\n",
       "      <td>第２四半期業績予想値と実績値との差異および通期業績予想の修正並びに配当予想の修正に関するお知らせ</td>\n",
       "      <td>https://www.nikkei.com/markets/company/sys/red...</td>\n",
       "      <td>2021-11-04 15:00:00</td>\n",
       "      <td>Firm_3612_n17_k17_p1_TS_2022_03_15_01_33_59</td>\n",
       "      <td>\\n\\n\\n\\n\\n\\n\\n\\n\\n\\n\\n\\n\\n\\n\\n\\n\\n\\n\\n\\n\\n\\n\\n...</td>\n",
       "    </tr>\n",
       "    <tr>\n",
       "      <th>17</th>\n",
       "      <td>3612</td>\n",
       "      <td>18</td>\n",
       "      <td>18</td>\n",
       "      <td>1</td>\n",
       "      <td>https://www.nikkei.com/nkd/company/disclose/?s...</td>\n",
       "      <td>https://www.nikkei.com/nkd/company/disclose/?s...</td>\n",
       "      <td>21/10/5 15:00</td>\n",
       "      <td>国内小売事業 2022年3月期　月次売上概況（9月度）</td>\n",
       "      <td>https://www.nikkei.com/markets/company/sys/red...</td>\n",
       "      <td>2021-10-05 15:00:00</td>\n",
       "      <td>Firm_3612_n18_k18_p1_TS_2022_03_15_01_34_04</td>\n",
       "      <td>\\n\\n\\n\\n\\n\\n\\n\\n\\n\\n\\n\\n\\n\\n\\n\\n\\n\\n\\n\\n\\n\\n\\n...</td>\n",
       "    </tr>\n",
       "    <tr>\n",
       "      <th>18</th>\n",
       "      <td>3612</td>\n",
       "      <td>19</td>\n",
       "      <td>19</td>\n",
       "      <td>1</td>\n",
       "      <td>https://www.nikkei.com/nkd/company/disclose/?s...</td>\n",
       "      <td>https://www.nikkei.com/nkd/company/disclose/?s...</td>\n",
       "      <td>21/9/15 15:00</td>\n",
       "      <td>新市場区分「プライム市場」の選択申請に関するお知らせ</td>\n",
       "      <td>https://www.nikkei.com/markets/company/sys/red...</td>\n",
       "      <td>2021-09-15 15:00:00</td>\n",
       "      <td>Firm_3612_n19_k19_p1_TS_2022_03_15_01_34_10</td>\n",
       "      <td>\\n\\n\\n\\n\\n\\n\\n\\n\\n\\n\\n\\n\\n\\n\\n\\n\\n\\n\\n\\n\\n\\n\\n...</td>\n",
       "    </tr>\n",
       "    <tr>\n",
       "      <th>19</th>\n",
       "      <td>3612</td>\n",
       "      <td>20</td>\n",
       "      <td>20</td>\n",
       "      <td>1</td>\n",
       "      <td>https://www.nikkei.com/nkd/company/disclose/?s...</td>\n",
       "      <td>https://www.nikkei.com/nkd/company/disclose/?s...</td>\n",
       "      <td>21/9/3 15:00</td>\n",
       "      <td>国内小売事業 2022年3月期　月次売上概況（8月度）</td>\n",
       "      <td>https://www.nikkei.com/markets/company/sys/red...</td>\n",
       "      <td>2021-09-03 15:00:00</td>\n",
       "      <td>Firm_3612_n20_k20_p1_TS_2022_03_15_01_34_15</td>\n",
       "      <td>\\n\\n\\n\\n\\n\\n\\n\\n\\n\\n\\n\\n\\n\\n\\n\\n\\n\\n\\n\\n\\n\\n\\n...</td>\n",
       "    </tr>\n",
       "    <tr>\n",
       "      <th>20</th>\n",
       "      <td>3612</td>\n",
       "      <td>21</td>\n",
       "      <td>1</td>\n",
       "      <td>2</td>\n",
       "      <td>https://www.nikkei.com/nkd/company/disclose/?s...</td>\n",
       "      <td>https://www.nikkei.com/nkd/company/disclose/?s...</td>\n",
       "      <td>21/8/4 15:00</td>\n",
       "      <td>2022年３月期 第１四半期決算短信〔ＩＦＲＳ〕（連結）</td>\n",
       "      <td>https://www.nikkei.com/markets/company/sys/red...</td>\n",
       "      <td>2021-08-04 15:00:00</td>\n",
       "      <td>Firm_3612_n21_k1_p2_TS_2022_03_15_01_34_21</td>\n",
       "      <td>\\n\\n\\n\\n\\n\\n\\n\\n\\n\\n\\n\\n\\n\\n\\n\\n\\n\\n\\n\\n\\n\\n\\n...</td>\n",
       "    </tr>\n",
       "    <tr>\n",
       "      <th>21</th>\n",
       "      <td>3612</td>\n",
       "      <td>22</td>\n",
       "      <td>2</td>\n",
       "      <td>2</td>\n",
       "      <td>https://www.nikkei.com/nkd/company/disclose/?s...</td>\n",
       "      <td>https://www.nikkei.com/nkd/company/disclose/?s...</td>\n",
       "      <td>21/8/4 15:00</td>\n",
       "      <td>国内小売事業 2022年3月期　月次売上概況（7月度）</td>\n",
       "      <td>https://www.nikkei.com/markets/company/sys/red...</td>\n",
       "      <td>2021-08-04 15:00:00</td>\n",
       "      <td>Firm_3612_n22_k2_p2_TS_2022_03_15_01_34_26</td>\n",
       "      <td>\\n\\n\\n\\n\\n\\n\\n\\n\\n\\n\\n\\n\\n\\n\\n\\n\\n\\n\\n\\n\\n\\n\\n...</td>\n",
       "    </tr>\n",
       "    <tr>\n",
       "      <th>22</th>\n",
       "      <td>3612</td>\n",
       "      <td>23</td>\n",
       "      <td>3</td>\n",
       "      <td>2</td>\n",
       "      <td>https://www.nikkei.com/nkd/company/disclose/?s...</td>\n",
       "      <td>https://www.nikkei.com/nkd/company/disclose/?s...</td>\n",
       "      <td>21/8/4 15:00</td>\n",
       "      <td>2022年３月期 第１四半期決算補足資料（データブック）</td>\n",
       "      <td>https://www.nikkei.com/markets/company/sys/red...</td>\n",
       "      <td>2021-08-04 15:00:00</td>\n",
       "      <td>Firm_3612_n23_k3_p2_TS_2022_03_15_01_34_32</td>\n",
       "      <td>\\n\\n\\n\\n\\n\\n\\n\\n\\n\\n\\n\\n\\n\\n\\n\\n\\n\\n\\n\\n\\n\\n\\n...</td>\n",
       "    </tr>\n",
       "  </tbody>\n",
       "</table>\n",
       "</div>"
      ],
      "text/plain": [
       "   symbol  globalArticleIndex  relativeArticleIndex  pageIndex  \\\n",
       "0    3612                   1                     1          1   \n",
       "1    3612                   2                     2          1   \n",
       "2    3612                   3                     3          1   \n",
       "3    3612                   4                     4          1   \n",
       "4    3612                   5                     5          1   \n",
       "5    3612                   6                     6          1   \n",
       "6    3612                   7                     7          1   \n",
       "7    3612                   8                     8          1   \n",
       "8    3612                   9                     9          1   \n",
       "9    3612                  10                    10          1   \n",
       "10   3612                  11                    11          1   \n",
       "11   3612                  12                    12          1   \n",
       "12   3612                  13                    13          1   \n",
       "13   3612                  14                    14          1   \n",
       "14   3612                  15                    15          1   \n",
       "15   3612                  16                    16          1   \n",
       "16   3612                  17                    17          1   \n",
       "17   3612                  18                    18          1   \n",
       "18   3612                  19                    19          1   \n",
       "19   3612                  20                    20          1   \n",
       "20   3612                  21                     1          2   \n",
       "21   3612                  22                     2          2   \n",
       "22   3612                  23                     3          2   \n",
       "\n",
       "                                          mainWebPage  \\\n",
       "0   https://www.nikkei.com/nkd/company/disclose/?s...   \n",
       "1   https://www.nikkei.com/nkd/company/disclose/?s...   \n",
       "2   https://www.nikkei.com/nkd/company/disclose/?s...   \n",
       "3   https://www.nikkei.com/nkd/company/disclose/?s...   \n",
       "4   https://www.nikkei.com/nkd/company/disclose/?s...   \n",
       "5   https://www.nikkei.com/nkd/company/disclose/?s...   \n",
       "6   https://www.nikkei.com/nkd/company/disclose/?s...   \n",
       "7   https://www.nikkei.com/nkd/company/disclose/?s...   \n",
       "8   https://www.nikkei.com/nkd/company/disclose/?s...   \n",
       "9   https://www.nikkei.com/nkd/company/disclose/?s...   \n",
       "10  https://www.nikkei.com/nkd/company/disclose/?s...   \n",
       "11  https://www.nikkei.com/nkd/company/disclose/?s...   \n",
       "12  https://www.nikkei.com/nkd/company/disclose/?s...   \n",
       "13  https://www.nikkei.com/nkd/company/disclose/?s...   \n",
       "14  https://www.nikkei.com/nkd/company/disclose/?s...   \n",
       "15  https://www.nikkei.com/nkd/company/disclose/?s...   \n",
       "16  https://www.nikkei.com/nkd/company/disclose/?s...   \n",
       "17  https://www.nikkei.com/nkd/company/disclose/?s...   \n",
       "18  https://www.nikkei.com/nkd/company/disclose/?s...   \n",
       "19  https://www.nikkei.com/nkd/company/disclose/?s...   \n",
       "20  https://www.nikkei.com/nkd/company/disclose/?s...   \n",
       "21  https://www.nikkei.com/nkd/company/disclose/?s...   \n",
       "22  https://www.nikkei.com/nkd/company/disclose/?s...   \n",
       "\n",
       "                                         mainLinkList   linkDateList  \\\n",
       "0   https://www.nikkei.com/nkd/company/disclose/?s...   22/3/3 15:00   \n",
       "1   https://www.nikkei.com/nkd/company/disclose/?s...  22/2/16 15:00   \n",
       "2   https://www.nikkei.com/nkd/company/disclose/?s...  22/2/15 15:00   \n",
       "3   https://www.nikkei.com/nkd/company/disclose/?s...   22/2/3 15:00   \n",
       "4   https://www.nikkei.com/nkd/company/disclose/?s...   22/2/3 15:00   \n",
       "5   https://www.nikkei.com/nkd/company/disclose/?s...   22/2/3 15:00   \n",
       "6   https://www.nikkei.com/nkd/company/disclose/?s...   22/2/3 15:00   \n",
       "7   https://www.nikkei.com/nkd/company/disclose/?s...  22/1/13 21:10   \n",
       "8   https://www.nikkei.com/nkd/company/disclose/?s...  22/1/13 21:10   \n",
       "9   https://www.nikkei.com/nkd/company/disclose/?s...   22/1/6 15:00   \n",
       "10  https://www.nikkei.com/nkd/company/disclose/?s...  21/12/3 15:00   \n",
       "11  https://www.nikkei.com/nkd/company/disclose/?s...  21/12/1 14:58   \n",
       "12  https://www.nikkei.com/nkd/company/disclose/?s...  21/11/4 15:00   \n",
       "13  https://www.nikkei.com/nkd/company/disclose/?s...  21/11/4 15:00   \n",
       "14  https://www.nikkei.com/nkd/company/disclose/?s...  21/11/4 15:00   \n",
       "15  https://www.nikkei.com/nkd/company/disclose/?s...  21/11/4 15:00   \n",
       "16  https://www.nikkei.com/nkd/company/disclose/?s...  21/11/4 15:00   \n",
       "17  https://www.nikkei.com/nkd/company/disclose/?s...  21/10/5 15:00   \n",
       "18  https://www.nikkei.com/nkd/company/disclose/?s...  21/9/15 15:00   \n",
       "19  https://www.nikkei.com/nkd/company/disclose/?s...   21/9/3 15:00   \n",
       "20  https://www.nikkei.com/nkd/company/disclose/?s...   21/8/4 15:00   \n",
       "21  https://www.nikkei.com/nkd/company/disclose/?s...   21/8/4 15:00   \n",
       "22  https://www.nikkei.com/nkd/company/disclose/?s...   21/8/4 15:00   \n",
       "\n",
       "                                        linkTitleList  \\\n",
       "0                         国内小売事業 2022年3月期　月次売上概況（2月度）   \n",
       "1                     法定事前開示書類（会社分割）（株式会社ファッション・コ・ラボ）   \n",
       "2   株式会社ナルミヤ・インターナショナル（証券コード：9275）株式に対する 公開買付けの結果及...   \n",
       "3                        2022年３月期 第３四半期決算短信〔ＩＦＲＳ〕（連結）   \n",
       "4                        2022年３月期 第３四半期決算補足資料（データブック）   \n",
       "5                      連結子会社との吸収分割（簡易・略式吸収分割）に関するお知らせ   \n",
       "6                         国内小売事業 2022年3月期　月次売上概況（1月度）   \n",
       "7                                     業績予想の修正に関するお知らせ   \n",
       "8   株式会社ナルミヤ・インターナショナル（証券コード：9275）株式に対する公開買付けの開始 並...   \n",
       "9                        国内小売事業 2022年3月期　月次売上概況（12月度）   \n",
       "10                       国内小売事業 2022年3月期　月次売上概況（11月度）   \n",
       "11                     コーポレート・ガバナンスに関する報告書 2021/12/01   \n",
       "12                                 2022年３月期 中間決算説明会資料   \n",
       "13                       2022年３月期 第２四半期決算補足資料（データブック）   \n",
       "14                       国内小売事業 2022年3月期　月次売上概況（10月度）   \n",
       "15                       2022年３月期 第２四半期決算短信〔ＩＦＲＳ〕（連結）   \n",
       "16   第２四半期業績予想値と実績値との差異および通期業績予想の修正並びに配当予想の修正に関するお知らせ   \n",
       "17                        国内小売事業 2022年3月期　月次売上概況（9月度）   \n",
       "18                         新市場区分「プライム市場」の選択申請に関するお知らせ   \n",
       "19                        国内小売事業 2022年3月期　月次売上概況（8月度）   \n",
       "20                       2022年３月期 第１四半期決算短信〔ＩＦＲＳ〕（連結）   \n",
       "21                        国内小売事業 2022年3月期　月次売上概況（7月度）   \n",
       "22                       2022年３月期 第１四半期決算補足資料（データブック）   \n",
       "\n",
       "                                    articlesLinksList           timestamp  \\\n",
       "0   https://www.nikkei.com/markets/company/sys/red... 2022-03-03 15:00:00   \n",
       "1   https://www.nikkei.com/markets/company/sys/red... 2022-02-16 15:00:00   \n",
       "2   https://www.nikkei.com/markets/company/sys/red... 2022-02-15 15:00:00   \n",
       "3   https://www.nikkei.com/markets/company/sys/red... 2022-02-03 15:00:00   \n",
       "4   https://www.nikkei.com/markets/company/sys/red... 2022-02-03 15:00:00   \n",
       "5   https://www.nikkei.com/markets/company/sys/red... 2022-02-03 15:00:00   \n",
       "6   https://www.nikkei.com/markets/company/sys/red... 2022-02-03 15:00:00   \n",
       "7   https://www.nikkei.com/markets/company/sys/red... 2022-01-13 21:10:00   \n",
       "8   https://www.nikkei.com/markets/company/sys/red... 2022-01-13 21:10:00   \n",
       "9   https://www.nikkei.com/markets/company/sys/red... 2022-01-06 15:00:00   \n",
       "10  https://www.nikkei.com/markets/company/sys/red... 2021-12-03 15:00:00   \n",
       "11  https://www.nikkei.com/markets/company/sys/red... 2021-12-01 14:58:00   \n",
       "12  https://www.nikkei.com/markets/company/sys/red... 2021-11-04 15:00:00   \n",
       "13  https://www.nikkei.com/markets/company/sys/red... 2021-11-04 15:00:00   \n",
       "14  https://www.nikkei.com/markets/company/sys/red... 2021-11-04 15:00:00   \n",
       "15  https://www.nikkei.com/markets/company/sys/red... 2021-11-04 15:00:00   \n",
       "16  https://www.nikkei.com/markets/company/sys/red... 2021-11-04 15:00:00   \n",
       "17  https://www.nikkei.com/markets/company/sys/red... 2021-10-05 15:00:00   \n",
       "18  https://www.nikkei.com/markets/company/sys/red... 2021-09-15 15:00:00   \n",
       "19  https://www.nikkei.com/markets/company/sys/red... 2021-09-03 15:00:00   \n",
       "20  https://www.nikkei.com/markets/company/sys/red... 2021-08-04 15:00:00   \n",
       "21  https://www.nikkei.com/markets/company/sys/red... 2021-08-04 15:00:00   \n",
       "22  https://www.nikkei.com/markets/company/sys/red... 2021-08-04 15:00:00   \n",
       "\n",
       "                                        pdfName  \\\n",
       "0     Firm_3612_n1_k1_p1_TS_2022_03_15_01_32_30   \n",
       "1     Firm_3612_n2_k2_p1_TS_2022_03_15_01_32_35   \n",
       "2     Firm_3612_n3_k3_p1_TS_2022_03_15_01_32_41   \n",
       "3     Firm_3612_n4_k4_p1_TS_2022_03_15_01_32_47   \n",
       "4     Firm_3612_n5_k5_p1_TS_2022_03_15_01_32_52   \n",
       "5     Firm_3612_n6_k6_p1_TS_2022_03_15_01_32_58   \n",
       "6     Firm_3612_n7_k7_p1_TS_2022_03_15_01_33_03   \n",
       "7     Firm_3612_n8_k8_p1_TS_2022_03_15_01_33_09   \n",
       "8     Firm_3612_n9_k9_p1_TS_2022_03_15_01_33_14   \n",
       "9   Firm_3612_n10_k10_p1_TS_2022_03_15_01_33_20   \n",
       "10  Firm_3612_n11_k11_p1_TS_2022_03_15_01_33_25   \n",
       "11  Firm_3612_n12_k12_p1_TS_2022_03_15_01_33_31   \n",
       "12  Firm_3612_n13_k13_p1_TS_2022_03_15_01_33_36   \n",
       "13  Firm_3612_n14_k14_p1_TS_2022_03_15_01_33_42   \n",
       "14  Firm_3612_n15_k15_p1_TS_2022_03_15_01_33_47   \n",
       "15  Firm_3612_n16_k16_p1_TS_2022_03_15_01_33_53   \n",
       "16  Firm_3612_n17_k17_p1_TS_2022_03_15_01_33_59   \n",
       "17  Firm_3612_n18_k18_p1_TS_2022_03_15_01_34_04   \n",
       "18  Firm_3612_n19_k19_p1_TS_2022_03_15_01_34_10   \n",
       "19  Firm_3612_n20_k20_p1_TS_2022_03_15_01_34_15   \n",
       "20   Firm_3612_n21_k1_p2_TS_2022_03_15_01_34_21   \n",
       "21   Firm_3612_n22_k2_p2_TS_2022_03_15_01_34_26   \n",
       "22   Firm_3612_n23_k3_p2_TS_2022_03_15_01_34_32   \n",
       "\n",
       "                                              content  \n",
       "0   \\n\\n\\n\\n\\n\\n\\n\\n\\n\\n\\n\\n\\n\\n\\n\\n\\n\\n\\n\\n\\n\\n\\n...  \n",
       "1   \\n\\n\\n\\n\\n\\n\\n\\n\\n\\n\\n\\n\\n\\n\\n\\n\\n\\n\\n\\n\\n\\n\\n...  \n",
       "2   \\n\\n\\n\\n\\n\\n\\n\\n\\n\\n\\n\\n\\n\\n\\n\\n\\n\\n\\n\\n\\n\\n\\n...  \n",
       "3   \\n\\n\\n\\n\\n\\n\\n\\n\\n\\n\\n\\n\\n\\n\\n\\n\\n\\n\\n\\n\\n\\n\\n...  \n",
       "4   \\n\\n\\n\\n\\n\\n\\n\\n\\n\\n\\n\\n\\n\\n\\n\\n\\n\\n\\n\\n\\n\\n\\n...  \n",
       "5   \\n\\n\\n\\n\\n\\n\\n\\n\\n\\n\\n\\n\\n\\n\\n\\n\\n\\n\\n\\n\\n\\n\\n...  \n",
       "6   \\n\\n\\n\\n\\n\\n\\n\\n\\n\\n\\n\\n\\n\\n\\n\\n\\n\\n\\n\\n\\n\\n\\n...  \n",
       "7   \\n\\n\\n\\n\\n\\n\\n\\n\\n\\n\\n\\n\\n\\n\\n\\n\\n\\n\\n\\n\\n\\n\\n...  \n",
       "8   \\n\\n\\n\\n\\n\\n\\n\\n\\n\\n\\n\\n\\n\\n\\n\\n\\n\\n\\n\\n\\n\\n\\n...  \n",
       "9   \\n\\n\\n\\n\\n\\n\\n\\n\\n\\n\\n\\n\\n\\n\\n\\n\\n\\n\\n\\n\\n\\n\\n...  \n",
       "10  \\n\\n\\n\\n\\n\\n\\n\\n\\n\\n\\n\\n\\n\\n\\n\\n\\n\\n\\n\\n\\n\\n\\n...  \n",
       "11  \\n\\n\\n\\n\\n\\n\\n\\n\\n\\n\\n\\n\\n\\n\\n\\n\\n\\n\\n\\n\\n\\n\\n...  \n",
       "12  \\n\\n\\n\\n\\n\\n\\n\\n\\n\\n\\n\\n\\n\\n\\n\\n\\n\\n\\n\\n\\n\\n\\n...  \n",
       "13  \\n\\n\\n\\n\\n\\n\\n\\n\\n\\n\\n\\n\\n\\n\\n\\n\\n\\n\\n\\n\\n\\n\\n...  \n",
       "14  \\n\\n\\n\\n\\n\\n\\n\\n\\n\\n\\n\\n\\n\\n\\n\\n\\n\\n\\n\\n\\n\\n\\n...  \n",
       "15  \\n\\n\\n\\n\\n\\n\\n\\n\\n\\n\\n\\n\\n\\n\\n\\n\\n\\n\\n\\n\\n\\n\\n...  \n",
       "16  \\n\\n\\n\\n\\n\\n\\n\\n\\n\\n\\n\\n\\n\\n\\n\\n\\n\\n\\n\\n\\n\\n\\n...  \n",
       "17  \\n\\n\\n\\n\\n\\n\\n\\n\\n\\n\\n\\n\\n\\n\\n\\n\\n\\n\\n\\n\\n\\n\\n...  \n",
       "18  \\n\\n\\n\\n\\n\\n\\n\\n\\n\\n\\n\\n\\n\\n\\n\\n\\n\\n\\n\\n\\n\\n\\n...  \n",
       "19  \\n\\n\\n\\n\\n\\n\\n\\n\\n\\n\\n\\n\\n\\n\\n\\n\\n\\n\\n\\n\\n\\n\\n...  \n",
       "20  \\n\\n\\n\\n\\n\\n\\n\\n\\n\\n\\n\\n\\n\\n\\n\\n\\n\\n\\n\\n\\n\\n\\n...  \n",
       "21  \\n\\n\\n\\n\\n\\n\\n\\n\\n\\n\\n\\n\\n\\n\\n\\n\\n\\n\\n\\n\\n\\n\\n...  \n",
       "22  \\n\\n\\n\\n\\n\\n\\n\\n\\n\\n\\n\\n\\n\\n\\n\\n\\n\\n\\n\\n\\n\\n\\n...  "
      ]
     },
     "execution_count": 42,
     "metadata": {},
     "output_type": "execute_result"
    }
   ],
   "source": [
    "dfx"
   ]
  },
  {
   "cell_type": "code",
   "execution_count": 46,
   "id": "ea33671c",
   "metadata": {
    "ExecuteTime": {
     "end_time": "2022-03-15T03:09:56.510384Z",
     "start_time": "2022-03-15T03:09:56.356803Z"
    }
   },
   "outputs": [],
   "source": [
    "with open(\"./database/disclosureProcessedData/parsedConverated/Batch_4/Global_DataFrame_up_to_batch_4.pickle\", mode = 'rb') as handle: \n",
    "    dftotal4 = pickle.load(handle) "
   ]
  },
  {
   "cell_type": "code",
   "execution_count": 49,
   "id": "3a0bc3b3",
   "metadata": {
    "ExecuteTime": {
     "end_time": "2022-03-15T03:10:29.717935Z",
     "start_time": "2022-03-15T03:10:29.705550Z"
    }
   },
   "outputs": [
    {
     "name": "stdout",
     "output_type": "stream",
     "text": [
      "<class 'pandas.core.frame.DataFrame'>\n",
      "Int64Index: 1739 entries, 0 to 0\n",
      "Data columns (total 12 columns):\n",
      " #   Column                Non-Null Count  Dtype \n",
      "---  ------                --------------  ----- \n",
      " 0   symbol                1739 non-null   object\n",
      " 1   globalArticleIndex    1739 non-null   object\n",
      " 2   relativeArticleIndex  1739 non-null   object\n",
      " 3   pageIndex             1739 non-null   object\n",
      " 4   mainWebPage           1739 non-null   object\n",
      " 5   mainLinkList          1739 non-null   object\n",
      " 6   linkDateList          1739 non-null   object\n",
      " 7   linkTitleList         1739 non-null   object\n",
      " 8   articlesLinksList     1739 non-null   object\n",
      " 9   timestamp             1739 non-null   object\n",
      " 10  pdfName               1738 non-null   object\n",
      " 11  content               1738 non-null   object\n",
      "dtypes: object(12)\n",
      "memory usage: 208.9+ KB\n"
     ]
    }
   ],
   "source": [
    "dftotal4.info()"
   ]
  },
  {
   "cell_type": "code",
   "execution_count": 39,
   "id": "1cd1368e",
   "metadata": {
    "ExecuteTime": {
     "end_time": "2022-03-22T07:45:19.592816Z",
     "start_time": "2022-03-22T07:45:19.589004Z"
    }
   },
   "outputs": [],
   "source": [
    "import pickle\n",
    "b1_path = \"./database/disclosureProcessedData/parsedConverated/Batch_1/Global_DataFrame_up_to_batch_1.pickle\"\n",
    "def aggreate_articles(batch_path= b1_path):\n",
    "    with open(batch_path, mode = 'rb') as handle:\n",
    "        df = pickle.load(handle)\n",
    "    df.set_index(['symbol', 'timestamp'], inplace = True, drop = False)\n",
    "    df_symbols_processed = len(df['symbol'].unique())\n",
    "    return df , df_symbols_processed"
   ]
  },
  {
   "cell_type": "code",
   "execution_count": 41,
   "id": "5d491da8",
   "metadata": {
    "ExecuteTime": {
     "end_time": "2022-03-22T07:45:27.485744Z",
     "start_time": "2022-03-22T07:45:27.398741Z"
    }
   },
   "outputs": [
    {
     "data": {
      "text/plain": [
       "19260"
      ]
     },
     "execution_count": 41,
     "metadata": {},
     "output_type": "execute_result"
    }
   ],
   "source": [
    "df, L = aggreate_articles()\n",
    "df.size"
   ]
  },
  {
   "cell_type": "code",
   "execution_count": 59,
   "id": "59476ac3",
   "metadata": {
    "ExecuteTime": {
     "end_time": "2022-03-22T07:58:36.107526Z",
     "start_time": "2022-03-22T07:58:31.271675Z"
    }
   },
   "outputs": [
    {
     "data": {
      "application/vnd.jupyter.widget-view+json": {
       "model_id": "5df322e5a7d148319001ea73a6352818",
       "version_major": 2,
       "version_minor": 0
      },
      "text/plain": [
       "Output()"
      ]
     },
     "metadata": {},
     "output_type": "display_data"
    }
   ],
   "source": [
    "from rich.console import Console \n",
    "from rich.progress import track\n",
    "console = Console()\n",
    "dft_list = []\n",
    "def create_full_data_frame():\n",
    "    for batch_num in  track(range(1,37)):\n",
    "        batch_path = f\"./database/disclosureProcessedData/parsedConverated/Batch_{batch_num}/Global_DataFrame_up_to_batch_{batch_num}.pickle\"\n",
    "        df, L = aggreate_articles(batch_path = batch_path)\n",
    "        dft_list.append(df)\n",
    "    dfT = pd.concat(dft_list, axis = 'rows')\n",
    "    return dfT"
   ]
  },
  {
   "cell_type": "code",
   "execution_count": 60,
   "id": "8a789c99",
   "metadata": {
    "ExecuteTime": {
     "end_time": "2022-03-22T07:58:36.765579Z",
     "start_time": "2022-03-22T07:58:36.759909Z"
    }
   },
   "outputs": [
    {
     "data": {
      "text/plain": [
       "3600"
      ]
     },
     "execution_count": 60,
     "metadata": {},
     "output_type": "execute_result"
    }
   ],
   "source": [
    "len(dfT['symbol'].unique())"
   ]
  },
  {
   "cell_type": "code",
   "execution_count": 62,
   "id": "2ad732e4",
   "metadata": {
    "ExecuteTime": {
     "end_time": "2022-03-22T08:09:09.252421Z",
     "start_time": "2022-03-22T08:09:03.331124Z"
    }
   },
   "outputs": [],
   "source": [
    "with open(\"./database/disclosureProcessedData/parsedConverated/TOTAL_BATCHES/Global_dataFrame_all_batches.pickle\", mode = 'wb') as handle:\n",
    "    pickle.dump(dfT, handle, protocol=pickle.HIGHEST_PROTOCOL)\n"
   ]
  },
  {
   "cell_type": "code",
   "execution_count": 63,
   "id": "3bb4f6ef",
   "metadata": {
    "ExecuteTime": {
     "end_time": "2022-03-22T08:26:04.423538Z",
     "start_time": "2022-03-22T08:26:04.392531Z"
    }
   },
   "outputs": [
    {
     "data": {
      "text/html": [
       "<div>\n",
       "<style scoped>\n",
       "    .dataframe tbody tr th:only-of-type {\n",
       "        vertical-align: middle;\n",
       "    }\n",
       "\n",
       "    .dataframe tbody tr th {\n",
       "        vertical-align: top;\n",
       "    }\n",
       "\n",
       "    .dataframe thead th {\n",
       "        text-align: right;\n",
       "    }\n",
       "</style>\n",
       "<table border=\"1\" class=\"dataframe\">\n",
       "  <thead>\n",
       "    <tr style=\"text-align: right;\">\n",
       "      <th></th>\n",
       "      <th></th>\n",
       "      <th>symbol</th>\n",
       "      <th>globalArticleIndex</th>\n",
       "      <th>relativeArticleIndex</th>\n",
       "      <th>pageIndex</th>\n",
       "      <th>mainWebPage</th>\n",
       "      <th>mainLinkList</th>\n",
       "      <th>linkDateList</th>\n",
       "      <th>linkTitleList</th>\n",
       "      <th>articlesLinksList</th>\n",
       "      <th>timestamp</th>\n",
       "      <th>pdfName</th>\n",
       "      <th>content</th>\n",
       "    </tr>\n",
       "    <tr>\n",
       "      <th>symbol</th>\n",
       "      <th>timestamp</th>\n",
       "      <th></th>\n",
       "      <th></th>\n",
       "      <th></th>\n",
       "      <th></th>\n",
       "      <th></th>\n",
       "      <th></th>\n",
       "      <th></th>\n",
       "      <th></th>\n",
       "      <th></th>\n",
       "      <th></th>\n",
       "      <th></th>\n",
       "      <th></th>\n",
       "    </tr>\n",
       "  </thead>\n",
       "  <tbody>\n",
       "    <tr>\n",
       "      <th rowspan=\"5\" valign=\"top\">1332</th>\n",
       "      <th>2022-02-28 17:10:00</th>\n",
       "      <td>1332</td>\n",
       "      <td>1</td>\n",
       "      <td>1</td>\n",
       "      <td>1</td>\n",
       "      <td>https://www.nikkei.com/nkd/company/disclose/?s...</td>\n",
       "      <td>https://www.nikkei.com/nkd/company/disclose/?s...</td>\n",
       "      <td>22/2/28 17:10</td>\n",
       "      <td>持分法適用関連会社株式に対する公開買付けに係る応募契約締結に関するお知らせ</td>\n",
       "      <td>https://www.nikkei.com/markets/company/sys/red...</td>\n",
       "      <td>2022-02-28 17:10:00</td>\n",
       "      <td>Firm_1332_n1_k1_p1_TS_2022_03_13_02_02_44</td>\n",
       "      <td>\\n\\n2022 年２月 28 日 \\n\\n各      位 \\n\\n          ...</td>\n",
       "    </tr>\n",
       "    <tr>\n",
       "      <th>2022-02-15 11:00:00</th>\n",
       "      <td>1332</td>\n",
       "      <td>2</td>\n",
       "      <td>2</td>\n",
       "      <td>1</td>\n",
       "      <td>https://www.nikkei.com/nkd/company/disclose/?s...</td>\n",
       "      <td>https://www.nikkei.com/nkd/company/disclose/?s...</td>\n",
       "      <td>22/2/15 11:00</td>\n",
       "      <td>法定事前開示書類（吸収分割）（弓ヶ浜水産株式会社）</td>\n",
       "      <td>https://www.nikkei.com/markets/company/sys/red...</td>\n",
       "      <td>2022-02-15 11:00:00</td>\n",
       "      <td>Firm_1332_n2_k2_p1_TS_2022_03_13_02_02_50</td>\n",
       "      <td>\\n\\n \\n\\n \\n\\n \\n\\n \\n\\n \\n\\n \\n\\n \\n\\n \\n\\n ...</td>\n",
       "    </tr>\n",
       "    <tr>\n",
       "      <th>2022-02-04 13:00:00</th>\n",
       "      <td>1332</td>\n",
       "      <td>3</td>\n",
       "      <td>3</td>\n",
       "      <td>1</td>\n",
       "      <td>https://www.nikkei.com/nkd/company/disclose/?s...</td>\n",
       "      <td>https://www.nikkei.com/nkd/company/disclose/?s...</td>\n",
       "      <td>22/2/4 13:00</td>\n",
       "      <td>2022年３月期　第３四半期決算　決算短信補足資料</td>\n",
       "      <td>https://www.nikkei.com/markets/company/sys/red...</td>\n",
       "      <td>2022-02-04 13:00:00</td>\n",
       "      <td>Firm_1332_n3_k3_p1_TS_2022_03_13_02_02_56</td>\n",
       "      <td>2022年３⽉期 第３四半期\\n\\n決算短信補⾜資料\\n\\n（注）「収益認識に関する会計基準...</td>\n",
       "    </tr>\n",
       "    <tr>\n",
       "      <th>2022-02-04 13:00:00</th>\n",
       "      <td>1332</td>\n",
       "      <td>4</td>\n",
       "      <td>4</td>\n",
       "      <td>1</td>\n",
       "      <td>https://www.nikkei.com/nkd/company/disclose/?s...</td>\n",
       "      <td>https://www.nikkei.com/nkd/company/disclose/?s...</td>\n",
       "      <td>22/2/4 13:00</td>\n",
       "      <td>特別損失（減損損失）の計上に関するお知らせ</td>\n",
       "      <td>https://www.nikkei.com/markets/company/sys/red...</td>\n",
       "      <td>2022-02-04 13:00:00</td>\n",
       "      <td>Firm_1332_n4_k4_p1_TS_2022_03_13_02_03_01</td>\n",
       "      <td>\\n\\n \\n\\n \\n\\n \\n\\n \\n\\n \\n\\n2022 年２月４日 \\n\\n各...</td>\n",
       "    </tr>\n",
       "    <tr>\n",
       "      <th>2022-02-04 13:00:00</th>\n",
       "      <td>1332</td>\n",
       "      <td>5</td>\n",
       "      <td>5</td>\n",
       "      <td>1</td>\n",
       "      <td>https://www.nikkei.com/nkd/company/disclose/?s...</td>\n",
       "      <td>https://www.nikkei.com/nkd/company/disclose/?s...</td>\n",
       "      <td>22/2/4 13:00</td>\n",
       "      <td>2022年３月期　第３四半期決算短信〔日本基準〕（連結）</td>\n",
       "      <td>https://www.nikkei.com/markets/company/sys/red...</td>\n",
       "      <td>2022-02-04 13:00:00</td>\n",
       "      <td>Firm_1332_n5_k5_p1_TS_2022_03_13_02_03_07</td>\n",
       "      <td>2022年３月期第３四半期決算短信〔日本基準〕(連結)2022年２月４日上場会社名日本水産株...</td>\n",
       "    </tr>\n",
       "    <tr>\n",
       "      <th>...</th>\n",
       "      <th>...</th>\n",
       "      <td>...</td>\n",
       "      <td>...</td>\n",
       "      <td>...</td>\n",
       "      <td>...</td>\n",
       "      <td>...</td>\n",
       "      <td>...</td>\n",
       "      <td>...</td>\n",
       "      <td>...</td>\n",
       "      <td>...</td>\n",
       "      <td>...</td>\n",
       "      <td>...</td>\n",
       "      <td>...</td>\n",
       "    </tr>\n",
       "    <tr>\n",
       "      <th rowspan=\"4\" valign=\"top\">9661</th>\n",
       "      <th>2022-01-13 16:00:00</th>\n",
       "      <td>9661</td>\n",
       "      <td>1</td>\n",
       "      <td>1</td>\n",
       "      <td>1</td>\n",
       "      <td>https://www.nikkei.com/nkd/company/disclose/?s...</td>\n",
       "      <td>https://www.nikkei.com/nkd/company/disclose/?s...</td>\n",
       "      <td>22/1/13 16:00</td>\n",
       "      <td>2022年２月期　第３四半期決算短信〔日本基準〕(連結)</td>\n",
       "      <td>https://www.nikkei.com/markets/company/sys/red...</td>\n",
       "      <td>2022-01-13 16:00:00</td>\n",
       "      <td>Firm_9661_n1_k1_p1_TS_2022_03_22_12_37_31</td>\n",
       "      <td>\\n\\n\\n\\n\\n\\n\\n\\n\\n\\n\\n\\n\\n\\n\\n\\n\\n\\n\\n\\n\\n\\n\\n...</td>\n",
       "    </tr>\n",
       "    <tr>\n",
       "      <th>2021-12-24 16:46:00</th>\n",
       "      <td>9661</td>\n",
       "      <td>2</td>\n",
       "      <td>2</td>\n",
       "      <td>1</td>\n",
       "      <td>https://www.nikkei.com/nkd/company/disclose/?s...</td>\n",
       "      <td>https://www.nikkei.com/nkd/company/disclose/?s...</td>\n",
       "      <td>21/12/24 16:46</td>\n",
       "      <td>コーポレート・ガバナンスに関する報告書 2021/12/24</td>\n",
       "      <td>https://www.nikkei.com/markets/company/sys/red...</td>\n",
       "      <td>2021-12-24 16:46:00</td>\n",
       "      <td>Firm_9661_n2_k2_p1_TS_2022_03_22_12_37_37</td>\n",
       "      <td>\\n\\n\\n\\n\\n\\n\\n\\n\\n\\n\\n\\n\\n\\n\\n\\n\\n\\n\\n\\n\\n\\n\\n...</td>\n",
       "    </tr>\n",
       "    <tr>\n",
       "      <th>2021-10-13 16:00:00</th>\n",
       "      <td>9661</td>\n",
       "      <td>3</td>\n",
       "      <td>3</td>\n",
       "      <td>1</td>\n",
       "      <td>https://www.nikkei.com/nkd/company/disclose/?s...</td>\n",
       "      <td>https://www.nikkei.com/nkd/company/disclose/?s...</td>\n",
       "      <td>21/10/13 16:00</td>\n",
       "      <td>2022年２月期　第２四半期決算短信〔日本基準〕(連結)</td>\n",
       "      <td>https://www.nikkei.com/markets/company/sys/red...</td>\n",
       "      <td>2021-10-13 16:00:00</td>\n",
       "      <td>Firm_9661_n3_k3_p1_TS_2022_03_22_12_37_42</td>\n",
       "      <td>\\n\\n\\n\\n\\n\\n\\n\\n\\n\\n\\n\\n\\n\\n\\n\\n\\n\\n\\n\\n\\n\\n\\n...</td>\n",
       "    </tr>\n",
       "    <tr>\n",
       "      <th>2021-10-13 16:00:00</th>\n",
       "      <td>9661</td>\n",
       "      <td>4</td>\n",
       "      <td>4</td>\n",
       "      <td>1</td>\n",
       "      <td>https://www.nikkei.com/nkd/company/disclose/?s...</td>\n",
       "      <td>https://www.nikkei.com/nkd/company/disclose/?s...</td>\n",
       "      <td>21/10/13 16:00</td>\n",
       "      <td>2022年２月期 第２四半期累計期間の業績予想と実績との差異及び通期の業績予想の修正に関する...</td>\n",
       "      <td>https://www.nikkei.com/markets/company/sys/red...</td>\n",
       "      <td>2021-10-13 16:00:00</td>\n",
       "      <td>Firm_9661_n4_k4_p1_TS_2022_03_22_12_37_48</td>\n",
       "      <td>\\n\\n\\n\\n\\n\\n\\n\\n\\n\\n\\n\\n\\n\\n\\n\\n\\n\\n\\n\\n\\n\\n\\n...</td>\n",
       "    </tr>\n",
       "    <tr>\n",
       "      <th>9358</th>\n",
       "      <th>9358</th>\n",
       "      <td>9358</td>\n",
       "      <td>9358</td>\n",
       "      <td>9358</td>\n",
       "      <td>9358</td>\n",
       "      <td>9358</td>\n",
       "      <td>9358</td>\n",
       "      <td>9358</td>\n",
       "      <td>9358</td>\n",
       "      <td>9358</td>\n",
       "      <td>9358</td>\n",
       "      <td>NaN</td>\n",
       "      <td>NaN</td>\n",
       "    </tr>\n",
       "  </tbody>\n",
       "</table>\n",
       "<p>48924 rows × 12 columns</p>\n",
       "</div>"
      ],
      "text/plain": [
       "                           symbol globalArticleIndex relativeArticleIndex  \\\n",
       "symbol timestamp                                                            \n",
       "1332   2022-02-28 17:10:00   1332                  1                    1   \n",
       "       2022-02-15 11:00:00   1332                  2                    2   \n",
       "       2022-02-04 13:00:00   1332                  3                    3   \n",
       "       2022-02-04 13:00:00   1332                  4                    4   \n",
       "       2022-02-04 13:00:00   1332                  5                    5   \n",
       "...                           ...                ...                  ...   \n",
       "9661   2022-01-13 16:00:00   9661                  1                    1   \n",
       "       2021-12-24 16:46:00   9661                  2                    2   \n",
       "       2021-10-13 16:00:00   9661                  3                    3   \n",
       "       2021-10-13 16:00:00   9661                  4                    4   \n",
       "9358   9358                  9358               9358                 9358   \n",
       "\n",
       "                           pageIndex  \\\n",
       "symbol timestamp                       \n",
       "1332   2022-02-28 17:10:00         1   \n",
       "       2022-02-15 11:00:00         1   \n",
       "       2022-02-04 13:00:00         1   \n",
       "       2022-02-04 13:00:00         1   \n",
       "       2022-02-04 13:00:00         1   \n",
       "...                              ...   \n",
       "9661   2022-01-13 16:00:00         1   \n",
       "       2021-12-24 16:46:00         1   \n",
       "       2021-10-13 16:00:00         1   \n",
       "       2021-10-13 16:00:00         1   \n",
       "9358   9358                     9358   \n",
       "\n",
       "                                                                  mainWebPage  \\\n",
       "symbol timestamp                                                                \n",
       "1332   2022-02-28 17:10:00  https://www.nikkei.com/nkd/company/disclose/?s...   \n",
       "       2022-02-15 11:00:00  https://www.nikkei.com/nkd/company/disclose/?s...   \n",
       "       2022-02-04 13:00:00  https://www.nikkei.com/nkd/company/disclose/?s...   \n",
       "       2022-02-04 13:00:00  https://www.nikkei.com/nkd/company/disclose/?s...   \n",
       "       2022-02-04 13:00:00  https://www.nikkei.com/nkd/company/disclose/?s...   \n",
       "...                                                                       ...   \n",
       "9661   2022-01-13 16:00:00  https://www.nikkei.com/nkd/company/disclose/?s...   \n",
       "       2021-12-24 16:46:00  https://www.nikkei.com/nkd/company/disclose/?s...   \n",
       "       2021-10-13 16:00:00  https://www.nikkei.com/nkd/company/disclose/?s...   \n",
       "       2021-10-13 16:00:00  https://www.nikkei.com/nkd/company/disclose/?s...   \n",
       "9358   9358                                                              9358   \n",
       "\n",
       "                                                                 mainLinkList  \\\n",
       "symbol timestamp                                                                \n",
       "1332   2022-02-28 17:10:00  https://www.nikkei.com/nkd/company/disclose/?s...   \n",
       "       2022-02-15 11:00:00  https://www.nikkei.com/nkd/company/disclose/?s...   \n",
       "       2022-02-04 13:00:00  https://www.nikkei.com/nkd/company/disclose/?s...   \n",
       "       2022-02-04 13:00:00  https://www.nikkei.com/nkd/company/disclose/?s...   \n",
       "       2022-02-04 13:00:00  https://www.nikkei.com/nkd/company/disclose/?s...   \n",
       "...                                                                       ...   \n",
       "9661   2022-01-13 16:00:00  https://www.nikkei.com/nkd/company/disclose/?s...   \n",
       "       2021-12-24 16:46:00  https://www.nikkei.com/nkd/company/disclose/?s...   \n",
       "       2021-10-13 16:00:00  https://www.nikkei.com/nkd/company/disclose/?s...   \n",
       "       2021-10-13 16:00:00  https://www.nikkei.com/nkd/company/disclose/?s...   \n",
       "9358   9358                                                              9358   \n",
       "\n",
       "                              linkDateList  \\\n",
       "symbol timestamp                             \n",
       "1332   2022-02-28 17:10:00   22/2/28 17:10   \n",
       "       2022-02-15 11:00:00   22/2/15 11:00   \n",
       "       2022-02-04 13:00:00    22/2/4 13:00   \n",
       "       2022-02-04 13:00:00    22/2/4 13:00   \n",
       "       2022-02-04 13:00:00    22/2/4 13:00   \n",
       "...                                    ...   \n",
       "9661   2022-01-13 16:00:00   22/1/13 16:00   \n",
       "       2021-12-24 16:46:00  21/12/24 16:46   \n",
       "       2021-10-13 16:00:00  21/10/13 16:00   \n",
       "       2021-10-13 16:00:00  21/10/13 16:00   \n",
       "9358   9358                           9358   \n",
       "\n",
       "                                                                linkTitleList  \\\n",
       "symbol timestamp                                                                \n",
       "1332   2022-02-28 17:10:00              持分法適用関連会社株式に対する公開買付けに係る応募契約締結に関するお知らせ   \n",
       "       2022-02-15 11:00:00                          法定事前開示書類（吸収分割）（弓ヶ浜水産株式会社）   \n",
       "       2022-02-04 13:00:00                          2022年３月期　第３四半期決算　決算短信補足資料   \n",
       "       2022-02-04 13:00:00                              特別損失（減損損失）の計上に関するお知らせ   \n",
       "       2022-02-04 13:00:00                       2022年３月期　第３四半期決算短信〔日本基準〕（連結）   \n",
       "...                                                                       ...   \n",
       "9661   2022-01-13 16:00:00                       2022年２月期　第３四半期決算短信〔日本基準〕(連結)   \n",
       "       2021-12-24 16:46:00                     コーポレート・ガバナンスに関する報告書 2021/12/24   \n",
       "       2021-10-13 16:00:00                       2022年２月期　第２四半期決算短信〔日本基準〕(連結)   \n",
       "       2021-10-13 16:00:00  2022年２月期 第２四半期累計期間の業績予想と実績との差異及び通期の業績予想の修正に関する...   \n",
       "9358   9358                                                              9358   \n",
       "\n",
       "                                                            articlesLinksList  \\\n",
       "symbol timestamp                                                                \n",
       "1332   2022-02-28 17:10:00  https://www.nikkei.com/markets/company/sys/red...   \n",
       "       2022-02-15 11:00:00  https://www.nikkei.com/markets/company/sys/red...   \n",
       "       2022-02-04 13:00:00  https://www.nikkei.com/markets/company/sys/red...   \n",
       "       2022-02-04 13:00:00  https://www.nikkei.com/markets/company/sys/red...   \n",
       "       2022-02-04 13:00:00  https://www.nikkei.com/markets/company/sys/red...   \n",
       "...                                                                       ...   \n",
       "9661   2022-01-13 16:00:00  https://www.nikkei.com/markets/company/sys/red...   \n",
       "       2021-12-24 16:46:00  https://www.nikkei.com/markets/company/sys/red...   \n",
       "       2021-10-13 16:00:00  https://www.nikkei.com/markets/company/sys/red...   \n",
       "       2021-10-13 16:00:00  https://www.nikkei.com/markets/company/sys/red...   \n",
       "9358   9358                                                              9358   \n",
       "\n",
       "                                      timestamp  \\\n",
       "symbol timestamp                                  \n",
       "1332   2022-02-28 17:10:00  2022-02-28 17:10:00   \n",
       "       2022-02-15 11:00:00  2022-02-15 11:00:00   \n",
       "       2022-02-04 13:00:00  2022-02-04 13:00:00   \n",
       "       2022-02-04 13:00:00  2022-02-04 13:00:00   \n",
       "       2022-02-04 13:00:00  2022-02-04 13:00:00   \n",
       "...                                         ...   \n",
       "9661   2022-01-13 16:00:00  2022-01-13 16:00:00   \n",
       "       2021-12-24 16:46:00  2021-12-24 16:46:00   \n",
       "       2021-10-13 16:00:00  2021-10-13 16:00:00   \n",
       "       2021-10-13 16:00:00  2021-10-13 16:00:00   \n",
       "9358   9358                                9358   \n",
       "\n",
       "                                                              pdfName  \\\n",
       "symbol timestamp                                                        \n",
       "1332   2022-02-28 17:10:00  Firm_1332_n1_k1_p1_TS_2022_03_13_02_02_44   \n",
       "       2022-02-15 11:00:00  Firm_1332_n2_k2_p1_TS_2022_03_13_02_02_50   \n",
       "       2022-02-04 13:00:00  Firm_1332_n3_k3_p1_TS_2022_03_13_02_02_56   \n",
       "       2022-02-04 13:00:00  Firm_1332_n4_k4_p1_TS_2022_03_13_02_03_01   \n",
       "       2022-02-04 13:00:00  Firm_1332_n5_k5_p1_TS_2022_03_13_02_03_07   \n",
       "...                                                               ...   \n",
       "9661   2022-01-13 16:00:00  Firm_9661_n1_k1_p1_TS_2022_03_22_12_37_31   \n",
       "       2021-12-24 16:46:00  Firm_9661_n2_k2_p1_TS_2022_03_22_12_37_37   \n",
       "       2021-10-13 16:00:00  Firm_9661_n3_k3_p1_TS_2022_03_22_12_37_42   \n",
       "       2021-10-13 16:00:00  Firm_9661_n4_k4_p1_TS_2022_03_22_12_37_48   \n",
       "9358   9358                                                       NaN   \n",
       "\n",
       "                                                                      content  \n",
       "symbol timestamp                                                               \n",
       "1332   2022-02-28 17:10:00   \\n\\n2022 年２月 28 日 \\n\\n各      位 \\n\\n          ...  \n",
       "       2022-02-15 11:00:00   \\n\\n \\n\\n \\n\\n \\n\\n \\n\\n \\n\\n \\n\\n \\n\\n \\n\\n ...  \n",
       "       2022-02-04 13:00:00  2022年３⽉期 第３四半期\\n\\n決算短信補⾜資料\\n\\n（注）「収益認識に関する会計基準...  \n",
       "       2022-02-04 13:00:00   \\n\\n \\n\\n \\n\\n \\n\\n \\n\\n \\n\\n2022 年２月４日 \\n\\n各...  \n",
       "       2022-02-04 13:00:00  2022年３月期第３四半期決算短信〔日本基準〕(連結)2022年２月４日上場会社名日本水産株...  \n",
       "...                                                                       ...  \n",
       "9661   2022-01-13 16:00:00  \\n\\n\\n\\n\\n\\n\\n\\n\\n\\n\\n\\n\\n\\n\\n\\n\\n\\n\\n\\n\\n\\n\\n...  \n",
       "       2021-12-24 16:46:00  \\n\\n\\n\\n\\n\\n\\n\\n\\n\\n\\n\\n\\n\\n\\n\\n\\n\\n\\n\\n\\n\\n\\n...  \n",
       "       2021-10-13 16:00:00  \\n\\n\\n\\n\\n\\n\\n\\n\\n\\n\\n\\n\\n\\n\\n\\n\\n\\n\\n\\n\\n\\n\\n...  \n",
       "       2021-10-13 16:00:00  \\n\\n\\n\\n\\n\\n\\n\\n\\n\\n\\n\\n\\n\\n\\n\\n\\n\\n\\n\\n\\n\\n\\n...  \n",
       "9358   9358                                                               NaN  \n",
       "\n",
       "[48924 rows x 12 columns]"
      ]
     },
     "execution_count": 63,
     "metadata": {},
     "output_type": "execute_result"
    }
   ],
   "source": [
    "dfT"
   ]
  },
  {
   "cell_type": "code",
   "execution_count": 70,
   "id": "f38c1890",
   "metadata": {
    "ExecuteTime": {
     "end_time": "2022-03-22T08:34:47.516982Z",
     "start_time": "2022-03-22T08:34:47.460264Z"
    }
   },
   "outputs": [
    {
     "data": {
      "application/vnd.jupyter.widget-view+json": {
       "model_id": "3ae08e9a8a01405b853bf2140e380a1c",
       "version_major": 2,
       "version_minor": 0
      },
      "text/plain": [
       "Output()"
      ]
     },
     "metadata": {},
     "output_type": "display_data"
    },
    {
     "ename": "FileNotFoundError",
     "evalue": "[Errno 2] No such file or directory: './database/disclosureProcessedData/parsedConver/noArticles_1.pickle'",
     "output_type": "error",
     "traceback": [
      "\u001b[0;31m---------------------------------------------------------------------------\u001b[0m",
      "\u001b[0;31mFileNotFoundError\u001b[0m                         Traceback (most recent call last)",
      "\u001b[0;32m<ipython-input-70-d96b891b09c6>\u001b[0m in \u001b[0;36m<module>\u001b[0;34m\u001b[0m\n\u001b[1;32m      1\u001b[0m \u001b[0mno_articles\u001b[0m \u001b[0;34m=\u001b[0m \u001b[0;34m{\u001b[0m\u001b[0;34m}\u001b[0m\u001b[0;34m\u001b[0m\u001b[0;34m\u001b[0m\u001b[0m\n\u001b[1;32m      2\u001b[0m \u001b[0;32mfor\u001b[0m \u001b[0mbatch_num\u001b[0m \u001b[0;32min\u001b[0m \u001b[0mtrack\u001b[0m\u001b[0;34m(\u001b[0m\u001b[0mrange\u001b[0m\u001b[0;34m(\u001b[0m\u001b[0;36m1\u001b[0m\u001b[0;34m,\u001b[0m\u001b[0;36m37\u001b[0m\u001b[0;34m)\u001b[0m\u001b[0;34m)\u001b[0m\u001b[0;34m:\u001b[0m\u001b[0;34m\u001b[0m\u001b[0;34m\u001b[0m\u001b[0m\n\u001b[0;32m----> 3\u001b[0;31m     \u001b[0;32mwith\u001b[0m \u001b[0mopen\u001b[0m\u001b[0;34m(\u001b[0m\u001b[0;34mf\"./database/disclosureProcessedData/parsedConver/noArticles_{batch_num}.pickle\"\u001b[0m \u001b[0;34m,\u001b[0m \u001b[0mmode\u001b[0m \u001b[0;34m=\u001b[0m \u001b[0;34m'rb'\u001b[0m\u001b[0;34m)\u001b[0m \u001b[0;32mas\u001b[0m \u001b[0mhandle\u001b[0m\u001b[0;34m:\u001b[0m\u001b[0;34m\u001b[0m\u001b[0;34m\u001b[0m\u001b[0m\n\u001b[0m\u001b[1;32m      4\u001b[0m         \u001b[0mL\u001b[0m \u001b[0;34m=\u001b[0m \u001b[0mpickle\u001b[0m\u001b[0;34m.\u001b[0m\u001b[0mload\u001b[0m\u001b[0;34m(\u001b[0m\u001b[0mhandle\u001b[0m\u001b[0;34m)\u001b[0m\u001b[0;34m\u001b[0m\u001b[0;34m\u001b[0m\u001b[0m\n\u001b[1;32m      5\u001b[0m     \u001b[0mno_articles\u001b[0m\u001b[0;34m[\u001b[0m\u001b[0;34mf\"batch_{batch_num}\"\u001b[0m\u001b[0;34m]\u001b[0m \u001b[0;34m=\u001b[0m \u001b[0mL\u001b[0m\u001b[0;34m\u001b[0m\u001b[0;34m\u001b[0m\u001b[0m\n",
      "\u001b[0;31mFileNotFoundError\u001b[0m: [Errno 2] No such file or directory: './database/disclosureProcessedData/parsedConver/noArticles_1.pickle'"
     ]
    }
   ],
   "source": [
    "no_articles = {}\n",
    "for batch_num in track(range(1,37)):\n",
    "    with open(f\"./database/disclosureProcessedData/parsedConver/noArticles_{batch_num}.pickle\" , mode = 'rb') as handle:\n",
    "        L = pickle.load(handle)\n",
    "    no_articles[f\"batch_{batch_num}\"] = L\n",
    "    "
   ]
  },
  {
   "cell_type": "code",
   "execution_count": 74,
   "id": "745aed06",
   "metadata": {
    "ExecuteTime": {
     "end_time": "2022-03-22T08:39:01.878766Z",
     "start_time": "2022-03-22T08:39:01.818196Z"
    }
   },
   "outputs": [
    {
     "data": {
      "application/vnd.jupyter.widget-view+json": {
       "model_id": "3ecea405006d41beae37c0e3f2a3632a",
       "version_major": 2,
       "version_minor": 0
      },
      "text/plain": [
       "Output()"
      ]
     },
     "metadata": {},
     "output_type": "display_data"
    }
   ],
   "source": [
    "no_articles = []\n",
    "for batch_num in track(range(1,37)):\n",
    "    with open(f\"./database/disclosureProcessedData/parsedConverated/noArticles_{batch_num}.pickle\",  mode = 'rb') as handle:\n",
    "        L = pickle.load(handle)\n",
    "        for item in L:\n",
    "            no_articles.append(item)\n"
   ]
  },
  {
   "cell_type": "code",
   "execution_count": 76,
   "id": "a9ba92ab",
   "metadata": {
    "ExecuteTime": {
     "end_time": "2022-03-22T08:39:33.745420Z",
     "start_time": "2022-03-22T08:39:33.740899Z"
    }
   },
   "outputs": [
    {
     "name": "stdout",
     "output_type": "stream",
     "text": [
      "['1824', '1883', '2151', '2174', '3098', '3408', '3658', '3751', '3975', '4282', '4364', '4399', '5690', '6281', '6575', '6628', '6839', '7587', '7594', '7688', '8108', '8186', '8287', '8356', '8363', '8397', '9062', '9266', '9624', '9966', '3376', '3515', '3956', '4115', '4336', '4342', '4497', '6271', '6299', '6541', '7758', '7862', '7959', '8087', '8740', '9358']\n"
     ]
    }
   ],
   "source": [
    "print(no_articles)"
   ]
  },
  {
   "cell_type": "code",
   "execution_count": null,
   "id": "e230823e",
   "metadata": {},
   "outputs": [],
   "source": []
  }
 ],
 "metadata": {
  "kernelspec": {
   "display_name": "Python 3",
   "language": "python",
   "name": "python3"
  },
  "language_info": {
   "codemirror_mode": {
    "name": "ipython",
    "version": 3
   },
   "file_extension": ".py",
   "mimetype": "text/x-python",
   "name": "python",
   "nbconvert_exporter": "python",
   "pygments_lexer": "ipython3",
   "version": "3.8.8"
  },
  "toc": {
   "base_numbering": 1,
   "nav_menu": {},
   "number_sections": true,
   "sideBar": true,
   "skip_h1_title": false,
   "title_cell": "Table of Contents",
   "title_sidebar": "Contents",
   "toc_cell": false,
   "toc_position": {},
   "toc_section_display": true,
   "toc_window_display": false
  },
  "varInspector": {
   "cols": {
    "lenName": 16,
    "lenType": 16,
    "lenVar": 40
   },
   "kernels_config": {
    "python": {
     "delete_cmd_postfix": "",
     "delete_cmd_prefix": "del ",
     "library": "var_list.py",
     "varRefreshCmd": "print(var_dic_list())"
    },
    "r": {
     "delete_cmd_postfix": ") ",
     "delete_cmd_prefix": "rm(",
     "library": "var_list.r",
     "varRefreshCmd": "cat(var_dic_list()) "
    }
   },
   "types_to_exclude": [
    "module",
    "function",
    "builtin_function_or_method",
    "instance",
    "_Feature"
   ],
   "window_display": false
  }
 },
 "nbformat": 4,
 "nbformat_minor": 5
}
