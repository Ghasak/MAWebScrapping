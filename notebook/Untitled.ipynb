{
 "cells": [
  {
   "cell_type": "markdown",
   "id": "bf731e25",
   "metadata": {
    "toc": true
   },
   "source": [
    "<h1>Table of Contents<span class=\"tocSkip\"></span></h1>\n",
    "<div class=\"toc\"><ul class=\"toc-item\"></ul></div>"
   ]
  },
  {
   "cell_type": "code",
   "execution_count": 1,
   "id": "5e645c5d",
   "metadata": {
    "ExecuteTime": {
     "end_time": "2022-03-09T04:20:49.164665Z",
     "start_time": "2022-03-09T04:20:49.161263Z"
    }
   },
   "outputs": [
    {
     "name": "stdout",
     "output_type": "stream",
     "text": [
      "/Users/ghasak.ibrahim/.local/share/virtualenvs/MAWebScrapping-BG7_TcqH/bin/python\n"
     ]
    }
   ],
   "source": [
    "import sys\n",
    "print(sys.executable)"
   ]
  },
  {
   "cell_type": "code",
   "execution_count": 2,
   "id": "dfd2f65e",
   "metadata": {
    "ExecuteTime": {
     "end_time": "2022-03-09T04:23:29.690998Z",
     "start_time": "2022-03-09T04:23:29.681175Z"
    }
   },
   "outputs": [
    {
     "data": {
      "text/html": [
       "<style>\n",
       "    div#notebook-container    { width: 60%; }\n",
       "    div#menubar-container     { width: 30%; }\n",
       "    div#maintoolbar-container { width: 30%; }\n",
       "</style>\n"
      ],
      "text/plain": [
       "<IPython.core.display.HTML object>"
      ]
     },
     "metadata": {},
     "output_type": "display_data"
    }
   ],
   "source": [
    "%%HTML\n",
    "<style>\n",
    "    div#notebook-container    { width: 60%; }\n",
    "    div#menubar-container     { width: 30%; }\n",
    "    div#maintoolbar-container { width: 30%; }\n",
    "</style>"
   ]
  },
  {
   "cell_type": "code",
   "execution_count": 3,
   "id": "e32ddaed",
   "metadata": {
    "ExecuteTime": {
     "end_time": "2022-03-09T04:23:41.469056Z",
     "start_time": "2022-03-09T04:23:41.274661Z"
    }
   },
   "outputs": [
    {
     "data": {
      "application/javascript": [
       "\n",
       "            setTimeout(function() {\n",
       "                var nbb_cell_id = 3;\n",
       "                var nbb_unformatted_code = \"# Automatically apply black to the cell\\n%load_ext nb_black\\n#%reload_ext nb_black\\n# Or if you are in jupyter-lab environment, use lab_black\\n# %load_ext lab_black\\n# Enable autoreload when you want to have autoreload of src/ modules\\n# %autoreload 2\";\n",
       "                var nbb_formatted_code = \"# Automatically apply black to the cell\\n%load_ext nb_black\\n#%reload_ext nb_black\\n# Or if you are in jupyter-lab environment, use lab_black\\n# %load_ext lab_black\\n# Enable autoreload when you want to have autoreload of src/ modules\\n# %autoreload 2\";\n",
       "                var nbb_cells = Jupyter.notebook.get_cells();\n",
       "                for (var i = 0; i < nbb_cells.length; ++i) {\n",
       "                    if (nbb_cells[i].input_prompt_number == nbb_cell_id) {\n",
       "                        if (nbb_cells[i].get_text() == nbb_unformatted_code) {\n",
       "                             nbb_cells[i].set_text(nbb_formatted_code);\n",
       "                        }\n",
       "                        break;\n",
       "                    }\n",
       "                }\n",
       "            }, 500);\n",
       "            "
      ],
      "text/plain": [
       "<IPython.core.display.Javascript object>"
      ]
     },
     "metadata": {},
     "output_type": "display_data"
    }
   ],
   "source": [
    "# Automatically apply black to the cell\n",
    "%load_ext nb_black\n",
    "#%reload_ext nb_black\n",
    "# Or if you are in jupyter-lab environment, use lab_black\n",
    "# %load_ext lab_black\n",
    "# Enable autoreload when you want to have autoreload of src/ modules\n",
    "# %autoreload 2"
   ]
  },
  {
   "cell_type": "code",
   "execution_count": 4,
   "id": "21d0d3f3",
   "metadata": {
    "ExecuteTime": {
     "end_time": "2022-03-09T04:23:52.737963Z",
     "start_time": "2022-03-09T04:23:52.436416Z"
    }
   },
   "outputs": [
    {
     "data": {
      "application/javascript": [
       "\n",
       "            setTimeout(function() {\n",
       "                var nbb_cell_id = 4;\n",
       "                var nbb_unformatted_code = \"%matplotlib inline\";\n",
       "                var nbb_formatted_code = \"%matplotlib inline\";\n",
       "                var nbb_cells = Jupyter.notebook.get_cells();\n",
       "                for (var i = 0; i < nbb_cells.length; ++i) {\n",
       "                    if (nbb_cells[i].input_prompt_number == nbb_cell_id) {\n",
       "                        if (nbb_cells[i].get_text() == nbb_unformatted_code) {\n",
       "                             nbb_cells[i].set_text(nbb_formatted_code);\n",
       "                        }\n",
       "                        break;\n",
       "                    }\n",
       "                }\n",
       "            }, 500);\n",
       "            "
      ],
      "text/plain": [
       "<IPython.core.display.Javascript object>"
      ]
     },
     "metadata": {},
     "output_type": "display_data"
    }
   ],
   "source": [
    "%matplotlib inline"
   ]
  },
  {
   "cell_type": "code",
   "execution_count": 8,
   "id": "208a72ad",
   "metadata": {
    "ExecuteTime": {
     "end_time": "2022-03-09T06:41:44.414484Z",
     "start_time": "2022-03-09T06:41:44.407864Z"
    }
   },
   "outputs": [
    {
     "data": {
      "application/javascript": [
       "\n",
       "            setTimeout(function() {\n",
       "                var nbb_cell_id = 8;\n",
       "                var nbb_unformatted_code = \"import pickle\";\n",
       "                var nbb_formatted_code = \"import pickle\";\n",
       "                var nbb_cells = Jupyter.notebook.get_cells();\n",
       "                for (var i = 0; i < nbb_cells.length; ++i) {\n",
       "                    if (nbb_cells[i].input_prompt_number == nbb_cell_id) {\n",
       "                        if (nbb_cells[i].get_text() == nbb_unformatted_code) {\n",
       "                             nbb_cells[i].set_text(nbb_formatted_code);\n",
       "                        }\n",
       "                        break;\n",
       "                    }\n",
       "                }\n",
       "            }, 500);\n",
       "            "
      ],
      "text/plain": [
       "<IPython.core.display.Javascript object>"
      ]
     },
     "metadata": {},
     "output_type": "display_data"
    }
   ],
   "source": [
    "import pickle"
   ]
  },
  {
   "cell_type": "code",
   "execution_count": 10,
   "id": "aceb9316",
   "metadata": {
    "ExecuteTime": {
     "end_time": "2022-03-09T06:45:28.075218Z",
     "start_time": "2022-03-09T06:45:27.733955Z"
    }
   },
   "outputs": [
    {
     "data": {
      "application/javascript": [
       "\n",
       "            setTimeout(function() {\n",
       "                var nbb_cell_id = 10;\n",
       "                var nbb_unformatted_code = \"with open(\\\"./1332/1332_DataFrame.pickle\\\", mode=\\\"rb\\\") as handle:\\n    df = pickle.load(handle)\";\n",
       "                var nbb_formatted_code = \"with open(\\\"./1332/1332_DataFrame.pickle\\\", mode=\\\"rb\\\") as handle:\\n    df = pickle.load(handle)\";\n",
       "                var nbb_cells = Jupyter.notebook.get_cells();\n",
       "                for (var i = 0; i < nbb_cells.length; ++i) {\n",
       "                    if (nbb_cells[i].input_prompt_number == nbb_cell_id) {\n",
       "                        if (nbb_cells[i].get_text() == nbb_unformatted_code) {\n",
       "                             nbb_cells[i].set_text(nbb_formatted_code);\n",
       "                        }\n",
       "                        break;\n",
       "                    }\n",
       "                }\n",
       "            }, 500);\n",
       "            "
      ],
      "text/plain": [
       "<IPython.core.display.Javascript object>"
      ]
     },
     "metadata": {},
     "output_type": "display_data"
    }
   ],
   "source": [
    "with open(\"./1332/1332_DataFrame.pickle\", mode=\"rb\") as handle:\n",
    "    df = pickle.load(handle)"
   ]
  },
  {
   "cell_type": "code",
   "execution_count": 11,
   "id": "ba4c8adb",
   "metadata": {
    "ExecuteTime": {
     "end_time": "2022-03-09T06:45:30.578132Z",
     "start_time": "2022-03-09T06:45:30.554535Z"
    }
   },
   "outputs": [
    {
     "data": {
      "text/html": [
       "<div>\n",
       "<style scoped>\n",
       "    .dataframe tbody tr th:only-of-type {\n",
       "        vertical-align: middle;\n",
       "    }\n",
       "\n",
       "    .dataframe tbody tr th {\n",
       "        vertical-align: top;\n",
       "    }\n",
       "\n",
       "    .dataframe thead th {\n",
       "        text-align: right;\n",
       "    }\n",
       "</style>\n",
       "<table border=\"1\" class=\"dataframe\">\n",
       "  <thead>\n",
       "    <tr style=\"text-align: right;\">\n",
       "      <th></th>\n",
       "      <th>symbol</th>\n",
       "      <th>globalAritcleIndex</th>\n",
       "      <th>relativeArticleIndex</th>\n",
       "      <th>pageIndex</th>\n",
       "      <th>articleDate</th>\n",
       "      <th>articleTitle</th>\n",
       "      <th>pdfName</th>\n",
       "      <th>content</th>\n",
       "    </tr>\n",
       "  </thead>\n",
       "  <tbody>\n",
       "    <tr>\n",
       "      <th>0</th>\n",
       "      <td>1332</td>\n",
       "      <td>1</td>\n",
       "      <td>1</td>\n",
       "      <td>1</td>\n",
       "      <td>21/8/4 13:00</td>\n",
       "      <td>2022年３月期　第１四半期決算　決算短信補足資料</td>\n",
       "      <td>Firm_1332_n1_k1_p1_TS_2021_08_16_00_33_50</td>\n",
       "      <td>2022年３⽉期 第１四半期\\n\\n決算短信補⾜資料\\n\\n（注）「収益認識に関する会計基準...</td>\n",
       "    </tr>\n",
       "    <tr>\n",
       "      <th>1</th>\n",
       "      <td>1332</td>\n",
       "      <td>2</td>\n",
       "      <td>2</td>\n",
       "      <td>1</td>\n",
       "      <td>21/8/4 13:00</td>\n",
       "      <td>2022年３月期　第１四半期決算短信〔日本基準〕（連結）</td>\n",
       "      <td>Firm_1332_n2_k2_p1_TS_2021_08_16_00_33_55</td>\n",
       "      <td>2022年３月期第１四半期決算短信〔日本基準〕(連結)2021年８月４日上場会社名日本水産株...</td>\n",
       "    </tr>\n",
       "    <tr>\n",
       "      <th>2</th>\n",
       "      <td>1332</td>\n",
       "      <td>3</td>\n",
       "      <td>3</td>\n",
       "      <td>1</td>\n",
       "      <td>21/7/1 11:00</td>\n",
       "      <td>法定事後開示書類（合併）（デルマール株式会社）</td>\n",
       "      <td>Firm_1332_n3_k3_p1_TS_2021_08_16_00_34_01</td>\n",
       "      <td>\\n\\n \\n\\n \\n\\n \\n\\n \\n\\n \\n\\n \\n\\n \\n\\n \\n\\n ...</td>\n",
       "    </tr>\n",
       "    <tr>\n",
       "      <th>3</th>\n",
       "      <td>1332</td>\n",
       "      <td>4</td>\n",
       "      <td>4</td>\n",
       "      <td>1</td>\n",
       "      <td>21/6/30 17:00</td>\n",
       "      <td>（変更）法定事前開示書類（合併）（デルマール株式会社）</td>\n",
       "      <td>Firm_1332_n4_k4_p1_TS_2021_08_16_00_34_06</td>\n",
       "      <td>\\n\\n \\n\\n \\n\\n \\n\\n \\n\\n \\n\\n \\n\\n \\n\\n \\n\\n ...</td>\n",
       "    </tr>\n",
       "    <tr>\n",
       "      <th>4</th>\n",
       "      <td>1332</td>\n",
       "      <td>5</td>\n",
       "      <td>5</td>\n",
       "      <td>1</td>\n",
       "      <td>21/6/25 17:33</td>\n",
       "      <td>コーポレート・ガバナンスに関する報告書 2021/06/25</td>\n",
       "      <td>Firm_1332_n5_k5_p1_TS_2021_08_16_00_34_12</td>\n",
       "      <td>コーポレートガバナンス\\nCORPORATE GOVERNANCE\\n\\nNippon Su...</td>\n",
       "    </tr>\n",
       "    <tr>\n",
       "      <th>5</th>\n",
       "      <td>1332</td>\n",
       "      <td>6</td>\n",
       "      <td>6</td>\n",
       "      <td>1</td>\n",
       "      <td>21/6/17 8:00</td>\n",
       "      <td>「第106期定時株主総会招集ご通知」の一部修正について</td>\n",
       "      <td>Firm_1332_n6_k6_p1_TS_2021_08_16_00_34_18</td>\n",
       "      <td>株  主  各  位 \\n\\n（証券コード 1332） \\n\\n2021 年 6 月 17 ...</td>\n",
       "    </tr>\n",
       "    <tr>\n",
       "      <th>6</th>\n",
       "      <td>1332</td>\n",
       "      <td>7</td>\n",
       "      <td>7</td>\n",
       "      <td>1</td>\n",
       "      <td>21/6/17 8:00</td>\n",
       "      <td>(Updated)Partial amendment of “NOTICE OF THE 1...</td>\n",
       "      <td>Firm_1332_n7_k7_p1_TS_2021_08_16_00_34_23</td>\n",
       "      <td>\\n\\nNote: This document has been translated f...</td>\n",
       "    </tr>\n",
       "    <tr>\n",
       "      <th>7</th>\n",
       "      <td>1332</td>\n",
       "      <td>8</td>\n",
       "      <td>8</td>\n",
       "      <td>1</td>\n",
       "      <td>21/6/16 15:00</td>\n",
       "      <td>（訂正）「2021年３月期 決算短信〔日本基準〕(連結)」および「2021年３月期 決算短信...</td>\n",
       "      <td>Firm_1332_n8_k8_p1_TS_2021_08_16_00_34_29</td>\n",
       "      <td>\\n\\n2021 年６月 16 日 \\n\\n各      位 \\n\\n          ...</td>\n",
       "    </tr>\n",
       "    <tr>\n",
       "      <th>8</th>\n",
       "      <td>1332</td>\n",
       "      <td>9</td>\n",
       "      <td>9</td>\n",
       "      <td>1</td>\n",
       "      <td>21/5/31 11:00</td>\n",
       "      <td>独立役員届出書</td>\n",
       "      <td>Firm_1332_n9_k9_p1_TS_2021_08_16_00_34_34</td>\n",
       "      <td>日本水産株式会社_独立役員届出書.xlsx\\n\\n独 立 役 員 届 出 書\\n\\n１．基本...</td>\n",
       "    </tr>\n",
       "    <tr>\n",
       "      <th>9</th>\n",
       "      <td>1332</td>\n",
       "      <td>10</td>\n",
       "      <td>10</td>\n",
       "      <td>1</td>\n",
       "      <td>21/5/31 8:00</td>\n",
       "      <td>Notice of the 106th Ordinary General Sharehold...</td>\n",
       "      <td>Firm_1332_n10_k10_p1_TS_2021_08_16_00_34_40</td>\n",
       "      <td>\\n\\nNote: This document has been translated f...</td>\n",
       "    </tr>\n",
       "    <tr>\n",
       "      <th>10</th>\n",
       "      <td>1332</td>\n",
       "      <td>11</td>\n",
       "      <td>11</td>\n",
       "      <td>1</td>\n",
       "      <td>21/5/31 8:00</td>\n",
       "      <td>第106期定時株主総会招集ご通知</td>\n",
       "      <td>Firm_1332_n11_k11_p1_TS_2021_08_16_00_34_46</td>\n",
       "      <td>\\n\\n\f",
       "1\\n\\n\f",
       "株 主 各 位\\n\\n証 券 コ ー ド 1332\\n2021 年 ...</td>\n",
       "    </tr>\n",
       "    <tr>\n",
       "      <th>11</th>\n",
       "      <td>1332</td>\n",
       "      <td>12</td>\n",
       "      <td>12</td>\n",
       "      <td>1</td>\n",
       "      <td>21/5/31 8:00</td>\n",
       "      <td>第106期定時株主総会招集ご通知に際してのインターネット開示事項</td>\n",
       "      <td>Firm_1332_n12_k12_p1_TS_2021_08_16_00_34_51</td>\n",
       "      <td>\\n\\n　\\n\\n第106期定時株主総会招集ご通知に際しての\\n\\nインターネット開示事項...</td>\n",
       "    </tr>\n",
       "    <tr>\n",
       "      <th>12</th>\n",
       "      <td>1332</td>\n",
       "      <td>13</td>\n",
       "      <td>13</td>\n",
       "      <td>1</td>\n",
       "      <td>21/5/20 15:00</td>\n",
       "      <td>剰余金の配当に関するお知らせ</td>\n",
       "      <td>Firm_1332_n13_k13_p1_TS_2021_08_16_00_34_57</td>\n",
       "      <td>各      位 \\n\\n                                 ...</td>\n",
       "    </tr>\n",
       "    <tr>\n",
       "      <th>13</th>\n",
       "      <td>1332</td>\n",
       "      <td>14</td>\n",
       "      <td>14</td>\n",
       "      <td>1</td>\n",
       "      <td>21/5/20 13:45</td>\n",
       "      <td>コーポレート・ガバナンスに関する報告書 2021/05/20</td>\n",
       "      <td>Firm_1332_n14_k14_p1_TS_2021_08_16_00_35_03</td>\n",
       "      <td>コーポレートガバナンス\\nCORPORATE GOVERNANCE\\n\\nNippon Su...</td>\n",
       "    </tr>\n",
       "    <tr>\n",
       "      <th>14</th>\n",
       "      <td>1332</td>\n",
       "      <td>15</td>\n",
       "      <td>15</td>\n",
       "      <td>1</td>\n",
       "      <td>21/5/13 13:00</td>\n",
       "      <td>2021年３月期 決算短信〔日本基準〕(連結)</td>\n",
       "      <td>Firm_1332_n15_k15_p1_TS_2021_08_16_00_35_09</td>\n",
       "      <td>2021年３月期決算短信〔日本基準〕(連結)2021年５月13日上場会社名日本水産株式会社上...</td>\n",
       "    </tr>\n",
       "    <tr>\n",
       "      <th>15</th>\n",
       "      <td>1332</td>\n",
       "      <td>16</td>\n",
       "      <td>16</td>\n",
       "      <td>1</td>\n",
       "      <td>21/5/13 13:00</td>\n",
       "      <td>2021年３月期 決算短信補足資料</td>\n",
       "      <td>Firm_1332_n16_k16_p1_TS_2021_08_16_00_35_14</td>\n",
       "      <td>2021年３月期\\n\\n決算短信補足資料\\n\\n2021年5月13日\\n\\n\f",
       "2021年３月...</td>\n",
       "    </tr>\n",
       "    <tr>\n",
       "      <th>16</th>\n",
       "      <td>1332</td>\n",
       "      <td>17</td>\n",
       "      <td>17</td>\n",
       "      <td>1</td>\n",
       "      <td>21/5/13 13:00</td>\n",
       "      <td>配当予想の修正（増配）に関するお知らせ</td>\n",
       "      <td>Firm_1332_n17_k17_p1_TS_2021_08_16_00_35_20</td>\n",
       "      <td>各      位 \\n\\n                                 ...</td>\n",
       "    </tr>\n",
       "    <tr>\n",
       "      <th>17</th>\n",
       "      <td>1332</td>\n",
       "      <td>18</td>\n",
       "      <td>18</td>\n",
       "      <td>1</td>\n",
       "      <td>21/4/30 11:00</td>\n",
       "      <td>法定事前開示書類（合併）（デルマール株式会社）</td>\n",
       "      <td>Firm_1332_n18_k18_p1_TS_2021_08_16_00_35_26</td>\n",
       "      <td>\\n\\n \\n\\n \\n\\n \\n\\n \\n\\n \\n\\n \\n\\n \\n\\n \\n\\n ...</td>\n",
       "    </tr>\n",
       "    <tr>\n",
       "      <th>18</th>\n",
       "      <td>1332</td>\n",
       "      <td>19</td>\n",
       "      <td>19</td>\n",
       "      <td>1</td>\n",
       "      <td>21/4/28 15:00</td>\n",
       "      <td>デルマール株式会社の吸収合併（簡易合併・略式合併）契約締結に関するお知らせ</td>\n",
       "      <td>Firm_1332_n19_k19_p1_TS_2021_08_16_00_35_31</td>\n",
       "      <td>\\n\\n \\n\\n \\n\\n2021 年４月 28 日 \\n\\n各      位 \\n\\n...</td>\n",
       "    </tr>\n",
       "    <tr>\n",
       "      <th>19</th>\n",
       "      <td>1332</td>\n",
       "      <td>20</td>\n",
       "      <td>20</td>\n",
       "      <td>1</td>\n",
       "      <td>21/3/23 15:00</td>\n",
       "      <td>代表取締役の異動に関するお知らせ</td>\n",
       "      <td>Firm_1332_n20_k20_p1_TS_2021_08_16_00_35_37</td>\n",
       "      <td>\\n\\n \\n\\n \\n\\n2021 年３月 23 日 \\n\\n各      位 \\n\\n...</td>\n",
       "    </tr>\n",
       "    <tr>\n",
       "      <th>20</th>\n",
       "      <td>1332</td>\n",
       "      <td>21</td>\n",
       "      <td>1</td>\n",
       "      <td>2</td>\n",
       "      <td>21/2/5 13:00</td>\n",
       "      <td>2021年３月期　第３四半期　決算短信補足資料</td>\n",
       "      <td>Firm_1332_n21_k1_p2_TS_2021_08_16_00_35_44</td>\n",
       "      <td>2021年３⽉期 第３四半期\\n\\n決算短信補⾜資料\\n\\n2021年2⽉5⽇\\n\\n\f",
       "20...</td>\n",
       "    </tr>\n",
       "    <tr>\n",
       "      <th>21</th>\n",
       "      <td>1332</td>\n",
       "      <td>22</td>\n",
       "      <td>2</td>\n",
       "      <td>2</td>\n",
       "      <td>21/2/5 13:00</td>\n",
       "      <td>2021年３月期　第３四半期決算短信〔日本基準〕（連結）</td>\n",
       "      <td>Firm_1332_n22_k2_p2_TS_2021_08_16_00_35_50</td>\n",
       "      <td>2021年３月期第３四半期決算短信〔日本基準〕(連結)2021年２月５日上場会社名日本水産株...</td>\n",
       "    </tr>\n",
       "    <tr>\n",
       "      <th>22</th>\n",
       "      <td>1332</td>\n",
       "      <td>23</td>\n",
       "      <td>3</td>\n",
       "      <td>2</td>\n",
       "      <td>20/11/5 13:00</td>\n",
       "      <td>2021年３月期　第２四半期　決算短信補足資料</td>\n",
       "      <td>Firm_1332_n23_k3_p2_TS_2021_08_16_00_35_56</td>\n",
       "      <td>2021年３月期 第２四半期\\n\\n決算短信補足資料\\n\\n2020年11月5日\\n\\n\f",
       "2...</td>\n",
       "    </tr>\n",
       "    <tr>\n",
       "      <th>23</th>\n",
       "      <td>1332</td>\n",
       "      <td>24</td>\n",
       "      <td>4</td>\n",
       "      <td>2</td>\n",
       "      <td>20/11/5 13:00</td>\n",
       "      <td>2021年３月期　第２四半期決算短信〔日本基準〕（連結）</td>\n",
       "      <td>Firm_1332_n24_k4_p2_TS_2021_08_16_00_36_01</td>\n",
       "      <td>2021年３月期第２四半期決算短信〔日本基準〕(連結)2020年11月５日上場会社名日本水産...</td>\n",
       "    </tr>\n",
       "    <tr>\n",
       "      <th>24</th>\n",
       "      <td>1332</td>\n",
       "      <td>25</td>\n",
       "      <td>5</td>\n",
       "      <td>2</td>\n",
       "      <td>20/8/3 13:00</td>\n",
       "      <td>2021年３月期　第１四半期決算　決算短信補足資料</td>\n",
       "      <td>Firm_1332_n25_k5_p2_TS_2021_08_16_00_36_07</td>\n",
       "      <td>2021年３月期 第1四半期\\n\\n決算短信補足資料\\n\\n2020年8月3日\\n\\n\f",
       "20...</td>\n",
       "    </tr>\n",
       "    <tr>\n",
       "      <th>25</th>\n",
       "      <td>1332</td>\n",
       "      <td>26</td>\n",
       "      <td>6</td>\n",
       "      <td>2</td>\n",
       "      <td>20/8/3 13:00</td>\n",
       "      <td>2021年３月期　第１四半期決算短信〔日本基準〕（連結）</td>\n",
       "      <td>Firm_1332_n26_k6_p2_TS_2021_08_16_00_36_12</td>\n",
       "      <td>2021年３月期第１四半期決算短信〔日本基準〕(連結)2020年８月３日上場会社名日本水産株...</td>\n",
       "    </tr>\n",
       "  </tbody>\n",
       "</table>\n",
       "</div>"
      ],
      "text/plain": [
       "   symbol  globalAritcleIndex  relativeArticleIndex  pageIndex    articleDate  \\\n",
       "0    1332                   1                     1          1   21/8/4 13:00   \n",
       "1    1332                   2                     2          1   21/8/4 13:00   \n",
       "2    1332                   3                     3          1   21/7/1 11:00   \n",
       "3    1332                   4                     4          1  21/6/30 17:00   \n",
       "4    1332                   5                     5          1  21/6/25 17:33   \n",
       "5    1332                   6                     6          1   21/6/17 8:00   \n",
       "6    1332                   7                     7          1   21/6/17 8:00   \n",
       "7    1332                   8                     8          1  21/6/16 15:00   \n",
       "8    1332                   9                     9          1  21/5/31 11:00   \n",
       "9    1332                  10                    10          1   21/5/31 8:00   \n",
       "10   1332                  11                    11          1   21/5/31 8:00   \n",
       "11   1332                  12                    12          1   21/5/31 8:00   \n",
       "12   1332                  13                    13          1  21/5/20 15:00   \n",
       "13   1332                  14                    14          1  21/5/20 13:45   \n",
       "14   1332                  15                    15          1  21/5/13 13:00   \n",
       "15   1332                  16                    16          1  21/5/13 13:00   \n",
       "16   1332                  17                    17          1  21/5/13 13:00   \n",
       "17   1332                  18                    18          1  21/4/30 11:00   \n",
       "18   1332                  19                    19          1  21/4/28 15:00   \n",
       "19   1332                  20                    20          1  21/3/23 15:00   \n",
       "20   1332                  21                     1          2   21/2/5 13:00   \n",
       "21   1332                  22                     2          2   21/2/5 13:00   \n",
       "22   1332                  23                     3          2  20/11/5 13:00   \n",
       "23   1332                  24                     4          2  20/11/5 13:00   \n",
       "24   1332                  25                     5          2   20/8/3 13:00   \n",
       "25   1332                  26                     6          2   20/8/3 13:00   \n",
       "\n",
       "                                         articleTitle  \\\n",
       "0                           2022年３月期　第１四半期決算　決算短信補足資料   \n",
       "1                        2022年３月期　第１四半期決算短信〔日本基準〕（連結）   \n",
       "2                             法定事後開示書類（合併）（デルマール株式会社）   \n",
       "3                         （変更）法定事前開示書類（合併）（デルマール株式会社）   \n",
       "4                      コーポレート・ガバナンスに関する報告書 2021/06/25   \n",
       "5                         「第106期定時株主総会招集ご通知」の一部修正について   \n",
       "6   (Updated)Partial amendment of “NOTICE OF THE 1...   \n",
       "7   （訂正）「2021年３月期 決算短信〔日本基準〕(連結)」および「2021年３月期 決算短信...   \n",
       "8                                             独立役員届出書   \n",
       "9   Notice of the 106th Ordinary General Sharehold...   \n",
       "10                                   第106期定時株主総会招集ご通知   \n",
       "11                   第106期定時株主総会招集ご通知に際してのインターネット開示事項   \n",
       "12                                     剰余金の配当に関するお知らせ   \n",
       "13                     コーポレート・ガバナンスに関する報告書 2021/05/20   \n",
       "14                            2021年３月期 決算短信〔日本基準〕(連結)   \n",
       "15                                  2021年３月期 決算短信補足資料   \n",
       "16                                配当予想の修正（増配）に関するお知らせ   \n",
       "17                            法定事前開示書類（合併）（デルマール株式会社）   \n",
       "18              デルマール株式会社の吸収合併（簡易合併・略式合併）契約締結に関するお知らせ   \n",
       "19                                   代表取締役の異動に関するお知らせ   \n",
       "20                            2021年３月期　第３四半期　決算短信補足資料   \n",
       "21                       2021年３月期　第３四半期決算短信〔日本基準〕（連結）   \n",
       "22                            2021年３月期　第２四半期　決算短信補足資料   \n",
       "23                       2021年３月期　第２四半期決算短信〔日本基準〕（連結）   \n",
       "24                          2021年３月期　第１四半期決算　決算短信補足資料   \n",
       "25                       2021年３月期　第１四半期決算短信〔日本基準〕（連結）   \n",
       "\n",
       "                                        pdfName  \\\n",
       "0     Firm_1332_n1_k1_p1_TS_2021_08_16_00_33_50   \n",
       "1     Firm_1332_n2_k2_p1_TS_2021_08_16_00_33_55   \n",
       "2     Firm_1332_n3_k3_p1_TS_2021_08_16_00_34_01   \n",
       "3     Firm_1332_n4_k4_p1_TS_2021_08_16_00_34_06   \n",
       "4     Firm_1332_n5_k5_p1_TS_2021_08_16_00_34_12   \n",
       "5     Firm_1332_n6_k6_p1_TS_2021_08_16_00_34_18   \n",
       "6     Firm_1332_n7_k7_p1_TS_2021_08_16_00_34_23   \n",
       "7     Firm_1332_n8_k8_p1_TS_2021_08_16_00_34_29   \n",
       "8     Firm_1332_n9_k9_p1_TS_2021_08_16_00_34_34   \n",
       "9   Firm_1332_n10_k10_p1_TS_2021_08_16_00_34_40   \n",
       "10  Firm_1332_n11_k11_p1_TS_2021_08_16_00_34_46   \n",
       "11  Firm_1332_n12_k12_p1_TS_2021_08_16_00_34_51   \n",
       "12  Firm_1332_n13_k13_p1_TS_2021_08_16_00_34_57   \n",
       "13  Firm_1332_n14_k14_p1_TS_2021_08_16_00_35_03   \n",
       "14  Firm_1332_n15_k15_p1_TS_2021_08_16_00_35_09   \n",
       "15  Firm_1332_n16_k16_p1_TS_2021_08_16_00_35_14   \n",
       "16  Firm_1332_n17_k17_p1_TS_2021_08_16_00_35_20   \n",
       "17  Firm_1332_n18_k18_p1_TS_2021_08_16_00_35_26   \n",
       "18  Firm_1332_n19_k19_p1_TS_2021_08_16_00_35_31   \n",
       "19  Firm_1332_n20_k20_p1_TS_2021_08_16_00_35_37   \n",
       "20   Firm_1332_n21_k1_p2_TS_2021_08_16_00_35_44   \n",
       "21   Firm_1332_n22_k2_p2_TS_2021_08_16_00_35_50   \n",
       "22   Firm_1332_n23_k3_p2_TS_2021_08_16_00_35_56   \n",
       "23   Firm_1332_n24_k4_p2_TS_2021_08_16_00_36_01   \n",
       "24   Firm_1332_n25_k5_p2_TS_2021_08_16_00_36_07   \n",
       "25   Firm_1332_n26_k6_p2_TS_2021_08_16_00_36_12   \n",
       "\n",
       "                                              content  \n",
       "0   2022年３⽉期 第１四半期\\n\\n決算短信補⾜資料\\n\\n（注）「収益認識に関する会計基準...  \n",
       "1   2022年３月期第１四半期決算短信〔日本基準〕(連結)2021年８月４日上場会社名日本水産株...  \n",
       "2    \\n\\n \\n\\n \\n\\n \\n\\n \\n\\n \\n\\n \\n\\n \\n\\n \\n\\n ...  \n",
       "3    \\n\\n \\n\\n \\n\\n \\n\\n \\n\\n \\n\\n \\n\\n \\n\\n \\n\\n ...  \n",
       "4   コーポレートガバナンス\\nCORPORATE GOVERNANCE\\n\\nNippon Su...  \n",
       "5   株  主  各  位 \\n\\n（証券コード 1332） \\n\\n2021 年 6 月 17 ...  \n",
       "6    \\n\\nNote: This document has been translated f...  \n",
       "7    \\n\\n2021 年６月 16 日 \\n\\n各      位 \\n\\n          ...  \n",
       "8   日本水産株式会社_独立役員届出書.xlsx\\n\\n独 立 役 員 届 出 書\\n\\n１．基本...  \n",
       "9    \\n\\nNote: This document has been translated f...  \n",
       "10  　\\n\\n\n",
       "1\\n\\n\n",
       "株 主 各 位\\n\\n証 券 コ ー ド 1332\\n2021 年 ...  \n",
       "11  　\\n\\n　\\n\\n第106期定時株主総会招集ご通知に際しての\\n\\nインターネット開示事項...  \n",
       "12  各      位 \\n\\n                                 ...  \n",
       "13  コーポレートガバナンス\\nCORPORATE GOVERNANCE\\n\\nNippon Su...  \n",
       "14  2021年３月期決算短信〔日本基準〕(連結)2021年５月13日上場会社名日本水産株式会社上...  \n",
       "15  2021年３月期\\n\\n決算短信補足資料\\n\\n2021年5月13日\\n\\n\n",
       "2021年３月...  \n",
       "16  各      位 \\n\\n                                 ...  \n",
       "17   \\n\\n \\n\\n \\n\\n \\n\\n \\n\\n \\n\\n \\n\\n \\n\\n \\n\\n ...  \n",
       "18   \\n\\n \\n\\n \\n\\n2021 年４月 28 日 \\n\\n各      位 \\n\\n...  \n",
       "19   \\n\\n \\n\\n \\n\\n2021 年３月 23 日 \\n\\n各      位 \\n\\n...  \n",
       "20  2021年３⽉期 第３四半期\\n\\n決算短信補⾜資料\\n\\n2021年2⽉5⽇\\n\\n\n",
       "20...  \n",
       "21  2021年３月期第３四半期決算短信〔日本基準〕(連結)2021年２月５日上場会社名日本水産株...  \n",
       "22  2021年３月期 第２四半期\\n\\n決算短信補足資料\\n\\n2020年11月5日\\n\\n\n",
       "2...  \n",
       "23  2021年３月期第２四半期決算短信〔日本基準〕(連結)2020年11月５日上場会社名日本水産...  \n",
       "24  2021年３月期 第1四半期\\n\\n決算短信補足資料\\n\\n2020年8月3日\\n\\n\n",
       "20...  \n",
       "25  2021年３月期第１四半期決算短信〔日本基準〕(連結)2020年８月３日上場会社名日本水産株...  "
      ]
     },
     "execution_count": 11,
     "metadata": {},
     "output_type": "execute_result"
    },
    {
     "data": {
      "application/javascript": [
       "\n",
       "            setTimeout(function() {\n",
       "                var nbb_cell_id = 11;\n",
       "                var nbb_unformatted_code = \"df\";\n",
       "                var nbb_formatted_code = \"df\";\n",
       "                var nbb_cells = Jupyter.notebook.get_cells();\n",
       "                for (var i = 0; i < nbb_cells.length; ++i) {\n",
       "                    if (nbb_cells[i].input_prompt_number == nbb_cell_id) {\n",
       "                        if (nbb_cells[i].get_text() == nbb_unformatted_code) {\n",
       "                             nbb_cells[i].set_text(nbb_formatted_code);\n",
       "                        }\n",
       "                        break;\n",
       "                    }\n",
       "                }\n",
       "            }, 500);\n",
       "            "
      ],
      "text/plain": [
       "<IPython.core.display.Javascript object>"
      ]
     },
     "metadata": {},
     "output_type": "display_data"
    }
   ],
   "source": [
    "df"
   ]
  },
  {
   "cell_type": "code",
   "execution_count": 13,
   "id": "68810d68",
   "metadata": {
    "ExecuteTime": {
     "end_time": "2022-03-09T12:22:20.835820Z",
     "start_time": "2022-03-09T12:22:20.825171Z"
    }
   },
   "outputs": [
    {
     "ename": "ImportError",
     "evalue": "attempted relative import with no known parent package",
     "output_type": "error",
     "traceback": [
      "\u001b[0;31m---------------------------------------------------------------------------\u001b[0m",
      "\u001b[0;31mImportError\u001b[0m                               Traceback (most recent call last)",
      "\u001b[0;32m<ipython-input-13-2cfcc16e57d9>\u001b[0m in \u001b[0;36m<module>\u001b[0;34m\u001b[0m\n\u001b[0;32m----> 1\u001b[0;31m \u001b[0;32mfrom\u001b[0m \u001b[0;34m.\u001b[0m\u001b[0;34m.\u001b[0m\u001b[0msrc\u001b[0m\u001b[0;34m.\u001b[0m\u001b[0mhelper\u001b[0m\u001b[0;34m.\u001b[0m\u001b[0mcompanieStats\u001b[0m \u001b[0;32mimport\u001b[0m \u001b[0mcompanyDisclosureStats\u001b[0m\u001b[0;34m\u001b[0m\u001b[0;34m\u001b[0m\u001b[0m\n\u001b[0m",
      "\u001b[0;31mImportError\u001b[0m: attempted relative import with no known parent package"
     ]
    },
    {
     "data": {
      "application/javascript": [
       "\n",
       "            setTimeout(function() {\n",
       "                var nbb_cell_id = 13;\n",
       "                var nbb_unformatted_code = \"from ..src.helper.companieStats import companyDisclosureStats\";\n",
       "                var nbb_formatted_code = \"from ..src.helper.companieStats import companyDisclosureStats\";\n",
       "                var nbb_cells = Jupyter.notebook.get_cells();\n",
       "                for (var i = 0; i < nbb_cells.length; ++i) {\n",
       "                    if (nbb_cells[i].input_prompt_number == nbb_cell_id) {\n",
       "                        if (nbb_cells[i].get_text() == nbb_unformatted_code) {\n",
       "                             nbb_cells[i].set_text(nbb_formatted_code);\n",
       "                        }\n",
       "                        break;\n",
       "                    }\n",
       "                }\n",
       "            }, 500);\n",
       "            "
      ],
      "text/plain": [
       "<IPython.core.display.Javascript object>"
      ]
     },
     "metadata": {},
     "output_type": "display_data"
    }
   ],
   "source": [
    "from ..src.helper.companieStats import companyDisclosureStats"
   ]
  },
  {
   "cell_type": "code",
   "execution_count": null,
   "id": "7be32ee2",
   "metadata": {},
   "outputs": [],
   "source": []
  },
  {
   "cell_type": "code",
   "execution_count": null,
   "id": "cac9ca83",
   "metadata": {},
   "outputs": [],
   "source": []
  },
  {
   "cell_type": "code",
   "execution_count": null,
   "id": "0d721661",
   "metadata": {},
   "outputs": [],
   "source": []
  },
  {
   "cell_type": "code",
   "execution_count": null,
   "id": "cc26666e",
   "metadata": {},
   "outputs": [],
   "source": []
  },
  {
   "cell_type": "code",
   "execution_count": null,
   "id": "14acd8cd",
   "metadata": {},
   "outputs": [],
   "source": []
  },
  {
   "cell_type": "code",
   "execution_count": null,
   "id": "75c2078e",
   "metadata": {},
   "outputs": [],
   "source": []
  },
  {
   "cell_type": "code",
   "execution_count": null,
   "id": "a8bd00c7",
   "metadata": {},
   "outputs": [],
   "source": []
  },
  {
   "cell_type": "code",
   "execution_count": null,
   "id": "5156925c",
   "metadata": {},
   "outputs": [],
   "source": []
  },
  {
   "cell_type": "code",
   "execution_count": null,
   "id": "bd351e5c",
   "metadata": {},
   "outputs": [],
   "source": []
  },
  {
   "cell_type": "code",
   "execution_count": null,
   "id": "93f428a2",
   "metadata": {},
   "outputs": [],
   "source": []
  }
 ],
 "metadata": {
  "kernelspec": {
   "display_name": "Python 3",
   "language": "python",
   "name": "python3"
  },
  "language_info": {
   "codemirror_mode": {
    "name": "ipython",
    "version": 3
   },
   "file_extension": ".py",
   "mimetype": "text/x-python",
   "name": "python",
   "nbconvert_exporter": "python",
   "pygments_lexer": "ipython3",
   "version": "3.8.8"
  },
  "toc": {
   "base_numbering": 1,
   "nav_menu": {},
   "number_sections": true,
   "sideBar": true,
   "skip_h1_title": false,
   "title_cell": "Table of Contents",
   "title_sidebar": "Contents",
   "toc_cell": true,
   "toc_position": {
    "height": "calc(100% - 180px)",
    "left": "10px",
    "top": "150px",
    "width": "326.193px"
   },
   "toc_section_display": true,
   "toc_window_display": true
  },
  "varInspector": {
   "cols": {
    "lenName": 16,
    "lenType": 16,
    "lenVar": 40
   },
   "kernels_config": {
    "python": {
     "delete_cmd_postfix": "",
     "delete_cmd_prefix": "del ",
     "library": "var_list.py",
     "varRefreshCmd": "print(var_dic_list())"
    },
    "r": {
     "delete_cmd_postfix": ") ",
     "delete_cmd_prefix": "rm(",
     "library": "var_list.r",
     "varRefreshCmd": "cat(var_dic_list()) "
    }
   },
   "position": {
    "height": "568.722px",
    "left": "1932.91px",
    "right": "20px",
    "top": "140px",
    "width": "345px"
   },
   "types_to_exclude": [
    "module",
    "function",
    "builtin_function_or_method",
    "instance",
    "_Feature"
   ],
   "window_display": true
  }
 },
 "nbformat": 4,
 "nbformat_minor": 5
}
