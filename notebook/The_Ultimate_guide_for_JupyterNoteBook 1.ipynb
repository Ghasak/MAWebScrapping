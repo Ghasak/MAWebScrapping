{
 "cells": [
  {
   "cell_type": "markdown",
   "id": "d54a02a9",
   "metadata": {
    "toc": true
   },
   "source": [
    "<h1>Table of Contents<span class=\"tocSkip\"></span></h1>\n",
    "<div class=\"toc\"><ul class=\"toc-item\"><li><span><a href=\"#The-Ultimate-Guide-for-my-JupyterNotebook\" data-toc-modified-id=\"The-Ultimate-Guide-for-my-JupyterNotebook-1\"><span class=\"toc-item-num\">1&nbsp;&nbsp;</span>The Ultimate Guide for my JupyterNotebook</a></span><ul class=\"toc-item\"><li><span><a href=\"#Enabling-Extentions\" data-toc-modified-id=\"Enabling-Extentions-1.1\"><span class=\"toc-item-num\">1.1&nbsp;&nbsp;</span>Enabling Extentions</a></span></li><li><span><a href=\"#Requirements\" data-toc-modified-id=\"Requirements-1.2\"><span class=\"toc-item-num\">1.2&nbsp;&nbsp;</span>Requirements</a></span><ul class=\"toc-item\"><li><span><a href=\"#Formatting-JupyterCells\" data-toc-modified-id=\"Formatting-JupyterCells-1.2.1\"><span class=\"toc-item-num\">1.2.1&nbsp;&nbsp;</span>Formatting JupyterCells</a></span></li><li><span><a href=\"#Jupyter-Notebook-snipppets-menu\" data-toc-modified-id=\"Jupyter-Notebook-snipppets-menu-1.2.2\"><span class=\"toc-item-num\">1.2.2&nbsp;&nbsp;</span>Jupyter Notebook snipppets menu</a></span></li><li><span><a href=\"#Black--formmatter\" data-toc-modified-id=\"Black--formmatter-1.2.3\"><span class=\"toc-item-num\">1.2.3&nbsp;&nbsp;</span>Black  formmatter</a></span></li><li><span><a href=\"#Matplotlib-inline\" data-toc-modified-id=\"Matplotlib-inline-1.2.4\"><span class=\"toc-item-num\">1.2.4&nbsp;&nbsp;</span>Matplotlib inline</a></span></li><li><span><a href=\"#Jupyter-executation-cell-time\" data-toc-modified-id=\"Jupyter-executation-cell-time-1.2.5\"><span class=\"toc-item-num\">1.2.5&nbsp;&nbsp;</span>Jupyter executation cell time</a></span></li><li><span><a href=\"#Table-of-content-extenation\" data-toc-modified-id=\"Table-of-content-extenation-1.2.6\"><span class=\"toc-item-num\">1.2.6&nbsp;&nbsp;</span>Table of content extenation</a></span></li><li><span><a href=\"#FancyTable-for-Pandas\" data-toc-modified-id=\"FancyTable-for-Pandas-1.2.7\"><span class=\"toc-item-num\">1.2.7&nbsp;&nbsp;</span>FancyTable for Pandas</a></span></li><li><span><a href=\"#AutoReloader-(investigate)\" data-toc-modified-id=\"AutoReloader-(investigate)-1.2.8\"><span class=\"toc-item-num\">1.2.8&nbsp;&nbsp;</span>AutoReloader (investigate)</a></span></li></ul></li><li><span><a href=\"#Customize-Pandas\" data-toc-modified-id=\"Customize-Pandas-1.3\"><span class=\"toc-item-num\">1.3&nbsp;&nbsp;</span>Customize Pandas</a></span><ul class=\"toc-item\"><li><span><a href=\"#Alter-Display-of-columns\" data-toc-modified-id=\"Alter-Display-of-columns-1.3.1\"><span class=\"toc-item-num\">1.3.1&nbsp;&nbsp;</span>Alter Display of columns</a></span></li><li><span><a href=\"#Alter-Display-of-Rows\" data-toc-modified-id=\"Alter-Display-of-Rows-1.3.2\"><span class=\"toc-item-num\">1.3.2&nbsp;&nbsp;</span>Alter Display of Rows</a></span></li><li><span><a href=\"#Alter-Width-of-the-cell\" data-toc-modified-id=\"Alter-Width-of-the-cell-1.3.3\"><span class=\"toc-item-num\">1.3.3&nbsp;&nbsp;</span>Alter Width of the cell</a></span></li><li><span><a href=\"#Decimal-Value-formatting\" data-toc-modified-id=\"Decimal-Value-formatting-1.3.4\"><span class=\"toc-item-num\">1.3.4&nbsp;&nbsp;</span>Decimal Value formatting</a></span></li><li><span><a href=\"#DataFrame-Info\" data-toc-modified-id=\"DataFrame-Info-1.3.5\"><span class=\"toc-item-num\">1.3.5&nbsp;&nbsp;</span>DataFrame Info</a></span></li></ul></li><li><span><a href=\"#Variable-inspector:-keep-track-of-your-workspace\" data-toc-modified-id=\"Variable-inspector:-keep-track-of-your-workspace-1.4\"><span class=\"toc-item-num\">1.4&nbsp;&nbsp;</span>Variable inspector: keep track of your workspace</a></span></li><li><span><a href=\"#Initialize-Cell\" data-toc-modified-id=\"Initialize-Cell-1.5\"><span class=\"toc-item-num\">1.5&nbsp;&nbsp;</span>Initialize Cell</a></span><ul class=\"toc-item\"><li><span><a href=\"#Split-the-cells\" data-toc-modified-id=\"Split-the-cells-1.5.1\"><span class=\"toc-item-num\">1.5.1&nbsp;&nbsp;</span>Split the cells</a></span></li><li><span><a href=\"#Collapsible-headings\" data-toc-modified-id=\"Collapsible-headings-1.5.2\"><span class=\"toc-item-num\">1.5.2&nbsp;&nbsp;</span>Collapsible headings</a></span></li><li><span><a href=\"#Skip-traceback\" data-toc-modified-id=\"Skip-traceback-1.5.3\"><span class=\"toc-item-num\">1.5.3&nbsp;&nbsp;</span>Skip-traceback</a></span></li></ul></li><li><span><a href=\"#JupyterLab-System-Monitor\" data-toc-modified-id=\"JupyterLab-System-Monitor-1.6\"><span class=\"toc-item-num\">1.6&nbsp;&nbsp;</span>JupyterLab System Monitor</a></span></li><li><span><a href=\"#Vim-with-Jupyter\" data-toc-modified-id=\"Vim-with-Jupyter-1.7\"><span class=\"toc-item-num\">1.7&nbsp;&nbsp;</span>Vim with Jupyter</a></span><ul class=\"toc-item\"><li><span><a href=\"#Installing-the-jupyterNotebook\" data-toc-modified-id=\"Installing-the-jupyterNotebook-1.7.1\"><span class=\"toc-item-num\">1.7.1&nbsp;&nbsp;</span>Installing the jupyterNotebook</a></span><ul class=\"toc-item\"><li><span><a href=\"#Completion-and-Tooltip\" data-toc-modified-id=\"Completion-and-Tooltip-1.7.1.1\"><span class=\"toc-item-num\">1.7.1.1&nbsp;&nbsp;</span>Completion and Tooltip</a></span></li></ul></li></ul></li><li><span><a href=\"#Nbdime-for-better-version-control\" data-toc-modified-id=\"Nbdime-for-better-version-control-1.8\"><span class=\"toc-item-num\">1.8&nbsp;&nbsp;</span>Nbdime for better version control</a></span></li><li><span><a href=\"#System-Monitoring-with-JupyterNotebook\" data-toc-modified-id=\"System-Monitoring-with-JupyterNotebook-1.9\"><span class=\"toc-item-num\">1.9&nbsp;&nbsp;</span>System Monitoring with JupyterNotebook</a></span></li><li><span><a href=\"#Installing-(still-doesn't-work-)\" data-toc-modified-id=\"Installing-(still-doesn't-work-)-1.10\"><span class=\"toc-item-num\">1.10&nbsp;&nbsp;</span>Installing (still doesn't work )</a></span></li><li><span><a href=\"#References\" data-toc-modified-id=\"References-1.11\"><span class=\"toc-item-num\">1.11&nbsp;&nbsp;</span>References</a></span></li><li><span><a href=\"#Examples\" data-toc-modified-id=\"Examples-1.12\"><span class=\"toc-item-num\">1.12&nbsp;&nbsp;</span>Examples</a></span></li><li><span><a href=\"#Another-Example\" data-toc-modified-id=\"Another-Example-1.13\"><span class=\"toc-item-num\">1.13&nbsp;&nbsp;</span>Another Example</a></span><ul class=\"toc-item\"><li><span><a href=\"#Vector-with-vector-type\" data-toc-modified-id=\"Vector-with-vector-type-1.13.1\"><span class=\"toc-item-num\">1.13.1&nbsp;&nbsp;</span>Vector with vector type</a></span></li><li><span><a href=\"#Vector-with-scalar\" data-toc-modified-id=\"Vector-with-scalar-1.13.2\"><span class=\"toc-item-num\">1.13.2&nbsp;&nbsp;</span>Vector with scalar</a></span></li><li><span><a href=\"#Vector-with-List\" data-toc-modified-id=\"Vector-with-List-1.13.3\"><span class=\"toc-item-num\">1.13.3&nbsp;&nbsp;</span>Vector with List</a></span></li><li><span><a href=\"#Vector-with-tuple\" data-toc-modified-id=\"Vector-with-tuple-1.13.4\"><span class=\"toc-item-num\">1.13.4&nbsp;&nbsp;</span>Vector with tuple</a></span></li></ul></li></ul></li></ul></div>"
   ]
  },
  {
   "cell_type": "markdown",
   "id": "0d1f7009",
   "metadata": {},
   "source": [
    "# The Ultimate Guide for my JupyterNotebook "
   ]
  },
  {
   "cell_type": "markdown",
   "id": "1a0b1128",
   "metadata": {},
   "source": [
    "##  Enabling Extentions \n",
    "\n",
    "```shell\n",
    "pip install jupyter_contrib_nbextensions\n",
    "pip install jupyter_nbextensions_configurator\n",
    "jupyter contrib nbextension install\n",
    "```"
   ]
  },
  {
   "cell_type": "markdown",
   "id": "e1a68a5a",
   "metadata": {},
   "source": [
    "## Requirements "
   ]
  },
  {
   "cell_type": "markdown",
   "id": "e1eab280",
   "metadata": {},
   "source": [
    "Here I will add more identifications including \n",
    "- [x] Black (auto-formatter) for my cells \n",
    "- [x] Table of contents for the Jupyter notebook \n",
    "- [x] Adding nvim compatibility with my current \n",
    "- [x] Version control with git for jupyter notebook. \n",
    "- [x] Execution time for the cell \n",
    "- [x] Adding formatter for the font, size, type alignments..etc \n",
    "- [x] Adding pandas data frame customizations \n",
    "- [ ] Adding System Monitoring.  (Still need to be configure)"
   ]
  },
  {
   "cell_type": "markdown",
   "id": "7be55005",
   "metadata": {},
   "source": [
    "### Formatting JupyterCells "
   ]
  },
  {
   "cell_type": "code",
   "execution_count": 1,
   "id": "fe07ffa6",
   "metadata": {
    "ExecuteTime": {
     "end_time": "2021-07-09T17:14:27.658626Z",
     "start_time": "2021-07-09T17:14:27.649549Z"
    }
   },
   "outputs": [
    {
     "data": {
      "text/html": [
       "<style>\n",
       "    div#notebook-container    { width: 60%; }\n",
       "    div#menubar-container     { width: 30%; }\n",
       "    div#maintoolbar-container { width: 30%; }\n",
       "</style>\n"
      ],
      "text/plain": [
       "<IPython.core.display.HTML object>"
      ]
     },
     "metadata": {},
     "output_type": "display_data"
    }
   ],
   "source": [
    "%%HTML\n",
    "<style>\n",
    "    div#notebook-container    { width: 60%; }\n",
    "    div#menubar-container     { width: 30%; }\n",
    "    div#maintoolbar-container { width: 30%; }\n",
    "</style>"
   ]
  },
  {
   "cell_type": "markdown",
   "id": "8a2407df",
   "metadata": {},
   "source": [
    "### Jupyter Notebook snipppets menu \n",
    "snippet for my current developments \n",
    "\n",
    "https://jupyter-contrib-nbextensions.readthedocs.io/en/latest/nbextensions/snippets_menu/readme.html#\n",
    "```bash\n",
    "git clone git://github.com/moble/jupyter_boilerplate\n",
    "jupyter nbextension install jupyter_boilerplate\n",
    "jupyter nbextension enable jupyter_boilerplate/main\n",
    "```"
   ]
  },
  {
   "cell_type": "markdown",
   "id": "83839f22",
   "metadata": {},
   "source": [
    "### Black  formmatter \n",
    "\n",
    "```shell\n",
    "jupyter nbextension install https://github.com/drillan/jupyter-black/archive/master.zip --user\n",
    "jupyter nbextension enable jupyter-black-master/jupyter-black\n",
    "\n",
    "```\n",
    "https://github.com/drillan/jupyter-black"
   ]
  },
  {
   "cell_type": "code",
   "execution_count": 38,
   "id": "f1993dff",
   "metadata": {
    "ExecuteTime": {
     "end_time": "2021-07-10T04:26:28.908699Z",
     "start_time": "2021-07-10T04:26:28.878633Z"
    }
   },
   "outputs": [
    {
     "ename": "ModuleNotFoundError",
     "evalue": "No module named 'nb_black'",
     "output_type": "error",
     "traceback": [
      "\u001b[0;31m---------------------------------------------------------------------------\u001b[0m",
      "\u001b[0;31mModuleNotFoundError\u001b[0m                       Traceback (most recent call last)",
      "\u001b[0;32m/var/folders/sn/mc447sys0bsftdkhrr76psqw0000gp/T/ipykernel_46344/2694725405.py\u001b[0m in \u001b[0;36m<module>\u001b[0;34m\u001b[0m\n\u001b[1;32m      1\u001b[0m \u001b[0;31m# Automatically apply black to the cell\u001b[0m\u001b[0;34m\u001b[0m\u001b[0;34m\u001b[0m\u001b[0;34m\u001b[0m\u001b[0m\n\u001b[0;32m----> 2\u001b[0;31m \u001b[0mget_ipython\u001b[0m\u001b[0;34m(\u001b[0m\u001b[0;34m)\u001b[0m\u001b[0;34m.\u001b[0m\u001b[0mrun_line_magic\u001b[0m\u001b[0;34m(\u001b[0m\u001b[0;34m'load_ext'\u001b[0m\u001b[0;34m,\u001b[0m \u001b[0;34m'nb_black'\u001b[0m\u001b[0;34m)\u001b[0m\u001b[0;34m\u001b[0m\u001b[0;34m\u001b[0m\u001b[0m\n\u001b[0m\u001b[1;32m      3\u001b[0m \u001b[0;31m#%reload_ext nb_black\u001b[0m\u001b[0;34m\u001b[0m\u001b[0;34m\u001b[0m\u001b[0;34m\u001b[0m\u001b[0m\n\u001b[1;32m      4\u001b[0m \u001b[0;31m# Or if you are in jupyter-lab environment, use lab_black\u001b[0m\u001b[0;34m\u001b[0m\u001b[0;34m\u001b[0m\u001b[0;34m\u001b[0m\u001b[0m\n\u001b[1;32m      5\u001b[0m \u001b[0;31m# %load_ext lab_black\u001b[0m\u001b[0;34m\u001b[0m\u001b[0;34m\u001b[0m\u001b[0;34m\u001b[0m\u001b[0m\n",
      "\u001b[0;32m~/.local/share/virtualenvs/fancyJupyter-BPTcraDm/lib/python3.8/site-packages/IPython/core/interactiveshell.py\u001b[0m in \u001b[0;36mrun_line_magic\u001b[0;34m(self, magic_name, line, _stack_depth)\u001b[0m\n\u001b[1;32m   2346\u001b[0m                 \u001b[0mkwargs\u001b[0m\u001b[0;34m[\u001b[0m\u001b[0;34m'local_ns'\u001b[0m\u001b[0;34m]\u001b[0m \u001b[0;34m=\u001b[0m \u001b[0mself\u001b[0m\u001b[0;34m.\u001b[0m\u001b[0mget_local_scope\u001b[0m\u001b[0;34m(\u001b[0m\u001b[0mstack_depth\u001b[0m\u001b[0;34m)\u001b[0m\u001b[0;34m\u001b[0m\u001b[0;34m\u001b[0m\u001b[0m\n\u001b[1;32m   2347\u001b[0m             \u001b[0;32mwith\u001b[0m \u001b[0mself\u001b[0m\u001b[0;34m.\u001b[0m\u001b[0mbuiltin_trap\u001b[0m\u001b[0;34m:\u001b[0m\u001b[0;34m\u001b[0m\u001b[0;34m\u001b[0m\u001b[0m\n\u001b[0;32m-> 2348\u001b[0;31m                 \u001b[0mresult\u001b[0m \u001b[0;34m=\u001b[0m \u001b[0mfn\u001b[0m\u001b[0;34m(\u001b[0m\u001b[0;34m*\u001b[0m\u001b[0margs\u001b[0m\u001b[0;34m,\u001b[0m \u001b[0;34m**\u001b[0m\u001b[0mkwargs\u001b[0m\u001b[0;34m)\u001b[0m\u001b[0;34m\u001b[0m\u001b[0;34m\u001b[0m\u001b[0m\n\u001b[0m\u001b[1;32m   2349\u001b[0m             \u001b[0;32mreturn\u001b[0m \u001b[0mresult\u001b[0m\u001b[0;34m\u001b[0m\u001b[0;34m\u001b[0m\u001b[0m\n\u001b[1;32m   2350\u001b[0m \u001b[0;34m\u001b[0m\u001b[0m\n",
      "\u001b[0;32m~/.local/share/virtualenvs/fancyJupyter-BPTcraDm/lib/python3.8/site-packages/decorator.py\u001b[0m in \u001b[0;36mfun\u001b[0;34m(*args, **kw)\u001b[0m\n\u001b[1;32m    230\u001b[0m             \u001b[0;32mif\u001b[0m \u001b[0;32mnot\u001b[0m \u001b[0mkwsyntax\u001b[0m\u001b[0;34m:\u001b[0m\u001b[0;34m\u001b[0m\u001b[0;34m\u001b[0m\u001b[0m\n\u001b[1;32m    231\u001b[0m                 \u001b[0margs\u001b[0m\u001b[0;34m,\u001b[0m \u001b[0mkw\u001b[0m \u001b[0;34m=\u001b[0m \u001b[0mfix\u001b[0m\u001b[0;34m(\u001b[0m\u001b[0margs\u001b[0m\u001b[0;34m,\u001b[0m \u001b[0mkw\u001b[0m\u001b[0;34m,\u001b[0m \u001b[0msig\u001b[0m\u001b[0;34m)\u001b[0m\u001b[0;34m\u001b[0m\u001b[0;34m\u001b[0m\u001b[0m\n\u001b[0;32m--> 232\u001b[0;31m             \u001b[0;32mreturn\u001b[0m \u001b[0mcaller\u001b[0m\u001b[0;34m(\u001b[0m\u001b[0mfunc\u001b[0m\u001b[0;34m,\u001b[0m \u001b[0;34m*\u001b[0m\u001b[0;34m(\u001b[0m\u001b[0mextras\u001b[0m \u001b[0;34m+\u001b[0m \u001b[0margs\u001b[0m\u001b[0;34m)\u001b[0m\u001b[0;34m,\u001b[0m \u001b[0;34m**\u001b[0m\u001b[0mkw\u001b[0m\u001b[0;34m)\u001b[0m\u001b[0;34m\u001b[0m\u001b[0;34m\u001b[0m\u001b[0m\n\u001b[0m\u001b[1;32m    233\u001b[0m     \u001b[0mfun\u001b[0m\u001b[0;34m.\u001b[0m\u001b[0m__name__\u001b[0m \u001b[0;34m=\u001b[0m \u001b[0mfunc\u001b[0m\u001b[0;34m.\u001b[0m\u001b[0m__name__\u001b[0m\u001b[0;34m\u001b[0m\u001b[0;34m\u001b[0m\u001b[0m\n\u001b[1;32m    234\u001b[0m     \u001b[0mfun\u001b[0m\u001b[0;34m.\u001b[0m\u001b[0m__doc__\u001b[0m \u001b[0;34m=\u001b[0m \u001b[0mfunc\u001b[0m\u001b[0;34m.\u001b[0m\u001b[0m__doc__\u001b[0m\u001b[0;34m\u001b[0m\u001b[0;34m\u001b[0m\u001b[0m\n",
      "\u001b[0;32m~/.local/share/virtualenvs/fancyJupyter-BPTcraDm/lib/python3.8/site-packages/IPython/core/magic.py\u001b[0m in \u001b[0;36m<lambda>\u001b[0;34m(f, *a, **k)\u001b[0m\n\u001b[1;32m    185\u001b[0m     \u001b[0;31m# but it's overkill for just that one bit of state.\u001b[0m\u001b[0;34m\u001b[0m\u001b[0;34m\u001b[0m\u001b[0;34m\u001b[0m\u001b[0m\n\u001b[1;32m    186\u001b[0m     \u001b[0;32mdef\u001b[0m \u001b[0mmagic_deco\u001b[0m\u001b[0;34m(\u001b[0m\u001b[0marg\u001b[0m\u001b[0;34m)\u001b[0m\u001b[0;34m:\u001b[0m\u001b[0;34m\u001b[0m\u001b[0;34m\u001b[0m\u001b[0m\n\u001b[0;32m--> 187\u001b[0;31m         \u001b[0mcall\u001b[0m \u001b[0;34m=\u001b[0m \u001b[0;32mlambda\u001b[0m \u001b[0mf\u001b[0m\u001b[0;34m,\u001b[0m \u001b[0;34m*\u001b[0m\u001b[0ma\u001b[0m\u001b[0;34m,\u001b[0m \u001b[0;34m**\u001b[0m\u001b[0mk\u001b[0m\u001b[0;34m:\u001b[0m \u001b[0mf\u001b[0m\u001b[0;34m(\u001b[0m\u001b[0;34m*\u001b[0m\u001b[0ma\u001b[0m\u001b[0;34m,\u001b[0m \u001b[0;34m**\u001b[0m\u001b[0mk\u001b[0m\u001b[0;34m)\u001b[0m\u001b[0;34m\u001b[0m\u001b[0;34m\u001b[0m\u001b[0m\n\u001b[0m\u001b[1;32m    188\u001b[0m \u001b[0;34m\u001b[0m\u001b[0m\n\u001b[1;32m    189\u001b[0m         \u001b[0;32mif\u001b[0m \u001b[0mcallable\u001b[0m\u001b[0;34m(\u001b[0m\u001b[0marg\u001b[0m\u001b[0;34m)\u001b[0m\u001b[0;34m:\u001b[0m\u001b[0;34m\u001b[0m\u001b[0;34m\u001b[0m\u001b[0m\n",
      "\u001b[0;32m~/.local/share/virtualenvs/fancyJupyter-BPTcraDm/lib/python3.8/site-packages/IPython/core/magics/extension.py\u001b[0m in \u001b[0;36mload_ext\u001b[0;34m(self, module_str)\u001b[0m\n\u001b[1;32m     31\u001b[0m         \u001b[0;32mif\u001b[0m \u001b[0;32mnot\u001b[0m \u001b[0mmodule_str\u001b[0m\u001b[0;34m:\u001b[0m\u001b[0;34m\u001b[0m\u001b[0;34m\u001b[0m\u001b[0m\n\u001b[1;32m     32\u001b[0m             \u001b[0;32mraise\u001b[0m \u001b[0mUsageError\u001b[0m\u001b[0;34m(\u001b[0m\u001b[0;34m'Missing module name.'\u001b[0m\u001b[0;34m)\u001b[0m\u001b[0;34m\u001b[0m\u001b[0;34m\u001b[0m\u001b[0m\n\u001b[0;32m---> 33\u001b[0;31m         \u001b[0mres\u001b[0m \u001b[0;34m=\u001b[0m \u001b[0mself\u001b[0m\u001b[0;34m.\u001b[0m\u001b[0mshell\u001b[0m\u001b[0;34m.\u001b[0m\u001b[0mextension_manager\u001b[0m\u001b[0;34m.\u001b[0m\u001b[0mload_extension\u001b[0m\u001b[0;34m(\u001b[0m\u001b[0mmodule_str\u001b[0m\u001b[0;34m)\u001b[0m\u001b[0;34m\u001b[0m\u001b[0;34m\u001b[0m\u001b[0m\n\u001b[0m\u001b[1;32m     34\u001b[0m \u001b[0;34m\u001b[0m\u001b[0m\n\u001b[1;32m     35\u001b[0m         \u001b[0;32mif\u001b[0m \u001b[0mres\u001b[0m \u001b[0;34m==\u001b[0m \u001b[0;34m'already loaded'\u001b[0m\u001b[0;34m:\u001b[0m\u001b[0;34m\u001b[0m\u001b[0;34m\u001b[0m\u001b[0m\n",
      "\u001b[0;32m~/.local/share/virtualenvs/fancyJupyter-BPTcraDm/lib/python3.8/site-packages/IPython/core/extensions.py\u001b[0m in \u001b[0;36mload_extension\u001b[0;34m(self, module_str)\u001b[0m\n\u001b[1;32m     78\u001b[0m             \u001b[0;32mif\u001b[0m \u001b[0mmodule_str\u001b[0m \u001b[0;32mnot\u001b[0m \u001b[0;32min\u001b[0m \u001b[0msys\u001b[0m\u001b[0;34m.\u001b[0m\u001b[0mmodules\u001b[0m\u001b[0;34m:\u001b[0m\u001b[0;34m\u001b[0m\u001b[0;34m\u001b[0m\u001b[0m\n\u001b[1;32m     79\u001b[0m                 \u001b[0;32mwith\u001b[0m \u001b[0mprepended_to_syspath\u001b[0m\u001b[0;34m(\u001b[0m\u001b[0mself\u001b[0m\u001b[0;34m.\u001b[0m\u001b[0mipython_extension_dir\u001b[0m\u001b[0;34m)\u001b[0m\u001b[0;34m:\u001b[0m\u001b[0;34m\u001b[0m\u001b[0;34m\u001b[0m\u001b[0m\n\u001b[0;32m---> 80\u001b[0;31m                     \u001b[0mmod\u001b[0m \u001b[0;34m=\u001b[0m \u001b[0mimport_module\u001b[0m\u001b[0;34m(\u001b[0m\u001b[0mmodule_str\u001b[0m\u001b[0;34m)\u001b[0m\u001b[0;34m\u001b[0m\u001b[0;34m\u001b[0m\u001b[0m\n\u001b[0m\u001b[1;32m     81\u001b[0m                     \u001b[0;32mif\u001b[0m \u001b[0mmod\u001b[0m\u001b[0;34m.\u001b[0m\u001b[0m__file__\u001b[0m\u001b[0;34m.\u001b[0m\u001b[0mstartswith\u001b[0m\u001b[0;34m(\u001b[0m\u001b[0mself\u001b[0m\u001b[0;34m.\u001b[0m\u001b[0mipython_extension_dir\u001b[0m\u001b[0;34m)\u001b[0m\u001b[0;34m:\u001b[0m\u001b[0;34m\u001b[0m\u001b[0;34m\u001b[0m\u001b[0m\n\u001b[1;32m     82\u001b[0m                         print((\"Loading extensions from {dir} is deprecated. \"\n",
      "\u001b[0;32m~/opt/anaconda3/lib/python3.8/importlib/__init__.py\u001b[0m in \u001b[0;36mimport_module\u001b[0;34m(name, package)\u001b[0m\n\u001b[1;32m    125\u001b[0m                 \u001b[0;32mbreak\u001b[0m\u001b[0;34m\u001b[0m\u001b[0;34m\u001b[0m\u001b[0m\n\u001b[1;32m    126\u001b[0m             \u001b[0mlevel\u001b[0m \u001b[0;34m+=\u001b[0m \u001b[0;36m1\u001b[0m\u001b[0;34m\u001b[0m\u001b[0;34m\u001b[0m\u001b[0m\n\u001b[0;32m--> 127\u001b[0;31m     \u001b[0;32mreturn\u001b[0m \u001b[0m_bootstrap\u001b[0m\u001b[0;34m.\u001b[0m\u001b[0m_gcd_import\u001b[0m\u001b[0;34m(\u001b[0m\u001b[0mname\u001b[0m\u001b[0;34m[\u001b[0m\u001b[0mlevel\u001b[0m\u001b[0;34m:\u001b[0m\u001b[0;34m]\u001b[0m\u001b[0;34m,\u001b[0m \u001b[0mpackage\u001b[0m\u001b[0;34m,\u001b[0m \u001b[0mlevel\u001b[0m\u001b[0;34m)\u001b[0m\u001b[0;34m\u001b[0m\u001b[0;34m\u001b[0m\u001b[0m\n\u001b[0m\u001b[1;32m    128\u001b[0m \u001b[0;34m\u001b[0m\u001b[0m\n\u001b[1;32m    129\u001b[0m \u001b[0;34m\u001b[0m\u001b[0m\n",
      "\u001b[0;32m~/opt/anaconda3/lib/python3.8/importlib/_bootstrap.py\u001b[0m in \u001b[0;36m_gcd_import\u001b[0;34m(name, package, level)\u001b[0m\n",
      "\u001b[0;32m~/opt/anaconda3/lib/python3.8/importlib/_bootstrap.py\u001b[0m in \u001b[0;36m_find_and_load\u001b[0;34m(name, import_)\u001b[0m\n",
      "\u001b[0;32m~/opt/anaconda3/lib/python3.8/importlib/_bootstrap.py\u001b[0m in \u001b[0;36m_find_and_load_unlocked\u001b[0;34m(name, import_)\u001b[0m\n",
      "\u001b[0;31mModuleNotFoundError\u001b[0m: No module named 'nb_black'"
     ]
    }
   ],
   "source": [
    "# Automatically apply black to the cell\n",
    "%load_ext nb_black\n",
    "#%reload_ext nb_black\n",
    "# Or if you are in jupyter-lab environment, use lab_black\n",
    "# %load_ext lab_black\n",
    "# Enable autoreload when you want to have autoreload of src/ modules\n",
    "# %autoreload 2"
   ]
  },
  {
   "cell_type": "markdown",
   "id": "b6dc5aa8",
   "metadata": {},
   "source": [
    "### Matplotlib inline "
   ]
  },
  {
   "cell_type": "code",
   "execution_count": 3,
   "id": "5889c98e",
   "metadata": {
    "ExecuteTime": {
     "end_time": "2021-07-09T17:14:29.454846Z",
     "start_time": "2021-07-09T17:14:29.443380Z"
    }
   },
   "outputs": [
    {
     "ename": "ModuleNotFoundError",
     "evalue": "No module named 'matplotlib'",
     "output_type": "error",
     "traceback": [
      "\u001b[0;31m---------------------------------------------------------------------------\u001b[0m",
      "\u001b[0;31mModuleNotFoundError\u001b[0m                       Traceback (most recent call last)",
      "\u001b[0;32m/var/folders/sn/mc447sys0bsftdkhrr76psqw0000gp/T/ipykernel_31665/352233182.py\u001b[0m in \u001b[0;36m<module>\u001b[0;34m\u001b[0m\n\u001b[0;32m----> 1\u001b[0;31m \u001b[0mget_ipython\u001b[0m\u001b[0;34m(\u001b[0m\u001b[0;34m)\u001b[0m\u001b[0;34m.\u001b[0m\u001b[0mrun_line_magic\u001b[0m\u001b[0;34m(\u001b[0m\u001b[0;34m'matplotlib'\u001b[0m\u001b[0;34m,\u001b[0m \u001b[0;34m'inline'\u001b[0m\u001b[0;34m)\u001b[0m\u001b[0;34m\u001b[0m\u001b[0;34m\u001b[0m\u001b[0m\n\u001b[0m",
      "\u001b[0;32m~/.local/share/virtualenvs/fancyJupyter-BPTcraDm/lib/python3.8/site-packages/IPython/core/interactiveshell.py\u001b[0m in \u001b[0;36mrun_line_magic\u001b[0;34m(self, magic_name, line, _stack_depth)\u001b[0m\n\u001b[1;32m   2346\u001b[0m                 \u001b[0mkwargs\u001b[0m\u001b[0;34m[\u001b[0m\u001b[0;34m'local_ns'\u001b[0m\u001b[0;34m]\u001b[0m \u001b[0;34m=\u001b[0m \u001b[0mself\u001b[0m\u001b[0;34m.\u001b[0m\u001b[0mget_local_scope\u001b[0m\u001b[0;34m(\u001b[0m\u001b[0mstack_depth\u001b[0m\u001b[0;34m)\u001b[0m\u001b[0;34m\u001b[0m\u001b[0;34m\u001b[0m\u001b[0m\n\u001b[1;32m   2347\u001b[0m             \u001b[0;32mwith\u001b[0m \u001b[0mself\u001b[0m\u001b[0;34m.\u001b[0m\u001b[0mbuiltin_trap\u001b[0m\u001b[0;34m:\u001b[0m\u001b[0;34m\u001b[0m\u001b[0;34m\u001b[0m\u001b[0m\n\u001b[0;32m-> 2348\u001b[0;31m                 \u001b[0mresult\u001b[0m \u001b[0;34m=\u001b[0m \u001b[0mfn\u001b[0m\u001b[0;34m(\u001b[0m\u001b[0;34m*\u001b[0m\u001b[0margs\u001b[0m\u001b[0;34m,\u001b[0m \u001b[0;34m**\u001b[0m\u001b[0mkwargs\u001b[0m\u001b[0;34m)\u001b[0m\u001b[0;34m\u001b[0m\u001b[0;34m\u001b[0m\u001b[0m\n\u001b[0m\u001b[1;32m   2349\u001b[0m             \u001b[0;32mreturn\u001b[0m \u001b[0mresult\u001b[0m\u001b[0;34m\u001b[0m\u001b[0;34m\u001b[0m\u001b[0m\n\u001b[1;32m   2350\u001b[0m \u001b[0;34m\u001b[0m\u001b[0m\n",
      "\u001b[0;32m~/.local/share/virtualenvs/fancyJupyter-BPTcraDm/lib/python3.8/site-packages/decorator.py\u001b[0m in \u001b[0;36mfun\u001b[0;34m(*args, **kw)\u001b[0m\n\u001b[1;32m    230\u001b[0m             \u001b[0;32mif\u001b[0m \u001b[0;32mnot\u001b[0m \u001b[0mkwsyntax\u001b[0m\u001b[0;34m:\u001b[0m\u001b[0;34m\u001b[0m\u001b[0;34m\u001b[0m\u001b[0m\n\u001b[1;32m    231\u001b[0m                 \u001b[0margs\u001b[0m\u001b[0;34m,\u001b[0m \u001b[0mkw\u001b[0m \u001b[0;34m=\u001b[0m \u001b[0mfix\u001b[0m\u001b[0;34m(\u001b[0m\u001b[0margs\u001b[0m\u001b[0;34m,\u001b[0m \u001b[0mkw\u001b[0m\u001b[0;34m,\u001b[0m \u001b[0msig\u001b[0m\u001b[0;34m)\u001b[0m\u001b[0;34m\u001b[0m\u001b[0;34m\u001b[0m\u001b[0m\n\u001b[0;32m--> 232\u001b[0;31m             \u001b[0;32mreturn\u001b[0m \u001b[0mcaller\u001b[0m\u001b[0;34m(\u001b[0m\u001b[0mfunc\u001b[0m\u001b[0;34m,\u001b[0m \u001b[0;34m*\u001b[0m\u001b[0;34m(\u001b[0m\u001b[0mextras\u001b[0m \u001b[0;34m+\u001b[0m \u001b[0margs\u001b[0m\u001b[0;34m)\u001b[0m\u001b[0;34m,\u001b[0m \u001b[0;34m**\u001b[0m\u001b[0mkw\u001b[0m\u001b[0;34m)\u001b[0m\u001b[0;34m\u001b[0m\u001b[0;34m\u001b[0m\u001b[0m\n\u001b[0m\u001b[1;32m    233\u001b[0m     \u001b[0mfun\u001b[0m\u001b[0;34m.\u001b[0m\u001b[0m__name__\u001b[0m \u001b[0;34m=\u001b[0m \u001b[0mfunc\u001b[0m\u001b[0;34m.\u001b[0m\u001b[0m__name__\u001b[0m\u001b[0;34m\u001b[0m\u001b[0;34m\u001b[0m\u001b[0m\n\u001b[1;32m    234\u001b[0m     \u001b[0mfun\u001b[0m\u001b[0;34m.\u001b[0m\u001b[0m__doc__\u001b[0m \u001b[0;34m=\u001b[0m \u001b[0mfunc\u001b[0m\u001b[0;34m.\u001b[0m\u001b[0m__doc__\u001b[0m\u001b[0;34m\u001b[0m\u001b[0;34m\u001b[0m\u001b[0m\n",
      "\u001b[0;32m~/.local/share/virtualenvs/fancyJupyter-BPTcraDm/lib/python3.8/site-packages/IPython/core/magic.py\u001b[0m in \u001b[0;36m<lambda>\u001b[0;34m(f, *a, **k)\u001b[0m\n\u001b[1;32m    185\u001b[0m     \u001b[0;31m# but it's overkill for just that one bit of state.\u001b[0m\u001b[0;34m\u001b[0m\u001b[0;34m\u001b[0m\u001b[0;34m\u001b[0m\u001b[0m\n\u001b[1;32m    186\u001b[0m     \u001b[0;32mdef\u001b[0m \u001b[0mmagic_deco\u001b[0m\u001b[0;34m(\u001b[0m\u001b[0marg\u001b[0m\u001b[0;34m)\u001b[0m\u001b[0;34m:\u001b[0m\u001b[0;34m\u001b[0m\u001b[0;34m\u001b[0m\u001b[0m\n\u001b[0;32m--> 187\u001b[0;31m         \u001b[0mcall\u001b[0m \u001b[0;34m=\u001b[0m \u001b[0;32mlambda\u001b[0m \u001b[0mf\u001b[0m\u001b[0;34m,\u001b[0m \u001b[0;34m*\u001b[0m\u001b[0ma\u001b[0m\u001b[0;34m,\u001b[0m \u001b[0;34m**\u001b[0m\u001b[0mk\u001b[0m\u001b[0;34m:\u001b[0m \u001b[0mf\u001b[0m\u001b[0;34m(\u001b[0m\u001b[0;34m*\u001b[0m\u001b[0ma\u001b[0m\u001b[0;34m,\u001b[0m \u001b[0;34m**\u001b[0m\u001b[0mk\u001b[0m\u001b[0;34m)\u001b[0m\u001b[0;34m\u001b[0m\u001b[0;34m\u001b[0m\u001b[0m\n\u001b[0m\u001b[1;32m    188\u001b[0m \u001b[0;34m\u001b[0m\u001b[0m\n\u001b[1;32m    189\u001b[0m         \u001b[0;32mif\u001b[0m \u001b[0mcallable\u001b[0m\u001b[0;34m(\u001b[0m\u001b[0marg\u001b[0m\u001b[0;34m)\u001b[0m\u001b[0;34m:\u001b[0m\u001b[0;34m\u001b[0m\u001b[0;34m\u001b[0m\u001b[0m\n",
      "\u001b[0;32m~/.local/share/virtualenvs/fancyJupyter-BPTcraDm/lib/python3.8/site-packages/IPython/core/magics/pylab.py\u001b[0m in \u001b[0;36mmatplotlib\u001b[0;34m(self, line)\u001b[0m\n\u001b[1;32m     97\u001b[0m             \u001b[0mprint\u001b[0m\u001b[0;34m(\u001b[0m\u001b[0;34m\"Available matplotlib backends: %s\"\u001b[0m \u001b[0;34m%\u001b[0m \u001b[0mbackends_list\u001b[0m\u001b[0;34m)\u001b[0m\u001b[0;34m\u001b[0m\u001b[0;34m\u001b[0m\u001b[0m\n\u001b[1;32m     98\u001b[0m         \u001b[0;32melse\u001b[0m\u001b[0;34m:\u001b[0m\u001b[0;34m\u001b[0m\u001b[0;34m\u001b[0m\u001b[0m\n\u001b[0;32m---> 99\u001b[0;31m             \u001b[0mgui\u001b[0m\u001b[0;34m,\u001b[0m \u001b[0mbackend\u001b[0m \u001b[0;34m=\u001b[0m \u001b[0mself\u001b[0m\u001b[0;34m.\u001b[0m\u001b[0mshell\u001b[0m\u001b[0;34m.\u001b[0m\u001b[0menable_matplotlib\u001b[0m\u001b[0;34m(\u001b[0m\u001b[0margs\u001b[0m\u001b[0;34m.\u001b[0m\u001b[0mgui\u001b[0m\u001b[0;34m.\u001b[0m\u001b[0mlower\u001b[0m\u001b[0;34m(\u001b[0m\u001b[0;34m)\u001b[0m \u001b[0;32mif\u001b[0m \u001b[0misinstance\u001b[0m\u001b[0;34m(\u001b[0m\u001b[0margs\u001b[0m\u001b[0;34m.\u001b[0m\u001b[0mgui\u001b[0m\u001b[0;34m,\u001b[0m \u001b[0mstr\u001b[0m\u001b[0;34m)\u001b[0m \u001b[0;32melse\u001b[0m \u001b[0margs\u001b[0m\u001b[0;34m.\u001b[0m\u001b[0mgui\u001b[0m\u001b[0;34m)\u001b[0m\u001b[0;34m\u001b[0m\u001b[0;34m\u001b[0m\u001b[0m\n\u001b[0m\u001b[1;32m    100\u001b[0m             \u001b[0mself\u001b[0m\u001b[0;34m.\u001b[0m\u001b[0m_show_matplotlib_backend\u001b[0m\u001b[0;34m(\u001b[0m\u001b[0margs\u001b[0m\u001b[0;34m.\u001b[0m\u001b[0mgui\u001b[0m\u001b[0;34m,\u001b[0m \u001b[0mbackend\u001b[0m\u001b[0;34m)\u001b[0m\u001b[0;34m\u001b[0m\u001b[0;34m\u001b[0m\u001b[0m\n\u001b[1;32m    101\u001b[0m \u001b[0;34m\u001b[0m\u001b[0m\n",
      "\u001b[0;32m~/.local/share/virtualenvs/fancyJupyter-BPTcraDm/lib/python3.8/site-packages/IPython/core/interactiveshell.py\u001b[0m in \u001b[0;36menable_matplotlib\u001b[0;34m(self, gui)\u001b[0m\n\u001b[1;32m   3515\u001b[0m         \"\"\"\n\u001b[1;32m   3516\u001b[0m         \u001b[0;32mfrom\u001b[0m \u001b[0mIPython\u001b[0m\u001b[0;34m.\u001b[0m\u001b[0mcore\u001b[0m \u001b[0;32mimport\u001b[0m \u001b[0mpylabtools\u001b[0m \u001b[0;32mas\u001b[0m \u001b[0mpt\u001b[0m\u001b[0;34m\u001b[0m\u001b[0;34m\u001b[0m\u001b[0m\n\u001b[0;32m-> 3517\u001b[0;31m         \u001b[0;32mfrom\u001b[0m \u001b[0mmatplotlib_inline\u001b[0m\u001b[0;34m.\u001b[0m\u001b[0mbackend_inline\u001b[0m \u001b[0;32mimport\u001b[0m \u001b[0mconfigure_inline_support\u001b[0m\u001b[0;34m\u001b[0m\u001b[0;34m\u001b[0m\u001b[0m\n\u001b[0m\u001b[1;32m   3518\u001b[0m         \u001b[0mgui\u001b[0m\u001b[0;34m,\u001b[0m \u001b[0mbackend\u001b[0m \u001b[0;34m=\u001b[0m \u001b[0mpt\u001b[0m\u001b[0;34m.\u001b[0m\u001b[0mfind_gui_and_backend\u001b[0m\u001b[0;34m(\u001b[0m\u001b[0mgui\u001b[0m\u001b[0;34m,\u001b[0m \u001b[0mself\u001b[0m\u001b[0;34m.\u001b[0m\u001b[0mpylab_gui_select\u001b[0m\u001b[0;34m)\u001b[0m\u001b[0;34m\u001b[0m\u001b[0;34m\u001b[0m\u001b[0m\n\u001b[1;32m   3519\u001b[0m \u001b[0;34m\u001b[0m\u001b[0m\n",
      "\u001b[0;32m~/.local/share/virtualenvs/fancyJupyter-BPTcraDm/lib/python3.8/site-packages/matplotlib_inline/backend_inline.py\u001b[0m in \u001b[0;36m<module>\u001b[0;34m\u001b[0m\n\u001b[1;32m      4\u001b[0m \u001b[0;31m# Distributed under the terms of the BSD 3-Clause License.\u001b[0m\u001b[0;34m\u001b[0m\u001b[0;34m\u001b[0m\u001b[0;34m\u001b[0m\u001b[0m\n\u001b[1;32m      5\u001b[0m \u001b[0;34m\u001b[0m\u001b[0m\n\u001b[0;32m----> 6\u001b[0;31m \u001b[0;32mimport\u001b[0m \u001b[0mmatplotlib\u001b[0m\u001b[0;34m\u001b[0m\u001b[0;34m\u001b[0m\u001b[0m\n\u001b[0m\u001b[1;32m      7\u001b[0m from matplotlib.backends.backend_agg import (  # noqa\n\u001b[1;32m      8\u001b[0m     \u001b[0mnew_figure_manager\u001b[0m\u001b[0;34m,\u001b[0m\u001b[0;34m\u001b[0m\u001b[0;34m\u001b[0m\u001b[0m\n",
      "\u001b[0;31mModuleNotFoundError\u001b[0m: No module named 'matplotlib'"
     ]
    }
   ],
   "source": [
    "%matplotlib inline"
   ]
  },
  {
   "cell_type": "markdown",
   "id": "2567cc16",
   "metadata": {},
   "source": [
    "### Jupyter executation cell time "
   ]
  },
  {
   "cell_type": "code",
   "execution_count": 4,
   "id": "6d79140b",
   "metadata": {
    "ExecuteTime": {
     "end_time": "2021-07-09T17:14:30.286977Z",
     "start_time": "2021-07-09T17:14:30.285034Z"
    }
   },
   "outputs": [],
   "source": [
    "# !pip install jupyter_contrib_nbextensions\n",
    "# !jupyter contrib nbextension install --user\n",
    "# # Getting the execution time of each cell:\n",
    "#!jupyter nbextension enable execute_time/ExecuteTime"
   ]
  },
  {
   "cell_type": "markdown",
   "id": "85288efe",
   "metadata": {},
   "source": [
    "### Table of content extenation "
   ]
  },
  {
   "cell_type": "code",
   "execution_count": 5,
   "id": "6b5ec41b",
   "metadata": {
    "ExecuteTime": {
     "end_time": "2021-07-09T17:14:31.147100Z",
     "start_time": "2021-07-09T17:14:31.144704Z"
    }
   },
   "outputs": [],
   "source": [
    "# !jupyter nbextension install --user https://rawgithub.com/minrk/ipython_extensions/master/nbextensions/toc.js\n",
    "# !curl -L https://rawgithub.com/minrk/ipython_extensions/master/nbextensions/toc.css > $(jupyter --data-dir)/nbextensions/toc.css\n",
    "# !jupyter nbextension enable toc2/main  # Or use toc"
   ]
  },
  {
   "cell_type": "markdown",
   "id": "e67a749e",
   "metadata": {},
   "source": [
    "### FancyTable for Pandas"
   ]
  },
  {
   "cell_type": "markdown",
   "id": "d27898c8",
   "metadata": {},
   "source": [
    "```shell\n",
    "!pip install fancytable\n",
    "import fancytable as ft\n",
    "```"
   ]
  },
  {
   "cell_type": "markdown",
   "id": "99140f70",
   "metadata": {},
   "source": [
    "### AutoReloader (investigate) \n",
    "```bash\n",
    "%load_ext autoreload\n",
    "%autoreload \n",
    "```"
   ]
  },
  {
   "cell_type": "markdown",
   "id": "744a8900",
   "metadata": {},
   "source": [
    "## Customize Pandas "
   ]
  },
  {
   "cell_type": "markdown",
   "id": "848769d3",
   "metadata": {},
   "source": [
    "[5 Tips to customize the display of your pandas data frame](https://towardsdatascience.com/6-tips-to-customize-the-display-of-your-pandas-data-frame-ce5a8caa7783)\n",
    "Checklist:\n",
    "1. Display of Columns\n",
    "2. Display of Rows\n",
    "3. Width of the cell\n",
    "4. Decimal value formatting\n",
    "5. Data frame info"
   ]
  },
  {
   "cell_type": "markdown",
   "id": "0422e66b",
   "metadata": {},
   "source": [
    "### Alter Display of columns \n",
    "n to alter the number of columns to be displayed on the output cell. Using `pd.set_option(“display.max_columns”, x)`, the number of displayed columns will be changed to x. If None is passed in place of x, then all the columns will be displayed in the output cell. "
   ]
  },
  {
   "cell_type": "markdown",
   "id": "4d8a4b3e",
   "metadata": {
    "ExecuteTime": {
     "end_time": "2021-07-09T12:28:05.523180Z",
     "start_time": "2021-07-09T12:28:05.508564Z"
    }
   },
   "source": [
    "```shell\n",
    "pd.get_option(\"display.max_columns\")\n",
    "```"
   ]
  },
  {
   "cell_type": "markdown",
   "id": "d0be35df",
   "metadata": {},
   "source": [
    "### Alter Display of Rows \n",
    "One can alter the number of rows to be displayed in the output cell using `pd.set_option(“display.max_rows”, x)` , when None replaced with x displays all the rows in the data frame. One can scroll down and visualize the values of the data frame.\n"
   ]
  },
  {
   "cell_type": "markdown",
   "id": "206d93eb",
   "metadata": {},
   "source": [
    "```shell\n",
    "pd.get_option(\"display.max_rows\")\n",
    "```"
   ]
  },
  {
   "cell_type": "markdown",
   "id": "c9fe5148",
   "metadata": {},
   "source": [
    "### Alter Width of the cell\n",
    "The text values in the review column in truncated after 50 characters.pandas.display.options provides capabilities to alter the number of characters to be displayed in the output cell, using `pd.set_option(“display.max_colwidth”, x)` where x is the number of characters.\n"
   ]
  },
  {
   "cell_type": "markdown",
   "id": "d181ba8c",
   "metadata": {},
   "source": [
    "```shell\n",
    "pd.set_option(\"display.max_colwidth\", 100)\n",
    "```"
   ]
  },
  {
   "cell_type": "markdown",
   "id": "b40242ca",
   "metadata": {},
   "source": [
    "### Decimal Value formatting \n",
    "If you print the first row values of V1 column, we get the real feature values that have 13 digits after the decimal-1.3598071336738 .\n",
    "   `pandas.display.options` provides capabilities to alter the precision of the floating-point numbers, `using pd.set_option(“display.precision”, x)` where x is the precision."
   ]
  },
  {
   "cell_type": "markdown",
   "id": "9ea1581c",
   "metadata": {},
   "source": [
    "```shell\n",
    "pd.set_option(\"display.precision\",x)\n",
    "```"
   ]
  },
  {
   "cell_type": "markdown",
   "id": "5914f0c9",
   "metadata": {},
   "source": [
    "### DataFrame Info\n",
    "dataframe.info() is a popular function in Pandas, to get an overview profile of the data frame. This displays the column name, Non-null values count, the datatype of the column for the data frame.\n",
    "The info() function has its constraints limited to a data frame with 100 features or columns. The below-mentioned image displays what info() function returns for a dataset with just 2 features.\n",
    "\n",
    "For a dataset with more than 100 features, info() functions do not return with the column name, Non-null values count, the datatype for each of the columns.\n",
    "One can alter the default constraints of max_info_columns, to get the entire profile overview of the data frame.\n"
   ]
  },
  {
   "cell_type": "markdown",
   "id": "b0396603",
   "metadata": {},
   "source": [
    "```shell\n",
    "pd.get_option('display.max_info_columns')\n",
    "pd.get_option('display.max_info_columns', 200)\n",
    "```"
   ]
  },
  {
   "cell_type": "markdown",
   "id": "43a9a96d",
   "metadata": {},
   "source": [
    "## Variable inspector: keep track of your workspace\n",
    "Use the icon in the menu bar, "
   ]
  },
  {
   "cell_type": "markdown",
   "id": "fa955832",
   "metadata": {
    "ExecuteTime": {
     "end_time": "2021-07-09T13:33:56.735592Z",
     "start_time": "2021-07-09T13:33:56.726522Z"
    }
   },
   "source": [
    "check the `variable inspector` from the jupyter extensions"
   ]
  },
  {
   "cell_type": "markdown",
   "id": "f7a20cb4",
   "metadata": {},
   "source": [
    "## Initialize Cell\n",
    "This will allow us to get certain cells to be initizliaed while running the code "
   ]
  },
  {
   "cell_type": "code",
   "execution_count": 6,
   "id": "60bf3333",
   "metadata": {
    "ExecuteTime": {
     "end_time": "2021-07-09T17:14:47.332178Z",
     "start_time": "2021-07-09T17:14:46.137845Z"
    }
   },
   "outputs": [
    {
     "name": "stdout",
     "output_type": "stream",
     "text": [
      "Requirement already satisfied: numpy in /Users/ghasak.ibrahim/.local/share/virtualenvs/fancyJupyter-BPTcraDm/lib/python3.8/site-packages (1.21.0)\r\n"
     ]
    }
   ],
   "source": [
    "!pip install numpy\n"
   ]
  },
  {
   "cell_type": "markdown",
   "id": "97893e4d",
   "metadata": {},
   "source": [
    "### Split the cells \n",
    "You can use `shift + s` to split the cells \n"
   ]
  },
  {
   "cell_type": "code",
   "execution_count": 7,
   "id": "e3c0e64f",
   "metadata": {
    "ExecuteTime": {
     "end_time": "2021-07-09T17:14:47.343021Z",
     "start_time": "2021-07-09T17:14:47.334341Z"
    },
    "cell_style": "split"
   },
   "outputs": [
    {
     "ename": "ModuleNotFoundError",
     "evalue": "No module named 'pandas'",
     "output_type": "error",
     "traceback": [
      "\u001b[0;31m---------------------------------------------------------------------------\u001b[0m",
      "\u001b[0;31mModuleNotFoundError\u001b[0m                       Traceback (most recent call last)",
      "\u001b[0;32m/var/folders/sn/mc447sys0bsftdkhrr76psqw0000gp/T/ipykernel_31665/4254368574.py\u001b[0m in \u001b[0;36m<module>\u001b[0;34m\u001b[0m\n\u001b[0;32m----> 1\u001b[0;31m \u001b[0;32mimport\u001b[0m \u001b[0mpandas\u001b[0m \u001b[0;32mas\u001b[0m \u001b[0mpd\u001b[0m\u001b[0;34m\u001b[0m\u001b[0;34m\u001b[0m\u001b[0m\n\u001b[0m\u001b[1;32m      2\u001b[0m \u001b[0;32mimport\u001b[0m \u001b[0mnumpy\u001b[0m \u001b[0;32mas\u001b[0m \u001b[0mnp\u001b[0m\u001b[0;34m\u001b[0m\u001b[0;34m\u001b[0m\u001b[0m\n\u001b[1;32m      3\u001b[0m \u001b[0;34m\u001b[0m\u001b[0m\n\u001b[1;32m      4\u001b[0m \u001b[0mdf_1\u001b[0m \u001b[0;34m=\u001b[0m \u001b[0mpd\u001b[0m\u001b[0;34m.\u001b[0m\u001b[0mDataFrame\u001b[0m\u001b[0;34m(\u001b[0m\u001b[0mnp\u001b[0m\u001b[0;34m.\u001b[0m\u001b[0mrandom\u001b[0m\u001b[0;34m.\u001b[0m\u001b[0mrandint\u001b[0m\u001b[0;34m(\u001b[0m\u001b[0;36m0\u001b[0m\u001b[0;34m,\u001b[0m \u001b[0;36m100\u001b[0m\u001b[0;34m,\u001b[0m \u001b[0msize\u001b[0m\u001b[0;34m=\u001b[0m\u001b[0;34m(\u001b[0m\u001b[0;36m100\u001b[0m\u001b[0;34m,\u001b[0m \u001b[0;36m4\u001b[0m\u001b[0;34m)\u001b[0m\u001b[0;34m)\u001b[0m\u001b[0;34m,\u001b[0m \u001b[0mcolumns\u001b[0m\u001b[0;34m=\u001b[0m\u001b[0mlist\u001b[0m\u001b[0;34m(\u001b[0m\u001b[0;34m\"ABCD\"\u001b[0m\u001b[0;34m)\u001b[0m\u001b[0;34m)\u001b[0m\u001b[0;34m\u001b[0m\u001b[0;34m\u001b[0m\u001b[0m\n\u001b[1;32m      5\u001b[0m \u001b[0mdf_1\u001b[0m\u001b[0;34m.\u001b[0m\u001b[0mdescribe\u001b[0m\u001b[0;34m(\u001b[0m\u001b[0;34m)\u001b[0m\u001b[0;34m\u001b[0m\u001b[0;34m\u001b[0m\u001b[0m\n",
      "\u001b[0;31mModuleNotFoundError\u001b[0m: No module named 'pandas'"
     ]
    }
   ],
   "source": [
    "import pandas as pd\n",
    "import numpy as np\n",
    "\n",
    "df_1 = pd.DataFrame(np.random.randint(0, 100, size=(100, 4)), columns=list(\"ABCD\"))\n",
    "df_1.describe()\n"
   ]
  },
  {
   "cell_type": "code",
   "execution_count": null,
   "id": "0f1189cd",
   "metadata": {
    "ExecuteTime": {
     "end_time": "2021-07-09T17:14:47.344493Z",
     "start_time": "2021-07-09T17:14:47.344482Z"
    },
    "cell_style": "split"
   },
   "outputs": [],
   "source": [
    "df_2 = pd.DataFrame(np.random.randint(0, 100, size=(100, 4)), columns=list(\"ABCD\"))\n",
    "df_2.describe()\n"
   ]
  },
  {
   "cell_type": "markdown",
   "id": "8059e4b2",
   "metadata": {},
   "source": [
    "### Collapsible headings\n",
    "This is another extension that helps you navigate through your notebook.\n",
    "\n",
    "Once you have installed it you will be able to collapse or expand sections below the headings with toggles that appear on the right-hand sides next to the heading text.\n"
   ]
  },
  {
   "cell_type": "markdown",
   "id": "b2c92682",
   "metadata": {
    "cell_style": "center"
   },
   "source": [
    "### Skip-traceback\n",
    "This extension allows you to skip the traceback when an error in the code is thrown. Instead of the whole traceback, it shows you the error name and short error description.\n",
    "\n",
    "So this is how the normal error looks like in Jupyter without the extension."
   ]
  },
  {
   "cell_type": "markdown",
   "id": "73543603",
   "metadata": {},
   "source": [
    "## JupyterLab System Monitor\n",
    "\n",
    "```shell\n",
    "pip install jupyterlab-system-monitor\n",
    "```"
   ]
  },
  {
   "cell_type": "markdown",
   "id": "1454a96c",
   "metadata": {},
   "source": [
    "## Vim with Jupyter\n",
    "\n",
    "- [JupyterNotebook with vim](https://github.com/lambdalisue/jupyter-vim-binding)"
   ]
  },
  {
   "cell_type": "markdown",
   "id": "58974e34",
   "metadata": {
    "ExecuteTime": {
     "end_time": "2021-07-10T04:31:39.924254Z",
     "start_time": "2021-07-10T04:31:39.920050Z"
    }
   },
   "source": [
    "### Installing the jupyterNotebook  \n",
    "```shell\n",
    "cd $(jupyter --data-dir)/nbextensions\n",
    "git clone https://github.com/lambdalisue/jupyter-vim-binding vim_binding\n",
    "jupyter nbextension enable vim_binding/vim_binding\n",
    "```"
   ]
  },
  {
   "cell_type": "markdown",
   "id": "73b96b46",
   "metadata": {},
   "source": [
    "#### Completion and Tooltip\n",
    "- Don't use ever (hinterland) extension with the jupyter-vim, due to incompatibility issue. \n",
    "- Jupyter-vim-binding supports <C-n>/<C-p> completion and <C-g> tool-tip in a code cell (not in markdown / raw cell). These mappings are not listed in a help panel, due to a technical limitation.\n",
    "- When the user hits <C-n> or <C-p>, a completion panel like below will be shown. Once the completion panel is shown, users can select a candidate by <C-n>/<C-p> and apply by <Enter> or cancel by <Esc>.\n",
    "- When user hit <C-g>, a tool-tip panel like below will be shown. The tool-tip will disappear when users perform some actions like hitting a key.\n",
    "\n"
   ]
  },
  {
   "cell_type": "markdown",
   "id": "b7f3fcb2",
   "metadata": {},
   "source": [
    "## Nbdime for better version control "
   ]
  },
  {
   "cell_type": "markdown",
   "id": "3ee31b5d",
   "metadata": {},
   "source": [
    "Installing the `nbdime` should be done using pip as:\n",
    "\n",
    "```bash \n",
    "pip install nbdime \n",
    "```"
   ]
  },
  {
   "cell_type": "markdown",
   "id": "a4b46a0d",
   "metadata": {},
   "source": [
    "## System Monitoring with JupyterNotebook \n"
   ]
  },
  {
   "cell_type": "markdown",
   "id": "9bbbec06",
   "metadata": {},
   "source": [
    "## Installing (still doesn't work )\n",
    "```bash \n",
    "brew install node\n",
    "pip install jupyterlab\n",
    "pip install nbresuse==0.3.6\n",
    "jupyter labextension install jupyterlab-topbar-extension jupyterlab-system-monitor\n",
    "jupyter notebook --generate-config\n",
    "# Generate the jupyter config and fill the display config\n",
    "c.NotebookApp.ResourceUseDisplay.mem_limit = 16 * 1024 ** 3\n",
    "c.NotebookApp.ResourceUseDisplay.track_cpu_percent = True\n",
    "c.NotebookApp.ResourceUseDisplay.cpu_limit = 8\n",
    "```"
   ]
  },
  {
   "cell_type": "markdown",
   "id": "b522f761",
   "metadata": {},
   "source": [
    "## References \n",
    "- [Top 9 Jupyter NoteBook Extensions](https://www.aboutdatablog.com/post/top-9-jupyter-notebook-extensions)\n",
    "\n",
    "- [Managing Extension with jupyter labextension](https://jupyterlab.readthedocs.io/en/stable/user/extensions.html#managing-extensions-with-jupyter-labextension)\n",
    "- [Jupyterlab system moonitor](https://github.com/jtpio/jupyterlab-system-monitor)\n",
    "- [4 Tools for Reproducible Jupyter Notebook](https://towardsdatascience.com/4-tools-for-reproducible-jupyter-notebooks-d7423721bd04)\n",
    "- [Jupyter System Monitor](https://prpr.tw/posts/jupyterlab-with-system-monitor/)"
   ]
  },
  {
   "cell_type": "markdown",
   "id": "578bb8aa",
   "metadata": {},
   "source": [
    "## Examples "
   ]
  },
  {
   "cell_type": "code",
   "execution_count": 9,
   "id": "da903ffb",
   "metadata": {
    "ExecuteTime": {
     "end_time": "2021-07-09T17:14:52.466997Z",
     "start_time": "2021-07-09T17:14:51.409253Z"
    }
   },
   "outputs": [
    {
     "name": "stdout",
     "output_type": "stream",
     "text": [
      "1048576\n"
     ]
    }
   ],
   "source": [
    "arr = bytearray(1 << 31)\n",
    "del arr\n",
    "x = 1\n",
    "while True:\n",
    "    x = x + x\n",
    "    if x > 1000000:\n",
    "        print(x)\n",
    "        break"
   ]
  },
  {
   "cell_type": "code",
   "execution_count": 6,
   "id": "a1ae90b4",
   "metadata": {
    "ExecuteTime": {
     "end_time": "2021-07-10T05:16:44.843022Z",
     "start_time": "2021-07-10T05:16:44.837631Z"
    }
   },
   "outputs": [],
   "source": [
    "class Vector2D:\n",
    "    def __init__(self, x, y):\n",
    "        self.x = x\n",
    "        self.y = y\n",
    "\n",
    "    def __str__(self):\n",
    "        return f\"Using the class {self.__class__.__name__} to create a vector: <{self.x},{self.y}>\"\n",
    "\n",
    "    def add(self, other):\n",
    "        if other is not None and isinstance(other, Vector2D):\n",
    "            return f\"Adding two vectors: <{self.x},{self.y}> + <{other.x},{other.y}> = <{self.x + other.x},{self.y + other.y}>\"\n",
    "        else:\n",
    "            return f\"You must specify a vector <x,y> for the adding operation \"\n",
    "        return self.x + self.y\n",
    "    def subtract(self, other):\n",
    "        if other is not None and isinstance(other, Vector2D):\n",
    "            return f\"Adding two vectors: <{self.x},{self.y}> - <{other.x},{other.y}> = <{self.x - other.x},{self.y - other.y}>\"\n",
    "        else:\n",
    "            return f\"You must specify a vector <x,y> for the adding operation \"\n",
    "    def multi(self):\n",
    "        return self.x * self.y\n",
    "    def divide(self):\n",
    "        assert self.y != 0\n",
    "        self.addx / self.y"
   ]
  },
  {
   "cell_type": "code",
   "execution_count": 7,
   "id": "14652c66",
   "metadata": {
    "ExecuteTime": {
     "end_time": "2021-07-10T05:16:46.077167Z",
     "start_time": "2021-07-10T05:16:46.074207Z"
    }
   },
   "outputs": [
    {
     "name": "stdout",
     "output_type": "stream",
     "text": [
      "Using the class Vector2D to create a vector: <10,20>\n"
     ]
    }
   ],
   "source": [
    "obj =Vector2D(10,20)\n",
    "print(obj)"
   ]
  },
  {
   "cell_type": "code",
   "execution_count": 8,
   "id": "8a3221dc",
   "metadata": {
    "ExecuteTime": {
     "end_time": "2021-07-10T05:16:46.916844Z",
     "start_time": "2021-07-10T05:16:46.912551Z"
    }
   },
   "outputs": [
    {
     "data": {
      "text/plain": [
       "'Adding two vectors: <10,20> + <10,10> = <20,30>'"
      ]
     },
     "execution_count": 8,
     "metadata": {},
     "output_type": "execute_result"
    }
   ],
   "source": [
    "obj.add(Vector2D(10,10))"
   ]
  },
  {
   "cell_type": "code",
   "execution_count": 9,
   "id": "45369538",
   "metadata": {
    "ExecuteTime": {
     "end_time": "2021-07-10T05:16:47.385365Z",
     "start_time": "2021-07-10T05:16:47.381569Z"
    }
   },
   "outputs": [
    {
     "data": {
      "text/plain": [
       "'Adding two vectors: <10,20> - <10,10> = <0,10>'"
      ]
     },
     "execution_count": 9,
     "metadata": {},
     "output_type": "execute_result"
    }
   ],
   "source": [
    "obj.subtract(Vector2D(10,10))"
   ]
  },
  {
   "cell_type": "markdown",
   "id": "46a653ed",
   "metadata": {
    "ExecuteTime": {
     "end_time": "2021-07-10T12:13:38.563068Z",
     "start_time": "2021-07-10T12:13:38.558347Z"
    }
   },
   "source": [
    "## Another Example "
   ]
  },
  {
   "cell_type": "code",
   "execution_count": 6,
   "id": "6a2226f2",
   "metadata": {
    "ExecuteTime": {
     "end_time": "2021-07-10T12:13:38.563068Z",
     "start_time": "2021-07-10T12:13:38.558347Z"
    }
   },
   "outputs": [],
   "source": [
    "class Vector2d():\n",
    "    def __init__(self, x, y ):\n",
    "        self.x = x \n",
    "        self.y = y \n",
    "    def __str__(self):\n",
    "        return f'Vector <{self.x:>2},{self.y:>2}> created using Class: {self.__class__.__name__}'\n",
    "    def __add__(self, other):\n",
    "        if other is not None and isinstance(other, Vector2d):\n",
    "            return Vector2d(self.x + other.x, self.y + other.y)\n",
    "        elif isinstance(other, (float, int)):\n",
    "            return Vector2d(self.x + other, self.y)\n",
    "        elif isinstance(other, (list, tuple)) and len(other) ==2:\n",
    "            return Vector2d(self.x + other[0], self.y + other[1])\n",
    "        else:\n",
    "            return f'Uknown {other} datatype, please use {self.__class__.__name__} datatype instead'"
   ]
  },
  {
   "cell_type": "markdown",
   "id": "78006cb4",
   "metadata": {},
   "source": [
    "### Vector with vector type"
   ]
  },
  {
   "cell_type": "code",
   "execution_count": 7,
   "id": "0b7572e4",
   "metadata": {
    "ExecuteTime": {
     "end_time": "2021-07-10T12:13:39.633740Z",
     "start_time": "2021-07-10T12:13:39.630896Z"
    }
   },
   "outputs": [
    {
     "name": "stdout",
     "output_type": "stream",
     "text": [
      "Vector <15,15> created using Class: Vector2d\n"
     ]
    }
   ],
   "source": [
    "a = Vector2d(10,10)\n",
    "b = Vector2d(5,5)\n",
    "print(a+b)"
   ]
  },
  {
   "cell_type": "markdown",
   "id": "3a9c04ac",
   "metadata": {},
   "source": [
    "### Vector with scalar "
   ]
  },
  {
   "cell_type": "code",
   "execution_count": 8,
   "id": "c66f1f27",
   "metadata": {
    "ExecuteTime": {
     "end_time": "2021-07-10T12:13:40.440472Z",
     "start_time": "2021-07-10T12:13:40.437207Z"
    }
   },
   "outputs": [
    {
     "name": "stdout",
     "output_type": "stream",
     "text": [
      "Vector <13,10> created using Class: Vector2d\n"
     ]
    }
   ],
   "source": [
    "print(a + 3)"
   ]
  },
  {
   "cell_type": "markdown",
   "id": "723fe104",
   "metadata": {},
   "source": [
    "### Vector with List "
   ]
  },
  {
   "cell_type": "code",
   "execution_count": 11,
   "id": "c09cc77f",
   "metadata": {
    "ExecuteTime": {
     "end_time": "2021-07-10T12:17:31.732534Z",
     "start_time": "2021-07-10T12:17:31.729555Z"
    }
   },
   "outputs": [
    {
     "name": "stdout",
     "output_type": "stream",
     "text": [
      "Vector <11,12> created using Class: Vector2d\n"
     ]
    }
   ],
   "source": [
    "print(a + [1,2])"
   ]
  },
  {
   "cell_type": "markdown",
   "id": "add7d4a0",
   "metadata": {},
   "source": [
    "### Vector with tuple "
   ]
  },
  {
   "cell_type": "code",
   "execution_count": 12,
   "id": "8d627e4e",
   "metadata": {
    "ExecuteTime": {
     "end_time": "2021-07-10T12:17:39.361108Z",
     "start_time": "2021-07-10T12:17:39.358071Z"
    }
   },
   "outputs": [
    {
     "name": "stdout",
     "output_type": "stream",
     "text": [
      "Vector <11,12> created using Class: Vector2d\n"
     ]
    }
   ],
   "source": [
    "print(a + (1,2))"
   ]
  },
  {
   "cell_type": "code",
   "execution_count": null,
   "id": "7364c6e7",
   "metadata": {},
   "outputs": [],
   "source": []
  }
 ],
 "metadata": {
  "celltoolbar": "Initialization Cell",
  "gist": {
   "data": {
    "description": "The_Ultimate_guide_for_JupyterNoteBook.ipynb",
    "public": true
   },
   "id": ""
  },
  "kernelspec": {
   "display_name": "Python 3",
   "language": "python",
   "name": "python3"
  },
  "language_info": {
   "codemirror_mode": {
    "name": "ipython",
    "version": 3
   },
   "file_extension": ".py",
   "mimetype": "text/x-python",
   "name": "python",
   "nbconvert_exporter": "python",
   "pygments_lexer": "ipython3",
   "version": "3.8.8"
  },
  "latex_envs": {
   "LaTeX_envs_menu_present": true,
   "autoclose": true,
   "autocomplete": true,
   "bibliofile": "biblio.bib",
   "cite_by": "apalike",
   "current_citInitial": 1,
   "eqLabelWithNumbers": true,
   "eqNumInitial": 1,
   "hotkeys": {
    "equation": "Ctrl-E",
    "itemize": "Ctrl-I"
   },
   "labels_anchors": false,
   "latex_user_defs": false,
   "report_style_numbering": true,
   "user_envs_cfg": false
  },
  "toc": {
   "base_numbering": 1,
   "nav_menu": {},
   "number_sections": true,
   "sideBar": false,
   "skip_h1_title": false,
   "title_cell": "Table of Contents",
   "title_sidebar": "Contents",
   "toc_cell": true,
   "toc_position": {
    "height": "755px",
    "left": "21px",
    "top": "156px",
    "width": "339px"
   },
   "toc_section_display": true,
   "toc_window_display": true
  },
  "varInspector": {
   "cols": {
    "lenName": 16,
    "lenType": 16,
    "lenVar": 40
   },
   "kernels_config": {
    "python": {
     "delete_cmd_postfix": "",
     "delete_cmd_prefix": "del ",
     "library": "var_list.py",
     "varRefreshCmd": "print(var_dic_list())"
    },
    "r": {
     "delete_cmd_postfix": ") ",
     "delete_cmd_prefix": "rm(",
     "library": "var_list.r",
     "varRefreshCmd": "cat(var_dic_list()) "
    }
   },
   "position": {
    "height": "633.991px",
    "left": "1949.99px",
    "right": "20px",
    "top": "134px",
    "width": "325px"
   },
   "types_to_exclude": [
    "module",
    "function",
    "builtin_function_or_method",
    "instance",
    "_Feature"
   ],
   "window_display": true
  }
 },
 "nbformat": 4,
 "nbformat_minor": 5
}
